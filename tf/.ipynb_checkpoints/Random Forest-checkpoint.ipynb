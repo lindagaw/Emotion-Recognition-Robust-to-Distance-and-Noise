{
 "cells": [
  {
   "cell_type": "code",
   "execution_count": null,
   "metadata": {},
   "outputs": [
    {
     "name": "stderr",
     "output_type": "stream",
     "text": [
      "Using TensorFlow backend.\n"
     ]
    }
   ],
   "source": [
    "from sklearn import tree\n",
    "import graphviz\n",
    "import numpy as np\n",
    "import os\n",
    "from keras.utils import to_categorical\n",
    "from keras.models import load_model\n",
    "import keras.models\n",
    "\n",
    "import pickle\n",
    "\n",
    "from sklearn.metrics import accuracy_score\n",
    "from sklearn.preprocessing import StandardScaler\n",
    "\n",
    "from sklearn.ensemble import RandomForestClassifier\n",
    "\n",
    "import random"
   ]
  },
  {
   "cell_type": "code",
   "execution_count": null,
   "metadata": {},
   "outputs": [],
   "source": [
    "def load_X(x_directory, label):\n",
    "    X = np.array([])\n",
    "    Y = []\n",
    "    for file in os.listdir(x_directory):\n",
    "        if file.endswith('.npy'):\n",
    "            x = np.load(x_directory + file)\n",
    "            x = np.array(list(x))\n",
    "            if len(X) == 0:\n",
    "                X = x\n",
    "            else:\n",
    "                X = np.vstack((X,x))\n",
    "            \n",
    "            Y.append(label)\n",
    "\n",
    "    return X, Y"
   ]
  },
  {
   "cell_type": "code",
   "execution_count": null,
   "metadata": {},
   "outputs": [],
   "source": [
    "CaFE_happy = 'D://Datasets//CaFE//npy//Happy//two//'\n",
    "CaFE_angry = 'D://Datasets//CaFE//npy//Angry//two//'\n",
    "CaFE_neutral = 'D://Datasets//CaFE//npy//Neutral//two//'\n",
    "CaFE_sad = 'D://Datasets//CaFE//npy//Sad//two//'\n",
    "\n",
    "CaFE_npy = [CaFE_happy, CaFE_angry, CaFE_neutral, CaFE_sad]"
   ]
  },
  {
   "cell_type": "code",
   "execution_count": null,
   "metadata": {},
   "outputs": [],
   "source": [
    "X_happy, Y_happy = load_X(CaFE_npy[0], 0)\n",
    "X_angry, Y_angry = load_X(CaFE_npy[1], 0)\n",
    "X_neutral, Y_neutral = load_X(CaFE_npy[2], 1)\n",
    "X_sad, Y_sad = load_X(CaFE_npy[3], 1)\n",
    "\n",
    "Xs = [X_happy, X_angry, X_neutral, X_sad]\n",
    "Ys = [Y_happy, Y_angry, Y_neutral, Y_sad]\n",
    "\n",
    "X = []\n",
    "Y = []\n",
    "\n",
    "for item in Xs:\n",
    "    if len(X) == 0: X = item\n",
    "    else: X = np.vstack((X,item))\n",
    "featureSet = X\n",
    "\n",
    "for item in Ys:\n",
    "    Y = Y + item\n",
    "Label = (np.array(Y))\n",
    "\n",
    "scaler = StandardScaler()\n",
    "print(scaler.fit(X))\n",
    "featureSet = scaler.transform(X)"
   ]
  },
  {
   "cell_type": "code",
   "execution_count": null,
   "metadata": {},
   "outputs": [],
   "source": [
    "X, X_test, Y, Y_test= train_test_split(featureSet, Label, test_size=0.25)\n",
    "seed = 7\n",
    "num_trees = 272\n",
    "\n",
    "forest = RandomForestClassifier(n_estimators=num_trees, max_depth=2, random_state=int(random(0, 100)))\n",
    "\n",
    "forest.fit(X,Y)"
   ]
  },
  {
   "cell_type": "code",
   "execution_count": null,
   "metadata": {},
   "outputs": [],
   "source": [
    "pred = clf.predict(X)"
   ]
  },
  {
   "cell_type": "code",
   "execution_count": null,
   "metadata": {},
   "outputs": [],
   "source": [
    "accuracy_score(Label, pred)"
   ]
  },
  {
   "cell_type": "code",
   "execution_count": null,
   "metadata": {},
   "outputs": [],
   "source": [
    "dot_data = tree.export_graphviz(clf, out_file=None) \n",
    "graph = graphviz.Source(dot_data) \n",
    "graph.render(\"iris\") "
   ]
  },
  {
   "cell_type": "code",
   "execution_count": null,
   "metadata": {},
   "outputs": [],
   "source": [
    "filename = '..//..//modules//tf//Top_random_forest.sav'\n",
    "pickle.dump(clf, open(filename, 'wb'))"
   ]
  },
  {
   "cell_type": "code",
   "execution_count": null,
   "metadata": {},
   "outputs": [],
   "source": [
    "load_lr_model = pickle.load(open(filename, 'rb'))"
   ]
  }
 ],
 "metadata": {
  "kernelspec": {
   "display_name": "Python 3",
   "language": "python",
   "name": "python3"
  },
  "language_info": {
   "codemirror_mode": {
    "name": "ipython",
    "version": 3
   },
   "file_extension": ".py",
   "mimetype": "text/x-python",
   "name": "python",
   "nbconvert_exporter": "python",
   "pygments_lexer": "ipython3",
   "version": "3.6.8"
  }
 },
 "nbformat": 4,
 "nbformat_minor": 2
}
