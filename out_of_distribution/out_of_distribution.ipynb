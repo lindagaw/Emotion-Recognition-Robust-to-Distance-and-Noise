{
 "cells": [
  {
   "cell_type": "code",
   "execution_count": 7,
   "metadata": {},
   "outputs": [],
   "source": [
    "from scipy.spatial import distance\n",
    "import numpy as np"
   ]
  },
  {
   "cell_type": "raw",
   "metadata": {},
   "source": [
    "Emprical class mean of training samples (x, y) s.t. x in X and y in Y"
   ]
  },
  {
   "cell_type": "code",
   "execution_count": 23,
   "metadata": {},
   "outputs": [],
   "source": [
    "def empirical_class_mean(X, Y, c, func):\n",
    "    \"\"\"\n",
    "    X is of shame (batch, num_of_small_segs, feats_in_one_seg).\n",
    "    Y is of shape (batch, class).\n",
    "    c is a class, of type integer.\n",
    "    func is the output of the penultimate layer of DNNs. \n",
    "    func should be called as func(x), s.t. x is one xample in X.\n",
    "    \"\"\"\n",
    "    \n",
    "    # get 1/N_c, the number of training samples with label c\n",
    "    N_c = 0\n",
    "    for item in Y:\n",
    "        nonzeroind = np.nonzero(item)[0][0]\n",
    "        if item[nonzeroind] == c:\n",
    "            N_c += 1\n",
    "    \n",
    "    sum_func = 0\n",
    "    for index in range(0, len(Y)):\n",
    "        if Y[index] == c:\n",
    "            sum_func += func(X[index])\n",
    "    \n",
    "    return sum_func / N_c"
   ]
  },
  {
   "cell_type": "code",
   "execution_count": 32,
   "metadata": {},
   "outputs": [],
   "source": [
    "def emprical_covariance(X, Y, C, func):\n",
    "    assert len(X) == len(Y)\n",
    "    N = len(Y)\n",
    "    \n",
    "    sum_all_classes = 0\n",
    "    for c in C:\n",
    "        sum_single_c = 0\n",
    "        for index in range(0, len(Y)):\n",
    "            if Y[index] == c:\n",
    "                difference = func(X[index]) - empirical_class_mean(X, Y, c, func)\n",
    "                transpose = np.transpose(difference)\n",
    "                result = difference * transpose\n",
    "                sum_single_c += result\n",
    "        sum_all_classes += sum_single_c\n",
    "        \n",
    "    covariance = sum_all_classes/N\n",
    "    \n",
    "    return covariance"
   ]
  },
  {
   "cell_type": "code",
   "execution_count": 33,
   "metadata": {},
   "outputs": [],
   "source": [
    "X = np.array([[1,2,5], [3,4,6]])\n",
    "Y = np.array([[1],[2]])\n",
    "C = [1,2]"
   ]
  },
  {
   "cell_type": "code",
   "execution_count": 34,
   "metadata": {},
   "outputs": [
    {
     "data": {
      "text/plain": [
       "0.0"
      ]
     },
     "execution_count": 34,
     "metadata": {},
     "output_type": "execute_result"
    }
   ],
   "source": [
    "def func(x):\n",
    "    return 0\n",
    "\n",
    "emprical_covariance(X, Y, C, func)"
   ]
  },
  {
   "cell_type": "markdown",
   "metadata": {},
   "source": [
    "Covariance of training samples (x, y)"
   ]
  }
 ],
 "metadata": {
  "kernelspec": {
   "display_name": "Python 3",
   "language": "python",
   "name": "python3"
  },
  "language_info": {
   "codemirror_mode": {
    "name": "ipython",
    "version": 3
   },
   "file_extension": ".py",
   "mimetype": "text/x-python",
   "name": "python",
   "nbconvert_exporter": "python",
   "pygments_lexer": "ipython3",
   "version": "3.7.4"
  }
 },
 "nbformat": 4,
 "nbformat_minor": 2
}
