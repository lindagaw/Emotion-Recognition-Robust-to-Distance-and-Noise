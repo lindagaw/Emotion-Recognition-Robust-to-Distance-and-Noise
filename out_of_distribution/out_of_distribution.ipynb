{
 "cells": [
  {
   "cell_type": "code",
   "execution_count": 20,
   "metadata": {},
   "outputs": [],
   "source": [
    "from scipy.spatial import distance\n",
    "from scipy.spatial.distance import cdist\n",
    "import numpy as np\n",
    "# paper: https://arxiv.org/pdf/1807.03888.pdf"
   ]
  },
  {
   "cell_type": "code",
   "execution_count": 21,
   "metadata": {},
   "outputs": [],
   "source": [
    "def empirical_class_mean(X, Y, c, func, penultimate_neuron_num):\n",
    "    \"\"\"\n",
    "    X is of shame (batch, num_of_small_segs, feats_in_one_seg).\n",
    "    Y is of shape (batch, class).\n",
    "    c is a class, of type integer.\n",
    "    func is the output of the penultimate layer of DNNs. \n",
    "    func should be called as func(x), s.t. x is one xample in X.\n",
    "    \"\"\"\n",
    "    \n",
    "    # get 1/N_c, the number of training samples with label c\n",
    "    N_c = 0\n",
    "    for item in Y:\n",
    "        if np.amax(item) == c:\n",
    "            N_c += 1\n",
    "    \n",
    "    sum_func = np.array([0] * penultimate_neuron_num)\n",
    "    for index in range(0, len(Y)):\n",
    "        if Y[index] == c:\n",
    "            sum_func = np.add(func(X[index]), sum_func) #func() results in the output of the penultimate layer of the DNN \n",
    "    \n",
    "    return sum_func / N_c"
   ]
  },
  {
   "cell_type": "code",
   "execution_count": 22,
   "metadata": {},
   "outputs": [],
   "source": [
    "def empirical_class_means(X, Y, C, func, penultimate_neuron_num):\n",
    "    \"\"\"\n",
    "    Calculate the empirical class means for all classes and output a numpy array.\n",
    "    \"\"\"\n",
    "    result = []\n",
    "    for c in C:\n",
    "        miu = empirical_class_mean(X, Y, c, func, penultimate_neuron_num)\n",
    "        result.append(miu)\n",
    "        \n",
    "    return np.array(result)"
   ]
  },
  {
   "cell_type": "code",
   "execution_count": 23,
   "metadata": {},
   "outputs": [],
   "source": [
    "def emprical_covariance(X, Y, C, func, penultimate_neuron_num):\n",
    "    assert len(X) == len(Y)\n",
    "    N = len(Y)\n",
    "    \n",
    "    mius = empirical_class_means(X, Y, C, func, penultimate_neuron_num)\n",
    "    miu = mius[0]\n",
    "    \n",
    "    sum_all_classes = np.array(miu.shape)\n",
    "    \n",
    "    print(mius)\n",
    "    \n",
    "    for c in C:\n",
    "        sum_single_c = np.array(miu.shape)\n",
    "        for index in range(0, len(Y)):\n",
    "            if Y[index] == c:\n",
    "                miu = mius[c] # may cause problem during integration. Pay attention to the types of class labels\n",
    "                \n",
    "                difference = func(X[index]) - miu\n",
    "                transpose = np.transpose(difference)\n",
    "                result = difference * transpose\n",
    "                sum_single_c = np.add(sum_single_c, result)\n",
    "        \n",
    "        sum_all_classes = np.add(sum_all_classes, sum_single_c)\n",
    "        \n",
    "    covariance = sum_all_classes/N\n",
    "    \n",
    "    return covariance"
   ]
  },
  {
   "cell_type": "code",
   "execution_count": 24,
   "metadata": {},
   "outputs": [],
   "source": [
    "def mahalanobis(x, y):\n",
    "    i, j, k = x.shape\n",
    "    xx = x.reshape(i, j*k).T\n",
    "    yy = y.reshape(i, j*k).T\n",
    "    \n",
    "    X = np.vstack([xx,yy])\n",
    "    V = np.cov(X.T)\n",
    "    VI = np.linalg.inv(V)\n",
    "    return np.diag(np.sqrt(np.dot(np.dot((xx-yy),VI),(xx-yy).T)))"
   ]
  },
  {
   "cell_type": "code",
   "execution_count": 25,
   "metadata": {},
   "outputs": [],
   "source": [
    "X = np.array([[1,2,5], [3,4,6]])\n",
    "Y = np.array([[0],[1]])\n",
    "C = [0, 1]"
   ]
  },
  {
   "cell_type": "code",
   "execution_count": 28,
   "metadata": {},
   "outputs": [
    {
     "name": "stdout",
     "output_type": "stream",
     "text": [
      "[[0.39443132 0.39443132 0.39443132 0.39443132 0.39443132 0.39443132]\n",
      " [0.99908048 0.99908048 0.99908048 0.99908048 0.99908048 0.99908048]]\n"
     ]
    },
    {
     "data": {
      "text/plain": [
       "array([9.43719778, 9.43719778, 9.43719778, 9.43719778, 9.43719778,\n",
       "       9.43719778])"
      ]
     },
     "execution_count": 28,
     "metadata": {},
     "output_type": "execute_result"
    }
   ],
   "source": [
    "def func(x):\n",
    "    return np.random.rand()\n",
    "\n",
    "emprical_covariance(X, Y, C, func, 6)\n",
    "#empirical_class_means(X, Y, C, func, 3)"
   ]
  },
  {
   "cell_type": "markdown",
   "metadata": {},
   "source": [
    "Covariance of training samples (x, y)"
   ]
  }
 ],
 "metadata": {
  "kernelspec": {
   "display_name": "Python 3",
   "language": "python",
   "name": "python3"
  },
  "language_info": {
   "codemirror_mode": {
    "name": "ipython",
    "version": 3
   },
   "file_extension": ".py",
   "mimetype": "text/x-python",
   "name": "python",
   "nbconvert_exporter": "python",
   "pygments_lexer": "ipython3",
   "version": "3.7.4"
  }
 },
 "nbformat": 4,
 "nbformat_minor": 2
}
