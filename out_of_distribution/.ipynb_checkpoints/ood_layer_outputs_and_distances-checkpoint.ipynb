{
 "cells": [
  {
   "cell_type": "code",
   "execution_count": 22,
   "metadata": {
    "code_folding": [
     0
    ]
   },
   "outputs": [],
   "source": [
    "# imports\n",
    "import numpy as np\n",
    "import os, sys, gc\n",
    "from scipy.spatial.distance import mahalanobis\n",
    "import matplotlib.pyplot as plt\n",
    "%matplotlib inline\n",
    "\n",
    "from keras.models import Model, load_model, Sequential\n",
    "from keras import backend as K\n",
    "\n",
    "sys.path.insert(1, '..//components//')\n",
    "import load_feat_directories\n",
    "\n",
    "# mfilieu\n",
    "util_path = 'C:/ASM/Dropbox/Developments/Jupyter/myutils' if 'C:' in os.getcwd() else '/if3/mm5gg/ASM/Jupyter/myutils'\n",
    "\n"
   ]
  },
  {
   "cell_type": "code",
   "execution_count": 11,
   "metadata": {},
   "outputs": [],
   "source": [
    "# utility functions\n",
    "def avail_modules(directory, prefix):\n",
    "    module_names = []\n",
    "    for item in os.listdir(directory):\n",
    "        if prefix in item:\n",
    "            module_names.append(directory + item)\n",
    "            i = module_names.index(directory + item)\n",
    "            print(str(i) + 'th module')\n",
    "            print(directory + item)\n",
    "    return module_names\n",
    "\n",
    "def comprise_vector(path):\n",
    "    vec_to_return = []\n",
    "    for fname in os.listdir(path):\n",
    "        components = fname.split('_')\n",
    "        '''\n",
    "        if dist == 0 and 'deamp' in components: continue\n",
    "        if reverb == 0 and 'WetDry' in components: continue\n",
    "        if noise == 0 and 'noise' in components: continue\n",
    "        '''\n",
    "        current_vec = np.load(path + fname)\n",
    "        vec_to_return.append(current_vec)\n",
    "        \n",
    "    vec_to_return = np.array(vec_to_return)\n",
    "    return vec_to_return\n",
    "\n",
    "def comprise_label(feature_vector, label):\n",
    "    label_vec_to_ret = []\n",
    "    length = len(list(feature_vector))\n",
    "    for index in range(0, length):\n",
    "        current_label = [label]\n",
    "        label_vec_to_ret.append(current_label)\n",
    "    label_vec_to_ret = np.array(label_vec_to_ret)\n",
    "\n",
    "    return label_vec_to_ret\n",
    "\n",
    "def float_compatible(input_np):\n",
    "\n",
    "    x = np.where(input_np >= np.finfo(np.float32).max)\n",
    "    for index in range(0, len(x[0])):\n",
    "        x_position = x[0][index]\n",
    "        y_position = x[1][index]\n",
    "        input_np[x_position, y_position] = 0.0\n",
    "    input_np = np.nan_to_num(input_np)\n",
    "\n",
    "    return input_np\n",
    "\n",
    "def update_progress(progress):\n",
    "    bar_length = 100\n",
    "    if isinstance(progress, int):\n",
    "        progress = float(progress)\n",
    "    if not isinstance(progress, float):\n",
    "        progress = 0\n",
    "    if progress < 0:\n",
    "        progress = 0\n",
    "    if progress >= 1:\n",
    "        progress = 1\n",
    "\n",
    "    block = int(round(bar_length * progress))\n",
    "    clear_output(wait = True)\n",
    "    \n",
    "    text = \"Progress: [{0}] {1:.1f}%\".format( \"#\" * block + \"-\" * (bar_length - block), progress * 100)\n",
    "    print(text)"
   ]
  },
  {
   "cell_type": "code",
   "execution_count": 12,
   "metadata": {},
   "outputs": [
    {
     "name": "stdout",
     "output_type": "stream",
     "text": [
      "C://Users//yg9ca//Documents//Datasets//padded_deamplified_homenoised_reverberated//npy//Happy_npy//\n",
      "C://Users//yg9ca//Documents//Datasets//padded_deamplified_homenoised_reverberated//npy//Angry_npy//\n",
      "C://Users//yg9ca//Documents//Datasets//padded_deamplified_homenoised_reverberated//npy//Neutral_npy//\n",
      "C://Users//yg9ca//Documents//Datasets//padded_deamplified_homenoised_reverberated//npy//Sad_npy//\n",
      "C://Users//yg9ca//Documents//Datasets//padded_deamplified_homenoised_reverberated//npy//Happy_npy_test//\n",
      "C://Users//yg9ca//Documents//Datasets//padded_deamplified_homenoised_reverberated//npy//Angry_npy_test//\n",
      "C://Users//yg9ca//Documents//Datasets//padded_deamplified_homenoised_reverberated//npy//Neutral_npy_test//\n",
      "C://Users//yg9ca//Documents//Datasets//padded_deamplified_homenoised_reverberated//npy//Sad_npy_test//\n"
     ]
    }
   ],
   "source": [
    "# allnoised_npy[0, 1, 2, 3, 4] ==> H, A, N, S, O\n",
    "# homenoised_npy[0, 1, 2, 3, 4] ==> H, A, N, S, O\n",
    "all_noised_npy = load_feat_directories.allnoised_npy\n",
    "all_noised_npy_test = load_feat_directories.allnoised_npy_test\n",
    "home_noised_npy = load_feat_directories.homenoised_npy\n",
    "home_noised_npy_test = load_feat_directories.homenoised_npy_test\n",
    "\n",
    "for index in range(0, 5):\n",
    "    #x = os.path.exists(all_noised_npy[index])\n",
    "    #y = os.path.exists(home_noised_npy[index])\n",
    "    if not os.path.exists(all_noised_npy[index]):\n",
    "        print(all_noised_npy[index] + ' does not exist. Breaking the loop... ')\n",
    "        break\n",
    "\n",
    "    if not os.path.exists(home_noised_npy[index]):\n",
    "        print(home_noised_npy[index] + 'does not exist. Breaking the loop... ')\n",
    "        break\n",
    "\n",
    "for index in [0, 1, 2, 3]:\n",
    "    if not os.path.exists(home_noised_npy[index]):\n",
    "        print(home_noised_npy[index] + 'does not exist.')\n",
    "    else:\n",
    "        path = home_noised_npy[index]\n",
    "        print(path)\n",
    "        if index == 0:\n",
    "            h_feature_vector_home = comprise_vector(path)\n",
    "            h_label_vector_home = comprise_label(h_feature_vector_home, index)\n",
    "        elif index == 1:\n",
    "            a_feature_vector_home = comprise_vector(path)\n",
    "            a_label_vector_home = comprise_label(a_feature_vector_home, index)\n",
    "        elif index == 2:\n",
    "            n_feature_vector_home = comprise_vector(path)\n",
    "            n_label_vector_home = comprise_label(n_feature_vector_home, index)\n",
    "        elif index == 3:\n",
    "            s_feature_vector_home = comprise_vector(path)\n",
    "            s_label_vector_home = comprise_label(s_feature_vector_home, index)\n",
    "        else:\n",
    "            o_feature_vector_home = comprise_vector(path)\n",
    "            o_label_vector_home = comprise_label(o_feature_vector_home, index)\n",
    "\n",
    "for index in [0, 1, 2, 3]:\n",
    "    \n",
    "    if not os.path.exists(home_noised_npy_test[index]):\n",
    "        print(home_noised_npy_test[index] + 'does not exist.')\n",
    "    else:\n",
    "        path = home_noised_npy_test[index]\n",
    "        print(path)\n",
    "        if index == 0:\n",
    "            h_feature_vector_home_test = comprise_vector(path)\n",
    "            h_label_vector_home_test = comprise_label(h_feature_vector_home_test, index)\n",
    "        elif index == 1:\n",
    "            a_feature_vector_home_test = comprise_vector(path)\n",
    "            a_label_vector_home_test = comprise_label(a_feature_vector_home_test, index)\n",
    "        elif index == 2:\n",
    "            n_feature_vector_home_test = comprise_vector(path)\n",
    "            n_label_vector_home_test = comprise_label(n_feature_vector_home_test, index)\n",
    "        elif index == 3:\n",
    "            s_feature_vector_home_test = comprise_vector(path)\n",
    "            s_label_vector_home_test = comprise_label(s_feature_vector_home_test, index)\n",
    "        else:\n",
    "            o_feature_vector_home_test = comprise_vector(path)\n",
    "            o_label_vector_home_test = comprise_label(o_feature_vector_home_test, index)\n"
   ]
  },
  {
   "cell_type": "code",
   "execution_count": 25,
   "metadata": {},
   "outputs": [
    {
     "name": "stdout",
     "output_type": "stream",
     "text": [
      "training data: (34155, 48, 272)\n",
      "training label: (34155, 1)\n",
      "evaluation data: (7551, 48, 272)\n",
      "evaluation label: (7551, 1)\n"
     ]
    }
   ],
   "source": [
    "# Load training npy files\n",
    "featureSet = float_compatible(np.vstack((h_feature_vector_home, a_feature_vector_home, n_feature_vector_home, s_feature_vector_home)))\n",
    "Label = (np.vstack((h_label_vector_home, a_label_vector_home, n_label_vector_home, s_label_vector_home)))\n",
    "\n",
    "Label[Label == 0] = 0\n",
    "Label[Label == 1] = 1\n",
    "Label[Label == 2] = 2\n",
    "Label[Label == 3] = 3\n",
    "Label[Label == 4] = 4\n",
    "\n",
    "#Label = to_categorical(Label)\n",
    "#featureSet = np.split(featureSet, np.array([NumofFeaturetoUse]), axis = 2)[0]\n",
    "print('training data: ' + str(featureSet.shape))\n",
    "print('training label: ' + str(Label.shape))\n",
    "\n",
    "# Load testing npy files\n",
    "featureSet_val = float_compatible(np.vstack((h_feature_vector_home_test, a_feature_vector_home_test, n_feature_vector_home_test, s_feature_vector_home_test)))\n",
    "Label_val = (np.vstack((h_label_vector_home_test, a_label_vector_home_test, n_label_vector_home_test, s_label_vector_home_test)))\n",
    "\n",
    "Label_val[Label_val == 0] = 0\n",
    "Label_val[Label_val == 1] = 1\n",
    "Label_val[Label_val == 2] = 2\n",
    "Label_val[Label_val == 3] = 3\n",
    "Label_val[Label_val == 4] = 4\n",
    "\n",
    "#Label_val = to_categorical(Label_val)\n",
    "#featureSet_val = np.split(featureSet_val, np.array([NumofFeaturetoUse]), axis = 2)[0]\n",
    "print('evaluation data: ' + str(featureSet_val.shape))\n",
    "print('evaluation label: ' + str(Label_val.shape))\n",
    "\n",
    "featureSet_all = float_compatible(np.vstack((featureSet, featureSet_val)))\n",
    "label_all = float_compatible(np.vstack((Label, Label_val)))\n",
    "\n",
    "print('all data: ' + str(featureSet_val.shape))\n",
    "print('all label: ' + str(Label_val.shape))"
   ]
  },
  {
   "cell_type": "code",
   "execution_count": 20,
   "metadata": {
    "code_folding": []
   },
   "outputs": [
    {
     "name": "stdout",
     "output_type": "stream",
     "text": [
      "0th module\n",
      "..//..//..//modules//Checkpoint_home_All_neurons_home_1024_filters_2048_dropout_0.2_epoch_1000_dense_6.hdf5\n",
      "1th module\n",
      "..//..//..//modules//Checkpoint_home_All_neurons_home_2048_filters_1024_dropout_0.2_epoch_1000_dense_4.hdf5\n",
      "2th module\n",
      "..//..//..//modules//Checkpoint_home_All_neurons_home_2048_filters_2048_dropout_0.2_epoch_1000_dense_8.hdf5\n",
      "3th module\n",
      "..//..//..//modules//Checkpoint_home_All_neurons_home_4096_filters_3072_dropout_0.2_epoch_1000_dense_10.hdf5\n"
     ]
    }
   ],
   "source": [
    "directory = '..//..//..//modules//'\n",
    "module_prefix = 'All_'\n",
    "modules = avail_modules(directory, module_prefix)\n",
    "model = load_model(modules[3])"
   ]
  },
  {
   "cell_type": "code",
   "execution_count": 23,
   "metadata": {},
   "outputs": [
    {
     "name": "stdout",
     "output_type": "stream",
     "text": [
      "Model: \"sequential_1\"\n",
      "_________________________________________________________________\n",
      "Layer (type)                 Output Shape              Param #   \n",
      "=================================================================\n",
      "conv1d_9 (Conv1D)            (None, 46, 3072)          2509824   \n",
      "_________________________________________________________________\n",
      "max_pooling1d_9 (MaxPooling1 (None, 23, 3072)          0         \n",
      "_________________________________________________________________\n",
      "dropout_29 (Dropout)         (None, 23, 3072)          0         \n",
      "_________________________________________________________________\n",
      "conv1d_10 (Conv1D)           (None, 21, 6144)          56629248  \n",
      "_________________________________________________________________\n",
      "max_pooling1d_10 (MaxPooling (None, 10, 6144)          0         \n",
      "_________________________________________________________________\n",
      "dropout_30 (Dropout)         (None, 10, 6144)          0         \n",
      "_________________________________________________________________\n",
      "conv1d_11 (Conv1D)           (None, 8, 6144)           113252352 \n",
      "_________________________________________________________________\n",
      "max_pooling1d_11 (MaxPooling (None, 4, 6144)           0         \n",
      "_________________________________________________________________\n",
      "dropout_31 (Dropout)         (None, 4, 6144)           0         \n",
      "_________________________________________________________________\n",
      "conv1d_12 (Conv1D)           (None, 2, 3072)           56626176  \n",
      "_________________________________________________________________\n",
      "max_pooling1d_12 (MaxPooling (None, 1, 3072)           0         \n",
      "_________________________________________________________________\n",
      "dropout_32 (Dropout)         (None, 1, 3072)           0         \n",
      "_________________________________________________________________\n",
      "flatten_3 (Flatten)          (None, 3072)              0         \n",
      "_________________________________________________________________\n",
      "dense_23 (Dense)             (None, 4096)              12587008  \n",
      "_________________________________________________________________\n",
      "dropout_33 (Dropout)         (None, 4096)              0         \n",
      "_________________________________________________________________\n",
      "dense_24 (Dense)             (None, 4096)              16781312  \n",
      "_________________________________________________________________\n",
      "dropout_34 (Dropout)         (None, 4096)              0         \n",
      "_________________________________________________________________\n",
      "dense_25 (Dense)             (None, 4096)              16781312  \n",
      "_________________________________________________________________\n",
      "dropout_35 (Dropout)         (None, 4096)              0         \n",
      "_________________________________________________________________\n",
      "dense_26 (Dense)             (None, 4096)              16781312  \n",
      "_________________________________________________________________\n",
      "dropout_36 (Dropout)         (None, 4096)              0         \n",
      "_________________________________________________________________\n",
      "dense_27 (Dense)             (None, 4096)              16781312  \n",
      "_________________________________________________________________\n",
      "dropout_37 (Dropout)         (None, 4096)              0         \n",
      "_________________________________________________________________\n",
      "dense_28 (Dense)             (None, 4096)              16781312  \n",
      "_________________________________________________________________\n",
      "dropout_38 (Dropout)         (None, 4096)              0         \n",
      "_________________________________________________________________\n",
      "dense_29 (Dense)             (None, 4096)              16781312  \n",
      "_________________________________________________________________\n",
      "dropout_39 (Dropout)         (None, 4096)              0         \n",
      "_________________________________________________________________\n",
      "dense_30 (Dense)             (None, 4096)              16781312  \n",
      "_________________________________________________________________\n",
      "dropout_40 (Dropout)         (None, 4096)              0         \n",
      "_________________________________________________________________\n",
      "dense_31 (Dense)             (None, 4096)              16781312  \n",
      "_________________________________________________________________\n",
      "dropout_41 (Dropout)         (None, 4096)              0         \n",
      "_________________________________________________________________\n",
      "dense_32 (Dense)             (None, 4096)              16781312  \n",
      "_________________________________________________________________\n",
      "dropout_42 (Dropout)         (None, 4096)              0         \n",
      "=================================================================\n",
      "Total params: 392,636,416\n",
      "Trainable params: 392,636,416\n",
      "Non-trainable params: 0\n",
      "_________________________________________________________________\n"
     ]
    }
   ],
   "source": [
    "model_no_softmax = Sequential()\n",
    "\n",
    "for index in range(1, len(model.layers)+1):\n",
    "    if index == len(model.layers):\n",
    "        break\n",
    "    else:\n",
    "        model_no_softmax.add(model.layers[index-1])\n",
    "\n",
    "model_no_softmax.summary()\n",
    "\n",
    "del model"
   ]
  },
  {
   "cell_type": "code",
   "execution_count": 18,
   "metadata": {
    "code_folding": []
   },
   "outputs": [],
   "source": [
    "#load data\n",
    "mu = np.mean(featureSet, axis=0)\n",
    "sigma = np.std(featureSet, axis=0)"
   ]
  },
  {
   "cell_type": "code",
   "execution_count": 19,
   "metadata": {},
   "outputs": [],
   "source": [
    "featureSet = (featureSet-mu)/sigma\n",
    "featureSet_val = (featureSet_val-mu)/sigma"
   ]
  },
  {
   "cell_type": "raw",
   "metadata": {},
   "source": [
    "Xall = (Xall-mu)/sigma\n",
    "Xtrain = (Xtrain-mu)/sigma\n",
    "Xval = (Xval-mu)/sigma\n",
    "Xtest = (Xtest-mu)/sigma\n",
    "xo = (xo-mu)/sigma\n",
    "xw = (xw-mu)/sigma\n",
    "\n",
    "folder_path = 'DevData/handwash/general_mlp/results'\n",
    "po = mfileu.read_file(folder_path, 'proba_our_{}.pkl'.format(hand))[:, num_layer-1]\n",
    "pw = mfileu.read_file(folder_path, 'proba_wisdm_{}.pkl'.format(hand))[:, num_layer-1]\n",
    "\n",
    "pred_all = (po>=0.5).astype(int)\n",
    "pred_train = (po[train_indices]>=0.5).astype(int)\n",
    "pred_val = (po[val_indices]>=0.5).astype(int)\n",
    "pred_test = (po[test_indices]>=0.5).astype(int)\n",
    "pred_xw = (pw>=0.5).astype(int)\n",
    "print(pred_all.shape, pred_train.shape, pred_val.shape, pred_test.shape, pred_xw.shape)"
   ]
  },
  {
   "cell_type": "code",
   "execution_count": 4,
   "metadata": {
    "code_folding": []
   },
   "outputs": [
    {
     "name": "stdout",
     "output_type": "stream",
     "text": [
      "_________________________________________________________________\n",
      "Layer (type)                 Output Shape              Param #   \n",
      "=================================================================\n",
      "dense1 (Dense)               (None, 64)                2176      \n",
      "_________________________________________________________________\n",
      "dropout1 (Dropout)           (None, 64)                0         \n",
      "_________________________________________________________________\n",
      "dense2 (Dense)               (None, 64)                4160      \n",
      "_________________________________________________________________\n",
      "dropout2 (Dropout)           (None, 64)                0         \n",
      "_________________________________________________________________\n",
      "dense3 (Dense)               (None, 64)                4160      \n",
      "_________________________________________________________________\n",
      "dropout3 (Dropout)           (None, 64)                0         \n",
      "_________________________________________________________________\n",
      "output (Dense)               (None, 1)                 65        \n",
      "=================================================================\n",
      "Total params: 10,561\n",
      "Trainable params: 10,561\n",
      "Non-trainable params: 0\n",
      "_________________________________________________________________\n",
      "------------ Layer :  1\n",
      "_________________________________________________________________\n",
      "Layer (type)                 Output Shape              Param #   \n",
      "=================================================================\n",
      "dense1_input (InputLayer)    (None, 33)                0         \n",
      "_________________________________________________________________\n",
      "dense1 (Dense)               (None, 64)                2176      \n",
      "=================================================================\n",
      "Total params: 2,176\n",
      "Trainable params: 2,176\n",
      "Non-trainable params: 0\n",
      "_________________________________________________________________\n",
      "------------ Layer :  2\n",
      "_________________________________________________________________\n",
      "Layer (type)                 Output Shape              Param #   \n",
      "=================================================================\n",
      "dense1_input (InputLayer)    (None, 33)                0         \n",
      "_________________________________________________________________\n",
      "dense1 (Dense)               (None, 64)                2176      \n",
      "_________________________________________________________________\n",
      "dropout1 (Dropout)           (None, 64)                0         \n",
      "_________________________________________________________________\n",
      "dense2 (Dense)               (None, 64)                4160      \n",
      "=================================================================\n",
      "Total params: 6,336\n",
      "Trainable params: 6,336\n",
      "Non-trainable params: 0\n",
      "_________________________________________________________________\n",
      "------------ Layer :  3\n",
      "_________________________________________________________________\n",
      "Layer (type)                 Output Shape              Param #   \n",
      "=================================================================\n",
      "dense1_input (InputLayer)    (None, 33)                0         \n",
      "_________________________________________________________________\n",
      "dense1 (Dense)               (None, 64)                2176      \n",
      "_________________________________________________________________\n",
      "dropout1 (Dropout)           (None, 64)                0         \n",
      "_________________________________________________________________\n",
      "dense2 (Dense)               (None, 64)                4160      \n",
      "_________________________________________________________________\n",
      "dropout2 (Dropout)           (None, 64)                0         \n",
      "_________________________________________________________________\n",
      "dense3 (Dense)               (None, 64)                4160      \n",
      "=================================================================\n",
      "Total params: 10,496\n",
      "Trainable params: 10,496\n",
      "Non-trainable params: 0\n",
      "_________________________________________________________________\n"
     ]
    }
   ],
   "source": [
    "#keras layers\n",
    "models = []\n",
    "for i in range(1, num_layer+1):\n",
    "    m = Model(inputs=model.input, outputs=model.get_layer('dense'+str(i)).output)\n",
    "    models.append(m)\n",
    "    print('------------ Layer : ', i)\n",
    "    m.summary()"
   ]
  },
  {
   "cell_type": "code",
   "execution_count": null,
   "metadata": {},
   "outputs": [],
   "source": [
    "#layer outputs\n",
    "all_outs, train_outs, test_outs = [], [], []\n",
    "\n",
    "ao = model_no_softmax.predict(featureSet_all)\n",
    "tro = model_no_softmax.predict(featureSet)\n",
    "#vo = model_no_softmax.predict(featureSet_test)\n",
    "to = model_no_softmax.predict(featureSet_test)\n",
    "#wo = model_no_softmax.predict(xw)\n",
    "\n",
    "all_outs.append(ao)\n",
    "train_outs.append(tro)\n",
    "val_outs.append(vo)\n",
    "test_outs.append(to)\n",
    "wisdm_outs.append(wo)"
   ]
  },
  {
   "cell_type": "code",
   "execution_count": 5,
   "metadata": {
    "code_folding": []
   },
   "outputs": [
    {
     "name": "stdout",
     "output_type": "stream",
     "text": [
      "layer:  0\n",
      "layer:  1\n",
      "layer:  2\n"
     ]
    }
   ],
   "source": [
    "#layer outputs\n",
    "all_outs, train_outs, val_outs, test_outs, wisdm_outs = [], [], [], [], []\n",
    "for i in range(num_layer):\n",
    "    print(\"layer: \", i)\n",
    "    ao = models[i].predict(Xall)\n",
    "    tro = models[i].predict(Xtrain)\n",
    "    vo = models[i].predict(Xval)\n",
    "    to = models[i].predict(Xtest)\n",
    "    wo = models[i].predict(xw)\n",
    "    \n",
    "    all_outs.append(ao)\n",
    "    train_outs.append(tro)\n",
    "    val_outs.append(vo)\n",
    "    test_outs.append(to)\n",
    "    wisdm_outs.append(wo)"
   ]
  },
  {
   "cell_type": "code",
   "execution_count": 6,
   "metadata": {
    "code_folding": []
   },
   "outputs": [
    {
     "name": "stdout",
     "output_type": "stream",
     "text": [
      "(64, 64)\n",
      "(64, 64)\n",
      "(64, 64)\n"
     ]
    }
   ],
   "source": [
    "#mean, covariance\n",
    "mus, icovs = [], []\n",
    "cond = (yval==1) & (pred_val==1)\n",
    "for i in range(0, 1):\n",
    "    vo = val_outs[i][cond]\n",
    "    mu = np.mean(vo, axis=0)\n",
    "    cov = np.cov(vo, rowvar=False)\n",
    "    icov = np.linalg.inv(cov)\n",
    "    mus.append(mu)\n",
    "    icovs.append(icov)\n",
    "    print(icov.shape)"
   ]
  },
  {
   "cell_type": "code",
   "execution_count": null,
   "metadata": {},
   "outputs": [],
   "source": [
    "#mean, covariance\n",
    "mus, icovs = [], []\n",
    "cond = (yval==1) & (pred_val==1)\n",
    "for i in range(num_layer):\n",
    "    vo = val_outs[i][cond]\n",
    "    mu = np.mean(vo, axis=0)\n",
    "    cov = np.cov(vo, rowvar=False)\n",
    "    icov = np.linalg.inv(cov)\n",
    "    mus.append(mu)\n",
    "    icovs.append(icov)\n",
    "    print(icov.shape)"
   ]
  },
  {
   "cell_type": "code",
   "execution_count": 7,
   "metadata": {
    "code_folding": []
   },
   "outputs": [],
   "source": [
    "#distance functions\n",
    "def get_distance_maha(v, mu, icov):\n",
    "    print(v.shape, mu.shape, icov.shape)\n",
    "    count = v.shape[0]\n",
    "    res = np.zeros((count, ))\n",
    "    for i in range(count):\n",
    "        res[i] = mahalanobis(v[i], mu, icov)\n",
    "    \n",
    "    return res\n",
    "\n",
    "def get_distance_euclid(v, mu):\n",
    "    d = v-mu\n",
    "    d = np.sqrt(np.sum(d**2, axis=1))        \n",
    "    return d\n",
    "\n",
    "def get_distance(v, mu, covinv):\n",
    "    res = np.zeros((v.shape[0], 2))\n",
    "    res[:, 0] = get_distance_maha(v, mu, covinv)\n",
    "    res[:, 1] = get_distance_euclid(v, mu)\n",
    "    return res    "
   ]
  },
  {
   "cell_type": "code",
   "execution_count": 8,
   "metadata": {
    "code_folding": []
   },
   "outputs": [
    {
     "name": "stdout",
     "output_type": "stream",
     "text": [
      "Calculating distance for layer...  0\n",
      "(34338, 64) (64,) (64, 64)\n",
      "(24723, 64) (64,) (64, 64)\n",
      "(2747, 64) (64,) (64, 64)\n",
      "(6868, 64) (64,) (64, 64)\n",
      "(377629, 64) (64,) (64, 64)\n",
      "Calculating distance for layer...  1\n",
      "(34338, 64) (64,) (64, 64)\n",
      "(24723, 64) (64,) (64, 64)\n",
      "(2747, 64) (64,) (64, 64)\n",
      "(6868, 64) (64,) (64, 64)\n",
      "(377629, 64) (64,) (64, 64)\n",
      "Calculating distance for layer...  2\n",
      "(34338, 64) (64,) (64, 64)\n",
      "(24723, 64) (64,) (64, 64)\n",
      "(2747, 64) (64,) (64, 64)\n",
      "(6868, 64) (64,) (64, 64)\n",
      "(377629, 64) (64,) (64, 64)\n"
     ]
    }
   ],
   "source": [
    "#distances\n",
    "all_dists, train_dists, val_dists, test_dists, wisdm_dists = [], [], [], [], []\n",
    "for i in range(num_layer):    \n",
    "    print('Calculating distance for layer... ', i)\n",
    "    ad = get_distance(all_outs[i], mus[i], icovs[i])\n",
    "    trd = get_distance(train_outs[i], mus[i], icovs[i])    \n",
    "    vd = get_distance(val_outs[i], mus[i], icovs[i])\n",
    "    td = get_distance(test_outs[i], mus[i], icovs[i])\n",
    "    wd = get_distance(wisdm_outs[i], mus[i], icovs[i])\n",
    "    \n",
    "    all_dists.append(ad)\n",
    "    train_dists.append(trd)\n",
    "    val_dists.append(vd)\n",
    "    test_dists.append(td)\n",
    "    wisdm_dists.append(wd)"
   ]
  },
  {
   "cell_type": "code",
   "execution_count": 9,
   "metadata": {},
   "outputs": [],
   "source": [
    "res = {\n",
    "    'hand':hand,\n",
    "    'num_layer':num_layer,\n",
    "    \n",
    "    'all_outs':all_outs,\n",
    "    'train_outs':train_outs,\n",
    "    'val_outs':val_outs,\n",
    "    'test_outs':test_outs,\n",
    "    'wisdm_outs':wisdm_outs,\n",
    "    \n",
    "    'mus':mus,\n",
    "    'icovs':icovs,\n",
    "    \n",
    "    'all_dists':all_dists,\n",
    "    'train_dists':train_dists,\n",
    "    'val_dists':val_dists,\n",
    "    'test_dists':test_dists,\n",
    "    'wisdm_dists':wisdm_dists\n",
    "}"
   ]
  },
  {
   "cell_type": "code",
   "execution_count": 10,
   "metadata": {},
   "outputs": [],
   "source": [
    "mfileu.write_file('DevData/handwash/general_mlp/ood', 'layer_{}_hand_{}.pkl'.format(num_layer, hand), res)"
   ]
  },
  {
   "cell_type": "code",
   "execution_count": null,
   "metadata": {},
   "outputs": [],
   "source": []
  }
 ],
 "metadata": {
  "kernelspec": {
   "display_name": "Python 3",
   "language": "python",
   "name": "python3"
  },
  "language_info": {
   "codemirror_mode": {
    "name": "ipython",
    "version": 3
   },
   "file_extension": ".py",
   "mimetype": "text/x-python",
   "name": "python",
   "nbconvert_exporter": "python",
   "pygments_lexer": "ipython3",
   "version": "3.7.4"
  }
 },
 "nbformat": 4,
 "nbformat_minor": 2
}
