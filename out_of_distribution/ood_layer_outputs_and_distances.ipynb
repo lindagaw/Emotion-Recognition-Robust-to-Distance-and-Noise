{
 "cells": [
  {
   "cell_type": "code",
   "execution_count": 1,
   "metadata": {
    "code_folding": [
     0
    ]
   },
   "outputs": [
    {
     "name": "stderr",
     "output_type": "stream",
     "text": [
      "Using TensorFlow backend.\n"
     ]
    }
   ],
   "source": [
    "# imports\n",
    "import numpy as np\n",
    "import os, sys, gc\n",
    "from scipy.spatial.distance import mahalanobis\n",
    "import matplotlib.pyplot as plt\n",
    "%matplotlib inline\n",
    "\n",
    "from keras.models import Model, load_model \n",
    "from keras import backend as K\n",
    "\n",
    "# mfilieu\n",
    "util_path = 'C:/ASM/Dropbox/Developments/Jupyter/myutils' if 'C:' in os.getcwd() else '/if3/mm5gg/ASM/Jupyter/myutils'\n",
    "sys.path.append(util_path)\n",
    "import my_file_utils as mfileu"
   ]
  },
  {
   "cell_type": "code",
   "execution_count": 2,
   "metadata": {
    "code_folding": []
   },
   "outputs": [],
   "source": [
    "#paramteres\n",
    "hand = 0\n",
    "num_layer = 3\n",
    "root_path = 'C:/ASM/DevData/handwash' if 'C:' in os.getcwd() else '/if3/mm5gg/ASM/DevData/handwash'"
   ]
  },
  {
   "cell_type": "code",
   "execution_count": 3,
   "metadata": {
    "code_folding": []
   },
   "outputs": [
    {
     "name": "stdout",
     "output_type": "stream",
     "text": [
      "All:  18780 15558\n",
      "Train:  13521 11202\n",
      "Val:  1503 1244\n",
      "Test:  3756 3112 0\n",
      "(34338,) (24723,) (2747,) (6868,) (377629,)\n"
     ]
    }
   ],
   "source": [
    "#load data\n",
    "fso = mfileu.read_file('DevData/handwash/features', 'features_our.pkl')\n",
    "fsw = mfileu.read_file('DevData/handwash/features', 'features_wisdm.pkl')\n",
    "splits = mfileu.read_file('DevData/handwash/features', 'split_indices.pkl')\n",
    "\n",
    "Xall = fso[hand][:, 5:38]\n",
    "yall = fso[hand][:, 3]\n",
    "yall[yall>0] = 1\n",
    "print(\"All: \", np.sum(yall==0), np.sum(yall==1))\n",
    "\n",
    "\n",
    "train_indices = splits[hand]['train']\n",
    "Xtrain = fso[hand][train_indices, 5:38]\n",
    "ytrain = fso[hand][train_indices, 3]\n",
    "ytrain[ytrain>0] = 1\n",
    "print(\"Train: \", np.sum(ytrain==0), np.sum(ytrain==1))\n",
    "\n",
    "val_indices = splits[hand]['val']\n",
    "Xval = fso[hand][val_indices, 5:38]\n",
    "yval = fso[hand][val_indices, 3]\n",
    "yval[yval>0] = 1\n",
    "print(\"Val: \",np.sum(yval==0), np.sum(yval==1))\n",
    "\n",
    "test_indices = splits[hand]['test']\n",
    "Xtest = fso[hand][test_indices, 5:38]\n",
    "ytest = fso[hand][test_indices, 3]\n",
    "ytest[ytest>0] = 1\n",
    "print(\"Test: \", np.sum(ytest==0), np.sum(ytest==1), np.sum(ytest==2))\n",
    "\n",
    "xo = fso[hand][:, 5:38]\n",
    "xw = fsw[:, 3:]\n",
    "\n",
    "mu = np.mean(Xtrain, axis=0)\n",
    "sigma = np.std(Xtrain, axis=0)\n",
    "\n",
    "Xall = (Xall-mu)/sigma\n",
    "Xtrain = (Xtrain-mu)/sigma\n",
    "Xval = (Xval-mu)/sigma\n",
    "Xtest = (Xtest-mu)/sigma\n",
    "xo = (xo-mu)/sigma\n",
    "xw = (xw-mu)/sigma\n",
    "\n",
    "folder_path = 'DevData/handwash/general_mlp/results'\n",
    "po = mfileu.read_file(folder_path, 'proba_our_{}.pkl'.format(hand))[:, num_layer-1]\n",
    "pw = mfileu.read_file(folder_path, 'proba_wisdm_{}.pkl'.format(hand))[:, num_layer-1]\n",
    "\n",
    "pred_all = (po>=0.5).astype(int)\n",
    "pred_train = (po[train_indices]>=0.5).astype(int)\n",
    "pred_val = (po[val_indices]>=0.5).astype(int)\n",
    "pred_test = (po[test_indices]>=0.5).astype(int)\n",
    "pred_xw = (pw>=0.5).astype(int)\n",
    "print(pred_all.shape, pred_train.shape, pred_val.shape, pred_test.shape, pred_xw.shape)"
   ]
  },
  {
   "cell_type": "code",
   "execution_count": 4,
   "metadata": {
    "code_folding": []
   },
   "outputs": [
    {
     "name": "stdout",
     "output_type": "stream",
     "text": [
      "_________________________________________________________________\n",
      "Layer (type)                 Output Shape              Param #   \n",
      "=================================================================\n",
      "dense1 (Dense)               (None, 64)                2176      \n",
      "_________________________________________________________________\n",
      "dropout1 (Dropout)           (None, 64)                0         \n",
      "_________________________________________________________________\n",
      "dense2 (Dense)               (None, 64)                4160      \n",
      "_________________________________________________________________\n",
      "dropout2 (Dropout)           (None, 64)                0         \n",
      "_________________________________________________________________\n",
      "dense3 (Dense)               (None, 64)                4160      \n",
      "_________________________________________________________________\n",
      "dropout3 (Dropout)           (None, 64)                0         \n",
      "_________________________________________________________________\n",
      "output (Dense)               (None, 1)                 65        \n",
      "=================================================================\n",
      "Total params: 10,561\n",
      "Trainable params: 10,561\n",
      "Non-trainable params: 0\n",
      "_________________________________________________________________\n",
      "------------ Layer :  1\n",
      "_________________________________________________________________\n",
      "Layer (type)                 Output Shape              Param #   \n",
      "=================================================================\n",
      "dense1_input (InputLayer)    (None, 33)                0         \n",
      "_________________________________________________________________\n",
      "dense1 (Dense)               (None, 64)                2176      \n",
      "=================================================================\n",
      "Total params: 2,176\n",
      "Trainable params: 2,176\n",
      "Non-trainable params: 0\n",
      "_________________________________________________________________\n",
      "------------ Layer :  2\n",
      "_________________________________________________________________\n",
      "Layer (type)                 Output Shape              Param #   \n",
      "=================================================================\n",
      "dense1_input (InputLayer)    (None, 33)                0         \n",
      "_________________________________________________________________\n",
      "dense1 (Dense)               (None, 64)                2176      \n",
      "_________________________________________________________________\n",
      "dropout1 (Dropout)           (None, 64)                0         \n",
      "_________________________________________________________________\n",
      "dense2 (Dense)               (None, 64)                4160      \n",
      "=================================================================\n",
      "Total params: 6,336\n",
      "Trainable params: 6,336\n",
      "Non-trainable params: 0\n",
      "_________________________________________________________________\n",
      "------------ Layer :  3\n",
      "_________________________________________________________________\n",
      "Layer (type)                 Output Shape              Param #   \n",
      "=================================================================\n",
      "dense1_input (InputLayer)    (None, 33)                0         \n",
      "_________________________________________________________________\n",
      "dense1 (Dense)               (None, 64)                2176      \n",
      "_________________________________________________________________\n",
      "dropout1 (Dropout)           (None, 64)                0         \n",
      "_________________________________________________________________\n",
      "dense2 (Dense)               (None, 64)                4160      \n",
      "_________________________________________________________________\n",
      "dropout2 (Dropout)           (None, 64)                0         \n",
      "_________________________________________________________________\n",
      "dense3 (Dense)               (None, 64)                4160      \n",
      "=================================================================\n",
      "Total params: 10,496\n",
      "Trainable params: 10,496\n",
      "Non-trainable params: 0\n",
      "_________________________________________________________________\n"
     ]
    }
   ],
   "source": [
    "#keras layers\n",
    "model_folder = root_path + '/general_mlp/models/hand_{}'.format(hand)    \n",
    "model_path = model_folder+'/layer_{}.h5'.format(num_layer)\n",
    "model = load_model(model_path)\n",
    "model.summary()\n",
    "\n",
    "models = []\n",
    "for i in range(1, num_layer+1):\n",
    "    m = Model(inputs=model.input, outputs=model.get_layer('dense'+str(i)).output)\n",
    "    models.append(m)\n",
    "    print('------------ Layer : ', i)\n",
    "    m.summary()"
   ]
  },
  {
   "cell_type": "code",
   "execution_count": 5,
   "metadata": {
    "code_folding": []
   },
   "outputs": [
    {
     "name": "stdout",
     "output_type": "stream",
     "text": [
      "layer:  0\n",
      "layer:  1\n",
      "layer:  2\n"
     ]
    }
   ],
   "source": [
    "#layer outputs\n",
    "all_outs, train_outs, val_outs, test_outs, wisdm_outs = [], [], [], [], []\n",
    "for i in range(num_layer):\n",
    "    print(\"layer: \", i)\n",
    "    ao = models[i].predict(Xall)\n",
    "    tro = models[i].predict(Xtrain)\n",
    "    vo = models[i].predict(Xval)\n",
    "    to = models[i].predict(Xtest)\n",
    "    wo = models[i].predict(xw)\n",
    "    \n",
    "    all_outs.append(ao)\n",
    "    train_outs.append(tro)\n",
    "    val_outs.append(vo)\n",
    "    test_outs.append(to)\n",
    "    wisdm_outs.append(wo)"
   ]
  },
  {
   "cell_type": "code",
   "execution_count": 6,
   "metadata": {
    "code_folding": []
   },
   "outputs": [
    {
     "name": "stdout",
     "output_type": "stream",
     "text": [
      "(64, 64)\n",
      "(64, 64)\n",
      "(64, 64)\n"
     ]
    }
   ],
   "source": [
    "#mean, covariance\n",
    "mus, icovs = [], []\n",
    "cond = (yval==1) & (pred_val==1)\n",
    "for i in range(num_layer):\n",
    "    vo = val_outs[i][cond]\n",
    "    mu = np.mean(vo, axis=0)\n",
    "    cov = np.cov(vo, rowvar=False)\n",
    "    icov = np.linalg.inv(cov)\n",
    "    mus.append(mu)\n",
    "    icovs.append(icov)\n",
    "    print(icov.shape)"
   ]
  },
  {
   "cell_type": "code",
   "execution_count": 7,
   "metadata": {
    "code_folding": []
   },
   "outputs": [],
   "source": [
    "#distance functions\n",
    "def get_distance_maha(v, mu, icov):\n",
    "    print(v.shape, mu.shape, icov.shape)\n",
    "    count = v.shape[0]\n",
    "    res = np.zeros((count, ))\n",
    "    for i in range(count):\n",
    "        res[i] = mahalanobis(v[i], mu, icov)\n",
    "    \n",
    "    return res\n",
    "\n",
    "def get_distance_euclid(v, mu):\n",
    "    d = v-mu\n",
    "    d = np.sqrt(np.sum(d**2, axis=1))        \n",
    "    return d\n",
    "\n",
    "def get_distance(v, mu, covinv):\n",
    "    res = np.zeros((v.shape[0], 2))\n",
    "    res[:, 0] = get_distance_maha(v, mu, covinv)\n",
    "    res[:, 1] = get_distance_euclid(v, mu)\n",
    "    return res    "
   ]
  },
  {
   "cell_type": "code",
   "execution_count": 8,
   "metadata": {
    "code_folding": []
   },
   "outputs": [
    {
     "name": "stdout",
     "output_type": "stream",
     "text": [
      "Calculating distance for layer...  0\n",
      "(34338, 64) (64,) (64, 64)\n",
      "(24723, 64) (64,) (64, 64)\n",
      "(2747, 64) (64,) (64, 64)\n",
      "(6868, 64) (64,) (64, 64)\n",
      "(377629, 64) (64,) (64, 64)\n",
      "Calculating distance for layer...  1\n",
      "(34338, 64) (64,) (64, 64)\n",
      "(24723, 64) (64,) (64, 64)\n",
      "(2747, 64) (64,) (64, 64)\n",
      "(6868, 64) (64,) (64, 64)\n",
      "(377629, 64) (64,) (64, 64)\n",
      "Calculating distance for layer...  2\n",
      "(34338, 64) (64,) (64, 64)\n",
      "(24723, 64) (64,) (64, 64)\n",
      "(2747, 64) (64,) (64, 64)\n",
      "(6868, 64) (64,) (64, 64)\n",
      "(377629, 64) (64,) (64, 64)\n"
     ]
    }
   ],
   "source": [
    "#distances\n",
    "all_dists, train_dists, val_dists, test_dists, wisdm_dists = [], [], [], [], []\n",
    "for i in range(num_layer):    \n",
    "    print('Calculating distance for layer... ', i)\n",
    "    ad = get_distance(all_outs[i], mus[i], icovs[i])\n",
    "    trd = get_distance(train_outs[i], mus[i], icovs[i])    \n",
    "    vd = get_distance(val_outs[i], mus[i], icovs[i])\n",
    "    td = get_distance(test_outs[i], mus[i], icovs[i])\n",
    "    wd = get_distance(wisdm_outs[i], mus[i], icovs[i])\n",
    "    \n",
    "    all_dists.append(ad)\n",
    "    train_dists.append(trd)\n",
    "    val_dists.append(vd)\n",
    "    test_dists.append(td)\n",
    "    wisdm_dists.append(wd)"
   ]
  },
  {
   "cell_type": "code",
   "execution_count": 9,
   "metadata": {},
   "outputs": [],
   "source": [
    "res = {\n",
    "    'hand':hand,\n",
    "    'num_layer':num_layer,\n",
    "    \n",
    "    'all_outs':all_outs,\n",
    "    'train_outs':train_outs,\n",
    "    'val_outs':val_outs,\n",
    "    'test_outs':test_outs,\n",
    "    'wisdm_outs':wisdm_outs,\n",
    "    \n",
    "    'mus':mus,\n",
    "    'icovs':icovs,\n",
    "    \n",
    "    'all_dists':all_dists,\n",
    "    'train_dists':train_dists,\n",
    "    'val_dists':val_dists,\n",
    "    'test_dists':test_dists,\n",
    "    'wisdm_dists':wisdm_dists\n",
    "}"
   ]
  },
  {
   "cell_type": "code",
   "execution_count": 10,
   "metadata": {},
   "outputs": [],
   "source": [
    "mfileu.write_file('DevData/handwash/general_mlp/ood', 'layer_{}_hand_{}.pkl'.format(num_layer, hand), res)"
   ]
  },
  {
   "cell_type": "code",
   "execution_count": null,
   "metadata": {},
   "outputs": [],
   "source": []
  }
 ],
 "metadata": {
  "kernelspec": {
   "display_name": "Python 3",
   "language": "python",
   "name": "python3"
  },
  "language_info": {
   "codemirror_mode": {
    "name": "ipython",
    "version": 3
   },
   "file_extension": ".py",
   "mimetype": "text/x-python",
   "name": "python",
   "nbconvert_exporter": "python",
   "pygments_lexer": "ipython3",
   "version": "3.7.4"
  }
 },
 "nbformat": 4,
 "nbformat_minor": 2
}
