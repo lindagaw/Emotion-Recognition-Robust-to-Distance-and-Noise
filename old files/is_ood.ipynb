{
 "cells": [
  {
   "cell_type": "code",
   "execution_count": 8,
   "metadata": {},
   "outputs": [],
   "source": [
    "# imports\n",
    "import numpy as np\n",
    "import os, sys, gc\n",
    "from scipy.spatial.distance import mahalanobis\n",
    "import matplotlib.pyplot as plt\n",
    "\n",
    "from keras.models import Model, load_model, Sequential\n",
    "from keras.layers import Dense, Activation\n",
    "from keras import backend as K"
   ]
  },
  {
   "cell_type": "code",
   "execution_count": 9,
   "metadata": {},
   "outputs": [],
   "source": [
    "emprical_means_h = np.load('..//..//modules//Checkpoint_home_All_neurons_home_4096_filters_3072_dropout_0.2_epoch_1000_dense_10_penultimate_mahalanobis_training_samples_emprical_means_h.npy')\n",
    "emprical_means_a = np.load('..//..//modules//Checkpoint_home_All_neurons_home_4096_filters_3072_dropout_0.2_epoch_1000_dense_10_penultimate_mahalanobis_training_samples_emprical_means_a.npy')\n",
    "emprical_means_n = np.load('..//..//modules//Checkpoint_home_All_neurons_home_4096_filters_3072_dropout_0.2_epoch_1000_dense_10_penultimate_mahalanobis_training_samples_emprical_means_n.npy')\n",
    "emprical_means_s = np.load('..//..//modules//Checkpoint_home_All_neurons_home_4096_filters_3072_dropout_0.2_epoch_1000_dense_10_penultimate_mahalanobis_training_samples_emprical_means_s.npy')\n",
    "emprical_means_o = np.load('..//..//modules//Checkpoint_home_All_neurons_home_4096_filters_3072_dropout_0.2_epoch_1000_dense_10_penultimate_mahalanobis_training_samples_emprical_means_o.npy')"
   ]
  },
  {
   "cell_type": "code",
   "execution_count": 10,
   "metadata": {},
   "outputs": [],
   "source": [
    "emprical_std_means_h = np.std(emprical_means_h)\n",
    "emprical_std_means_a = np.std(emprical_means_a)\n",
    "emprical_std_means_n = np.std(emprical_means_n)\n",
    "emprical_std_means_s = np.std(emprical_means_s)\n",
    "emprical_std_means_o = np.std(emprical_means_o)\n",
    "\n",
    "emprical_mean_of_means_h = np.mean(emprical_means_h)\n",
    "emprical_mean_of_means_a = np.mean(emprical_means_a)\n",
    "emprical_mean_of_means_n = np.mean(emprical_means_n)\n",
    "emprical_mean_of_means_s = np.mean(emprical_means_s)\n",
    "emprical_mean_of_means_o = np.mean(emprical_means_o)"
   ]
  },
  {
   "cell_type": "code",
   "execution_count": 15,
   "metadata": {},
   "outputs": [],
   "source": [
    "stds_five = [emprical_std_means_h, emprical_std_means_a, emprical_std_means_n, emprical_std_means_s, emprical_std_means_o]\n",
    "means_five = [emprical_mean_of_means_h, emprical_mean_of_means_a, emprical_mean_of_means_n, emprical_mean_of_means_s, emprical_mean_of_means_o]"
   ]
  },
  {
   "cell_type": "code",
   "execution_count": 11,
   "metadata": {},
   "outputs": [],
   "source": [
    "mius = np.load('..//..//modules//Checkpoint_home_All_neurons_home_4096_filters_3072_dropout_0.2_epoch_1000_dense_10_penultimate_emprical_means.npy')\n",
    "covariance_mat = np.load('..//..//modules//Checkpoint_home_All_neurons_home_4096_filters_3072_dropout_0.2_epoch_1000_dense_10_penultimate_emprical_covariance.npy')"
   ]
  },
  {
   "cell_type": "code",
   "execution_count": 12,
   "metadata": {},
   "outputs": [],
   "source": [
    "#C = [0, 1, 2, 3, 4]\n",
    "#maha_scores_calm = calc_mahalanobis(featureSet_calm, Label_calm, C, covariance_mat, mius)\n",
    "#np.save('..//..//modules//Checkpoint_home_All_neurons_home_4096_filters_3072_dropout_0.2_epoch_1000_dense_10_penultimate_calm_maha_scores.npy', maha_scores_calm)\n",
    "maha_scores_calm = np.load('..//..//modules//Checkpoint_home_All_neurons_home_4096_filters_3072_dropout_0.2_epoch_1000_dense_10_penultimate_calm_maha_scores.npy', allow_pickle=True)"
   ]
  },
  {
   "cell_type": "code",
   "execution_count": 13,
   "metadata": {},
   "outputs": [],
   "source": [
    "#C = [0, 1, 2, 3, 4]\n",
    "#maha_scores_surprise = calc_mahalanobis(featureSet_surprise, Label_surprise, C, covariance_mat, mius)\n",
    "#np.save('..//..//modules//Checkpoint_home_All_neurons_home_4096_filters_3072_dropout_0.2_epoch_1000_dense_10_penultimate_surprise_maha_scores.npy', maha_scores_surprise)\n",
    "maha_scores_surprise = np.load('..//..//modules//Checkpoint_home_All_neurons_home_4096_filters_3072_dropout_0.2_epoch_1000_dense_10_penultimate_surprise_maha_scores.npy', allow_pickle=True)"
   ]
  },
  {
   "cell_type": "code",
   "execution_count": 27,
   "metadata": {},
   "outputs": [],
   "source": [
    "maha_scores_test = np.load('..//..//modules//Checkpoint_home_All_neurons_home_4096_filters_3072_dropout_0.2_epoch_1000_dense_10_penultimate_m_scores_norm_test_set_no_calm_or_surprise.npy')"
   ]
  },
  {
   "cell_type": "code",
   "execution_count": 14,
   "metadata": {},
   "outputs": [],
   "source": [
    "def min_index(a): \n",
    "    a = list(a)\n",
    "    # inbuilt function to find the position of minimum  \n",
    "    minpos = a.index(min(a))  \n",
    "    # inbuilt function to find the position of maximum  \n",
    "    maxpos = a.index(max(a))    \n",
    "    return minpos\n",
    "\n",
    "def max_index(a): \n",
    "    a = list(a)\n",
    "    # inbuilt function to find the position of minimum  \n",
    "    minpos = a.index(min(a))  \n",
    "    # inbuilt function to find the position of maximum  \n",
    "    maxpos = a.index(max(a))    \n",
    "    return maxpos"
   ]
  },
  {
   "cell_type": "code",
   "execution_count": 89,
   "metadata": {},
   "outputs": [],
   "source": [
    "def test_ood_samples(maha_scores_vector, means_for_all_classes, stds_for_all_classes):\n",
    "    ind = 0\n",
    "    ood = 0\n",
    "    \n",
    "    for item in maha_scores_vector:\n",
    "        \n",
    "        if np.array(item).shape != (5,):\n",
    "            rearranged = [item[0][0], item[1][0], item[2][0], item[3][0], item[4][0]]\n",
    "        else:\n",
    "            rearranged = item\n",
    "        plausible = min_index(rearranged)\n",
    "    \n",
    "    if means_for_all_classes[plausible] - 1.5 * stds_for_all_classes[plausible] < rearranged[plausible] and rearranged[plausible] < means_for_all_classes[plausible] + 1.5 * stds_for_all_classes[plausible]:\n",
    "        ind += 1\n",
    "    else:\n",
    "        ood += 1\n",
    "    \n",
    "    return ind, ood"
   ]
  },
  {
   "cell_type": "code",
   "execution_count": 90,
   "metadata": {},
   "outputs": [
    {
     "name": "stdout",
     "output_type": "stream",
     "text": [
      "Accuracy of the ood algorithm on calm samples are: 1.0\n"
     ]
    }
   ],
   "source": [
    "ind_calm, ood_calm = test_ood_samples(maha_scores_calm, means_five, stds_five)\n",
    "print('Accuracy of the ood algorithm on calm samples are: ' + str(ood_calm/(ind_calm+ood_calm)) )"
   ]
  },
  {
   "cell_type": "code",
   "execution_count": 91,
   "metadata": {},
   "outputs": [
    {
     "name": "stdout",
     "output_type": "stream",
     "text": [
      "Accuracy of the ood algorithm on surprise samples are: 0.0\n"
     ]
    }
   ],
   "source": [
    "ind_surprise, ood_surprise = test_ood_samples(maha_scores_surprise, means_five, stds_five)\n",
    "print('Accuracy of the ood algorithm on surprise samples are: ' + str(ood_surprise/(ind_surprise+ood_surprise)) )"
   ]
  },
  {
   "cell_type": "code",
   "execution_count": 92,
   "metadata": {},
   "outputs": [
    {
     "name": "stdout",
     "output_type": "stream",
     "text": [
      "Accuracy of the ood algorithm on calm samples are: 1.0\n"
     ]
    }
   ],
   "source": [
    "ind_test, ood_test = test_ood_samples(maha_scores_test, means_five, stds_five)\n",
    "print('Accuracy of the ood algorithm on calm samples are: ' + str(ind_test/(ind_test+ood_test)) )"
   ]
  },
  {
   "cell_type": "code",
   "execution_count": null,
   "metadata": {},
   "outputs": [],
   "source": []
  }
 ],
 "metadata": {
  "kernelspec": {
   "display_name": "Python 3",
   "language": "python",
   "name": "python3"
  },
  "language_info": {
   "codemirror_mode": {
    "name": "ipython",
    "version": 3
   },
   "file_extension": ".py",
   "mimetype": "text/x-python",
   "name": "python",
   "nbconvert_exporter": "python",
   "pygments_lexer": "ipython3",
   "version": "3.7.4"
  }
 },
 "nbformat": 4,
 "nbformat_minor": 2
}
