{
 "cells": [
  {
   "cell_type": "code",
   "execution_count": 44,
   "metadata": {},
   "outputs": [],
   "source": [
    "import os\n",
    "import scipy.io as sio\n",
    "\n",
    "import numpy as np\n",
    "import csv"
   ]
  },
  {
   "cell_type": "code",
   "execution_count": 3,
   "metadata": {},
   "outputs": [],
   "source": [
    "wavlogits = sio.loadmat('C://Users//Ash Gao//Documents//VoxCeleb//senet50-ferplus-logits.mat')"
   ]
  },
  {
   "cell_type": "code",
   "execution_count": 4,
   "metadata": {},
   "outputs": [
    {
     "name": "stdout",
     "output_type": "stream",
     "text": [
      "# of predicted samples in training and testing by the teacher model: 153352\n"
     ]
    }
   ],
   "source": [
    "names = wavlogits['images'][0][0][0][0]\n",
    "print('# of predicted samples in training and testing by the teacher model: ' + str(len(names)))"
   ]
  },
  {
   "cell_type": "code",
   "execution_count": 30,
   "metadata": {},
   "outputs": [
    {
     "name": "stdout",
     "output_type": "stream",
     "text": [
      "# of prediction in training and testing by the teacher model: 153352\n"
     ]
    }
   ],
   "source": [
    "logits = wavlogits['wavLogits'][0]\n",
    "print('# of prediction in training and testing by the teacher model: ' + str(len(logits)))"
   ]
  },
  {
   "cell_type": "code",
   "execution_count": 33,
   "metadata": {},
   "outputs": [],
   "source": [
    "def prediction_by_logits(tensor):\n",
    "    #print('The shape of the tensor is ' + str(tensor.shape))\n",
    "    tracker = [0] * 8  \n",
    "    for vector in tensor:\n",
    "        most_likely_class_vec = np.argmax(vector)\n",
    "        tracker[most_likely_class_vec] += 1\n",
    "    \n",
    "    print(np.argmax(tracker))\n",
    "    return tracker"
   ]
  },
  {
   "cell_type": "code",
   "execution_count": 53,
   "metadata": {},
   "outputs": [],
   "source": [
    "name_to_pred = []\n",
    "for name, pred in zip(names, logits):\n",
    "    name_to_pred.append([name[0], pred])"
   ]
  },
  {
   "cell_type": "code",
   "execution_count": 55,
   "metadata": {},
   "outputs": [],
   "source": [
    "np.save('C://Users//Ash Gao//Documents//VoxCeleb//teacher_output.npy', name_to_pred)"
   ]
  },
  {
   "cell_type": "code",
   "execution_count": null,
   "metadata": {},
   "outputs": [],
   "source": []
  }
 ],
 "metadata": {
  "kernelspec": {
   "display_name": "Python 3.7.4 64-bit ('base': conda)",
   "language": "python",
   "name": "python37464bitbaseconda520b236a9c6d486bbc01b80a136b32a1"
  },
  "language_info": {
   "codemirror_mode": {
    "name": "ipython",
    "version": 3
   },
   "file_extension": ".py",
   "mimetype": "text/x-python",
   "name": "python",
   "nbconvert_exporter": "python",
   "pygments_lexer": "ipython3",
   "version": "3.7.4"
  }
 },
 "nbformat": 4,
 "nbformat_minor": 4
}
