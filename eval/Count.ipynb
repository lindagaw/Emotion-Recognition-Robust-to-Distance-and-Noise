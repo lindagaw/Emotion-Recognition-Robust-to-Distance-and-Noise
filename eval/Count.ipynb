{
 "cells": [
  {
   "cell_type": "markdown",
   "metadata": {},
   "source": [
    "# Evaluation of the Classifier"
   ]
  },
  {
   "cell_type": "markdown",
   "metadata": {},
   "source": [
    "This is the evaluation script of the classifier that outputs a vector of size 5."
   ]
  },
  {
   "cell_type": "markdown",
   "metadata": {},
   "source": [
    "### library and package importation"
   ]
  },
  {
   "cell_type": "code",
   "execution_count": 1,
   "metadata": {},
   "outputs": [
    {
     "name": "stderr",
     "output_type": "stream",
     "text": [
      "Using TensorFlow backend.\n"
     ]
    }
   ],
   "source": [
    "import random\n",
    "import os\n",
    "import shutil\n",
    "import glob\n",
    "import gc\n",
    "import sys\n",
    "import h5py\n",
    "import time\n",
    "import datetime\n",
    "import pickle\n",
    "import librosa\n",
    "import warnings\n",
    "import matplotlib.pyplot as plt\n",
    "\n",
    "from graphs import draw\n",
    "import graphs\n",
    "\n",
    "import numpy as np\n",
    "from numpy import array\n",
    "import pandas as pd\n",
    "from pandas.plotting import parallel_coordinates\n",
    "from pydub import AudioSegment\n",
    "\n",
    "#imported for testing\n",
    "import wave\n",
    "import contextlib\n",
    "\n",
    "# for outputing file\n",
    "from scipy.cluster.vq import vq, kmeans, whiten\n",
    "import scipy.stats.stats as st\n",
    "\n",
    "from sklearn.cluster import KMeans\n",
    "from sklearn.datasets import make_classification\n",
    "from sklearn.datasets.samples_generator import make_blobs\n",
    "from sklearn.decomposition import PCA as sklearnPCA\n",
    "from sklearn.discriminant_analysis import LinearDiscriminantAnalysis as LDA\n",
    "from sklearn.ensemble import RandomForestClassifier, ExtraTreesClassifier\n",
    "from sklearn.impute import SimpleImputer\n",
    "from sklearn.preprocessing import normalize\n",
    "from sklearn.metrics import auc, confusion_matrix, accuracy_score, precision_score, recall_score, f1_score\n",
    "from sklearn import mixture\n",
    "from sklearn.model_selection import train_test_split\n",
    "from sklearn.neighbors import KNeighborsClassifier\n",
    "from sklearn.svm import SVC\n",
    "from sklearn.utils import class_weight\n",
    "\n",
    "import keras\n",
    "\n",
    "from keras.callbacks import ModelCheckpoint, EarlyStopping\n",
    "from keras.constraints import maxnorm\n",
    "from keras.layers import Convolution1D, Dense, MaxPooling1D, Flatten, Add, Dropout, Input, Activation\n",
    "from keras.layers import TimeDistributed, Bidirectional, LSTM, LeakyReLU\n",
    "from keras.models import Sequential\n",
    "from keras.models import load_model\n",
    "from keras import optimizers, regularizers\n",
    "from keras.utils import np_utils, to_categorical\n",
    "\n",
    "from IPython.display import clear_output\n",
    "\n",
    "# confirm TensorFlow sees the GPU\n",
    "from tensorflow.python.client import device_lib\n",
    "# assert 'GPU' in str(device_lib.list_local_devices())\n",
    "\n",
    "# confirm Keras sees the GPU\n",
    "from keras import backend\n",
    "# print(len(backend.tensorflow_backend._get_available_gpus()) > 0)\n",
    "\n",
    "sample_rate=44100\n",
    "hop_length = 441  # frame size= 2*hop\n",
    "segment_length=int(sample_rate*0.2)  #0.2\n",
    "segment_pad=int(sample_rate*0.02)     #0.02\n",
    "overlappiong=int(sample_rate*0.1)   #0.1\n",
    "\n",
    "NumofFeaturetoUse = 272 # this will re-assigned for different classifiers\n",
    "frame_number = 48\n",
    "\n",
    "sys.path.insert(1, '..//components//')\n",
    "import load_feat_directories\n",
    "\n",
    "# input new indices file here\n",
    "# indices_filename = 'D://indices_filename.npy'\n",
    "# indices=np.load(indices_filename)"
   ]
  },
  {
   "cell_type": "code",
   "execution_count": 2,
   "metadata": {},
   "outputs": [],
   "source": [
    "def avail_modules(directory, prefix):\n",
    "    module_names = []\n",
    "    for item in os.listdir(directory):\n",
    "        if prefix in item:\n",
    "            module_names.append(directory + item)\n",
    "            i = module_names.index(directory + item)\n",
    "            print(str(i) + 'th module')\n",
    "            print(directory + item)\n",
    "    return module_names"
   ]
  },
  {
   "cell_type": "code",
   "execution_count": 3,
   "metadata": {},
   "outputs": [],
   "source": [
    "def comprise_vector(path, dist, reverb, noise):\n",
    "    vec_to_return = []\n",
    "    for fname in os.listdir(path):\n",
    "        components = fname.split('_')\n",
    "        '''\n",
    "        if dist == 0 and 'deamp' in components: continue\n",
    "        if reverb == 0 and 'WetDry' in components: continue\n",
    "        if noise == 0 and 'noise' in components: continue\n",
    "        '''\n",
    "        current_vec = np.load(path + fname)\n",
    "        vec_to_return.append(current_vec)\n",
    "        \n",
    "    vec_to_return = np.array(vec_to_return)\n",
    "    return vec_to_return"
   ]
  },
  {
   "cell_type": "code",
   "execution_count": 4,
   "metadata": {},
   "outputs": [],
   "source": [
    "def comprise_label(feature_vector, label):\n",
    "    label_vec_to_ret = []\n",
    "    length = len(list(feature_vector))\n",
    "    for index in range(0, length):\n",
    "        current_label = [label]\n",
    "        label_vec_to_ret.append(current_label)\n",
    "    label_vec_to_ret = np.array(label_vec_to_ret)\n",
    "\n",
    "    return label_vec_to_ret\n",
    "\n",
    "def float_compatible(input_np):\n",
    "\n",
    "    x = np.where(input_np >= np.finfo(np.float32).max)\n",
    "    for index in range(0, len(x[0])):\n",
    "        x_position = x[0][index]\n",
    "        y_position = x[1][index]\n",
    "        input_np[x_position, y_position] = 0.0\n",
    "    input_np = np.nan_to_num(input_np)\n",
    "\n",
    "    return input_np\n",
    "\n",
    "def update_progress(progress):\n",
    "    bar_length = 100\n",
    "    if isinstance(progress, int):\n",
    "        progress = float(progress)\n",
    "    if not isinstance(progress, float):\n",
    "        progress = 0\n",
    "    if progress < 0:\n",
    "        progress = 0\n",
    "    if progress >= 1:\n",
    "        progress = 1\n",
    "\n",
    "    block = int(round(bar_length * progress))\n",
    "    clear_output(wait = True)\n",
    "    \n",
    "    text = \"Progress: [{0}] {1:.1f}%\".format( \"#\" * block + \"-\" * (bar_length - block), progress * 100)\n",
    "    print(text)"
   ]
  },
  {
   "cell_type": "code",
   "execution_count": 5,
   "metadata": {},
   "outputs": [],
   "source": [
    "# allnoised_npy[0, 1, 2, 3, 4] ==> H, A, N, S, O\n",
    "# homenoised_npy[0, 1, 2, 3, 4] ==> H, A, N, S, O\n",
    "all_noised_npy = load_feat_directories.allnoised_npy\n",
    "all_noised_npy_test = load_feat_directories.allnoised_npy_test\n",
    "home_noised_npy = load_feat_directories.homenoised_npy\n",
    "home_noised_npy_test = load_feat_directories.homenoised_npy_test\n",
    "\n",
    "for index in range(0, 5):\n",
    "    if not os.path.exists(all_noised_npy_test[index]):\n",
    "        print(all_noised_npy_test[index] + ' does not exist. Breaking the loop... ')\n",
    "    if not os.path.exists(home_noised_npy[index]):\n",
    "        print(home_noised_npy_test[index] + 'does not exist. Breaking the loop... ')"
   ]
  },
  {
   "cell_type": "code",
   "execution_count": 18,
   "metadata": {},
   "outputs": [],
   "source": [
    "emotions = [0, 1, 2, 3, 4]\n",
    "home_or_all = 'home'\n",
    "dist = 0\n",
    "reverb = 0\n",
    "noise = 0\n",
    "\n",
    "for index in emotions:\n",
    "  \n",
    "    if index == 0:\n",
    "        \n",
    "        path = home_noised_npy_test[index]\n",
    "        val_h_feat = comprise_vector(path, dist, reverb, noise)\n",
    "        val_h_label = comprise_label(val_h_feat, index)\n",
    "        \n",
    "        path = home_noised_npy[index]\n",
    "        h_feat = comprise_vector(path, dist, reverb, noise)\n",
    "        h_label = comprise_label(h_feat, index)\n",
    "        \n",
    "    elif index == 1:\n",
    "        path = home_noised_npy_test[index]\n",
    "        val_a_feat = comprise_vector(path, dist, reverb, noise)\n",
    "        val_a_label = comprise_label(val_a_feat, index)\n",
    "        \n",
    "        path = home_noised_npy[index]\n",
    "        a_feat = comprise_vector(path, dist, reverb, noise)\n",
    "        a_label = comprise_label(a_feat, index)\n",
    "    elif index == 2:\n",
    "        path = home_noised_npy_test[index]\n",
    "        val_n_feat = comprise_vector(path, dist, reverb, noise)\n",
    "        val_n_label = comprise_label(val_n_feat, index)\n",
    "        \n",
    "        path = home_noised_npy[index]\n",
    "        n_feat = comprise_vector(path, dist, reverb, noise)\n",
    "        n_label = comprise_label(n_feat, index)\n",
    "    elif index == 3:\n",
    "        path = home_noised_npy_test[index]\n",
    "        val_s_feat = comprise_vector(path, dist, reverb, noise)\n",
    "        val_s_label = comprise_label(val_s_feat, index)\n",
    "        \n",
    "        path = home_noised_npy[index]\n",
    "        s_feat = comprise_vector(path, dist, reverb, noise)\n",
    "        s_label = comprise_label(s_feat, index)\n",
    "    else:\n",
    "        path = home_noised_npy_test[index]\n",
    "        val_o_feat = comprise_vector(path, dist, reverb, noise)\n",
    "        val_o_label = comprise_label(val_o_feat, index)\n",
    "        \n",
    "        path = home_noised_npy[index]\n",
    "        o_feat = comprise_vector(path, dist, reverb, noise)\n",
    "        o_label = comprise_label(o_feat, index)\n"
   ]
  },
  {
   "cell_type": "markdown",
   "metadata": {},
   "source": [
    "# Count files in different scenarios"
   ]
  },
  {
   "cell_type": "code",
   "execution_count": 38,
   "metadata": {},
   "outputs": [],
   "source": [
    "def eval_all(emotionFolders):\n",
    "    total = 0\n",
    "    h = 0\n",
    "    a = 0\n",
    "    nn = 0\n",
    "    s = 0\n",
    "    o = 0\n",
    "    \n",
    "    for emotionFolder in emotionFolders:\n",
    "        for emotionfile in os.listdir(emotionFolder):\n",
    "            if 'Happy' in emotionfile: h += 1\n",
    "            elif 'Angry' in emotionfile: a += 1\n",
    "            elif 'Neutral' in emotionfile: nn += 1\n",
    "            elif 'Sad' in emotionfile: s += 1\n",
    "            else: o += 1\n",
    "\n",
    "            total += 1\n",
    "\n",
    "    return [h, a, nn, s, o, total]"
   ]
  },
  {
   "cell_type": "code",
   "execution_count": 39,
   "metadata": {},
   "outputs": [],
   "source": [
    "def eval_original(emotionFolders):\n",
    "    total = 0\n",
    "    h = 0\n",
    "    a = 0\n",
    "    nn = 0\n",
    "    s = 0\n",
    "    o = 0\n",
    "    \n",
    "    for emotionFolder in emotionFolders:\n",
    "        for emotionfile in os.listdir(emotionFolder):\n",
    "            dist = 'deamp_' in emotionfile\n",
    "            reverb = 'WetDry_' in emotionfile and 'Diffusion_' in emotionfile and 'DecayFactor_' in emotionfile\n",
    "            noise = 'noise_' in emotionfile\n",
    "        \n",
    "            r_n = not dist and reverb and noise \n",
    "            r = not dist and reverb and not noise\n",
    "            n = not dist and not reverb and noise\n",
    "            original = not dist and not reverb and not noise\n",
    "            d_r_n = dist and reverb and noise\n",
    "            d_r = dist and reverb and not noise\n",
    "            d_n = dist and not reverb and noise\n",
    "            d = dist and not reverb and not noise \n",
    "            \n",
    "            if original:           \n",
    "                if 'Happy' in emotionfile: h += 1\n",
    "                elif 'Angry' in emotionfile: a += 1\n",
    "                elif 'Neutral' in emotionfile: nn += 1\n",
    "                elif 'Sad' in emotionfile: s += 1\n",
    "                else: o += 1\n",
    "                \n",
    "                total += 1\n",
    "    \n",
    "    return [h, a, nn, s, o, total]"
   ]
  },
  {
   "cell_type": "code",
   "execution_count": 54,
   "metadata": {},
   "outputs": [],
   "source": [
    "def eval_deamplified_noised(emotionFolders):\n",
    "    total = 0\n",
    "    h = 0\n",
    "    a = 0\n",
    "    nn = 0\n",
    "    s = 0\n",
    "    o = 0\n",
    "    \n",
    "    for emotionFolder in emotionFolders:\n",
    "        for emotionfile in os.listdir(emotionFolder):\n",
    "            dist = 'deamp_' in emotionfile\n",
    "            reverb = 'WetDry_' in emotionfile and 'Diffusion_' in emotionfile and 'DecayFactor_' in emotionfile\n",
    "            noise = 'noise_' in emotionfile\n",
    "        \n",
    "            r_n = not dist and reverb and noise \n",
    "            r = not dist and reverb and not noise\n",
    "            n = not dist and not reverb and noise\n",
    "            original = not dist and not reverb and not noise\n",
    "            d_r_n = dist and reverb and noise\n",
    "            d_r = dist and reverb and not noise\n",
    "            d_n = dist and not reverb and noise\n",
    "            d = dist and not reverb and not noise # does not exist\n",
    "            \n",
    "            if d_n:\n",
    "                if 'Happy' in emotionfile: h += 1\n",
    "                elif 'Angry' in emotionfile: a += 1\n",
    "                elif 'Neutral' in emotionfile: nn += 1\n",
    "                elif 'Sad' in emotionfile: s += 1\n",
    "                else: o += 1\n",
    "                    \n",
    "                total += 1\n",
    "    return [h, a, nn, s, o, total]"
   ]
  },
  {
   "cell_type": "code",
   "execution_count": 55,
   "metadata": {},
   "outputs": [],
   "source": [
    "def eval_reverbed(emotionFolders):\n",
    "    total = 0\n",
    "    h = 0\n",
    "    a = 0\n",
    "    nn = 0\n",
    "    s = 0\n",
    "    o = 0\n",
    "    \n",
    "    for emotionFolder in emotionFolders:\n",
    "\n",
    "        for emotionfile in os.listdir(emotionFolder):\n",
    "            dist = 'deamp_' in emotionfile\n",
    "            reverb = 'WetDry_' in emotionfile and 'Diffusion_' in emotionfile and 'DecayFactor_' in emotionfile\n",
    "            noise = 'noise_' in emotionfile\n",
    "        \n",
    "            r_n = not dist and reverb and noise \n",
    "            r = not dist and reverb and not noise\n",
    "            n = not dist and not reverb and noise\n",
    "            original = not dist and not reverb and not noise\n",
    "            d_r_n = dist and reverb and noise\n",
    "            d_r = dist and reverb and not noise\n",
    "            d_n = dist and not reverb and noise\n",
    "            d = dist and not reverb and not noise # does not exist\n",
    "            \n",
    "            if r:\n",
    "                if 'Happy' in emotionfile: h += 1\n",
    "                elif 'Angry' in emotionfile: a += 1\n",
    "                elif 'Neutral' in emotionfile: nn += 1\n",
    "                elif 'Sad' in emotionfile: s += 1\n",
    "                else: o += 1\n",
    "                    \n",
    "                total += 1         \n",
    "    return [h, a, nn, s, o, total]"
   ]
  },
  {
   "cell_type": "code",
   "execution_count": 56,
   "metadata": {},
   "outputs": [],
   "source": [
    "def eval_deamplified_noised_reverbed(emotionFolders):\n",
    "    total = 0\n",
    "    h = 0\n",
    "    a = 0\n",
    "    nn = 0\n",
    "    s = 0\n",
    "    o = 0\n",
    "    for emotionFolder in emotionFolders:\n",
    "        for emotionfile in os.listdir(emotionFolder):\n",
    "            dist = 'deamp_' in emotionfile\n",
    "            reverb = 'WetDry_' in emotionfile and 'Diffusion_' in emotionfile and 'DecayFactor_' in emotionfile\n",
    "            noise = 'noise_' in emotionfile\n",
    "        \n",
    "            r_n = not dist and reverb and noise \n",
    "            r = not dist and reverb and not noise\n",
    "            n = not dist and not reverb and noise\n",
    "            original = not dist and not reverb and not noise\n",
    "            d_r_n = dist and reverb and noise\n",
    "            d_r = dist and reverb and not noise\n",
    "            d_n = dist and not reverb and noise\n",
    "            d = dist and not reverb and not noise # does not exist\n",
    "            \n",
    "            if d_r_n:\n",
    "                if 'Happy' in emotionfile: h += 1\n",
    "                elif 'Angry' in emotionfile: a += 1\n",
    "                elif 'Neutral' in emotionfile: nn += 1\n",
    "                elif 'Sad' in emotionfile: s += 1\n",
    "                else: o += 1\n",
    "                    \n",
    "                total += 1\n",
    "    return [h, a, nn, s, o, total]"
   ]
  },
  {
   "cell_type": "code",
   "execution_count": 57,
   "metadata": {},
   "outputs": [
    {
     "name": "stdout",
     "output_type": "stream",
     "text": [
      "testing data: (7551, 48, 272)\n",
      "testing label: (7551, 4)\n"
     ]
    }
   ],
   "source": [
    "# Load testing npy files\n",
    "featureSet_val = float_compatible(np.vstack((val_h_feat, val_a_feat, val_n_feat, val_s_feat)))\n",
    "Label_val = np.vstack((val_h_label, val_a_label, val_n_label, val_s_label))\n",
    "\n",
    "Label_val = to_categorical(Label_val)\n",
    "print('testing data: ' + str(featureSet_val.shape))\n",
    "print('testing label: ' + str(Label_val.shape))"
   ]
  },
  {
   "cell_type": "code",
   "execution_count": 58,
   "metadata": {},
   "outputs": [
    {
     "name": "stdout",
     "output_type": "stream",
     "text": [
      "evaluation data: (34155, 48, 272)\n",
      "evaluation label: (34155, 4)\n"
     ]
    }
   ],
   "source": [
    "# Load testing npy files\n",
    "featureSet = float_compatible(np.vstack((h_feat, a_feat, n_feat, s_feat)))\n",
    "Label = np.vstack((h_label, a_label, n_label, s_label))\n",
    "\n",
    "Label = to_categorical(Label)\n",
    "print('evaluation data: ' + str(featureSet.shape))\n",
    "print('evaluation label: ' + str(Label.shape))"
   ]
  },
  {
   "cell_type": "markdown",
   "metadata": {},
   "source": [
    "## Specify the directories that contain the files of emotion"
   ]
  },
  {
   "cell_type": "code",
   "execution_count": 71,
   "metadata": {},
   "outputs": [],
   "source": [
    "emotionFolders_val = [home_noised_npy_test[0], home_noised_npy_test[1], \\\n",
    "                  home_noised_npy_test[2], home_noised_npy_test[3], home_noised_npy_test[4]]"
   ]
  },
  {
   "cell_type": "code",
   "execution_count": 79,
   "metadata": {},
   "outputs": [],
   "source": [
    "emotionFolders = [home_noised_npy[0], home_noised_npy[1], \\\n",
    "                  home_noised_npy[2], home_noised_npy[3], home_noised_npy[4]]"
   ]
  },
  {
   "cell_type": "code",
   "execution_count": 80,
   "metadata": {
    "scrolled": true
   },
   "outputs": [],
   "source": [
    "val_s1 = eval_original(emotionFolders_val)\n",
    "val_s2 = eval_deamplified_noised(emotionFolders_val)\n",
    "val_s3 = eval_reverbed(emotionFolders_val)\n",
    "val_s4 = eval_deamplified_noised_reverbed(emotionFolders_val)\n",
    "val_s5 = eval_all(emotionFolders_val)"
   ]
  },
  {
   "cell_type": "code",
   "execution_count": 81,
   "metadata": {},
   "outputs": [],
   "source": [
    "train_s1 = eval_original(emotionFolders)\n",
    "train_s2 = eval_deamplified_noised(emotionFolders)\n",
    "train_s3 = eval_reverbed(emotionFolders)\n",
    "train_s4 = eval_deamplified_noised_reverbed(emotionFolders)\n",
    "train_s5 = eval_all(emotionFolders)"
   ]
  },
  {
   "cell_type": "code",
   "execution_count": 82,
   "metadata": {},
   "outputs": [],
   "source": [
    "def display(val, train):\n",
    "    h = val[0] + train[0]\n",
    "    a = val[1] + train[1]\n",
    "    n = val[2] + train[2]\n",
    "    s = val[3] + train[3]\n",
    "    o = val[4] + train[4]\n",
    "    t = val[5] + train[5]\n",
    "    \n",
    "    print('There are ' + str(h) + ' happy samples, ' +  str(a) + ' angry samples, ' + \\\n",
    "          str(n) + ' neutral samples, ' + str(s) + ' sad samples, ' + \n",
    "         str(o) + ' samples of confounding speech. In total, there are ' + str(t) + ' samples.' )"
   ]
  },
  {
   "cell_type": "code",
   "execution_count": 83,
   "metadata": {},
   "outputs": [
    {
     "name": "stdout",
     "output_type": "stream",
     "text": [
      "There are 1792 happy samples, 1793 angry samples, 1573 neutral samples, 1793 sad samples, 1837 samples of confounding speech. In total, there are 8788 samples.\n"
     ]
    }
   ],
   "source": [
    "display(val_s1, train_s1)"
   ]
  },
  {
   "cell_type": "code",
   "execution_count": 84,
   "metadata": {},
   "outputs": [
    {
     "name": "stdout",
     "output_type": "stream",
     "text": [
      "There are 3584 happy samples, 3586 angry samples, 3146 neutral samples, 3586 sad samples, 3674 samples of confounding speech. In total, there are 17576 samples.\n"
     ]
    }
   ],
   "source": [
    "display(val_s2, train_s2)"
   ]
  },
  {
   "cell_type": "code",
   "execution_count": 85,
   "metadata": {},
   "outputs": [
    {
     "name": "stdout",
     "output_type": "stream",
     "text": [
      "There are 1792 happy samples, 1793 angry samples, 1573 neutral samples, 1793 sad samples, 1542 samples of confounding speech. In total, there are 8493 samples.\n"
     ]
    }
   ],
   "source": [
    "display(val_s3, train_s3)"
   ]
  },
  {
   "cell_type": "code",
   "execution_count": 86,
   "metadata": {},
   "outputs": [
    {
     "name": "stdout",
     "output_type": "stream",
     "text": [
      "There are 3584 happy samples, 3586 angry samples, 3146 neutral samples, 3586 sad samples, 0 samples of confounding speech. In total, there are 13902 samples.\n"
     ]
    }
   ],
   "source": [
    "display(val_s4, train_s4)"
   ]
  },
  {
   "cell_type": "code",
   "execution_count": 87,
   "metadata": {},
   "outputs": [
    {
     "name": "stdout",
     "output_type": "stream",
     "text": [
      "There are 10752 happy samples, 10758 angry samples, 9438 neutral samples, 10758 sad samples, 7053 samples of confounding speech. In total, there are 48759 samples.\n"
     ]
    }
   ],
   "source": [
    "display(val_s5, train_s5)"
   ]
  },
  {
   "cell_type": "code",
   "execution_count": null,
   "metadata": {},
   "outputs": [],
   "source": []
  }
 ],
 "metadata": {
  "kernelspec": {
   "display_name": "Python 3",
   "language": "python",
   "name": "python3"
  },
  "language_info": {
   "codemirror_mode": {
    "name": "ipython",
    "version": 3
   },
   "file_extension": ".py",
   "mimetype": "text/x-python",
   "name": "python",
   "nbconvert_exporter": "python",
   "pygments_lexer": "ipython3",
   "version": "3.6.8"
  }
 },
 "nbformat": 4,
 "nbformat_minor": 2
}
