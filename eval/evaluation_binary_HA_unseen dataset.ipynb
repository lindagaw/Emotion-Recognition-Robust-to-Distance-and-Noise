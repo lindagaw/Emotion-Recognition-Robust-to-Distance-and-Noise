{
 "cells": [
  {
   "cell_type": "markdown",
   "metadata": {},
   "source": [
    "# Evaluation of the H/A classifier"
   ]
  },
  {
   "cell_type": "markdown",
   "metadata": {},
   "source": [
    "This is the evaluation script of the top classifier in the hierarchy of three classifiers. The top classifier outputs a vector of size 2.\n",
    "\n",
    "The two indices of the vector are the scores that the classifier has calculated based on one 5-second audio clip.\n",
    "\n",
    "The first indice (0th) is the score/probability that the audio clip is of the Happy/Angry class.\n",
    "\n",
    "The second indice (1st) is the score/probability that the audio clip is of the Neutral/Sad class."
   ]
  },
  {
   "cell_type": "markdown",
   "metadata": {},
   "source": [
    "### library and package importation"
   ]
  },
  {
   "cell_type": "code",
   "execution_count": 1,
   "metadata": {},
   "outputs": [
    {
     "name": "stderr",
     "output_type": "stream",
     "text": [
      "Using TensorFlow backend.\n",
      "C:\\Users\\yg9ca\\Anaconda3\\lib\\site-packages\\tensorflow\\python\\framework\\dtypes.py:516: FutureWarning: Passing (type, 1) or '1type' as a synonym of type is deprecated; in a future version of numpy, it will be understood as (type, (1,)) / '(1,)type'.\n",
      "  _np_qint8 = np.dtype([(\"qint8\", np.int8, 1)])\n",
      "C:\\Users\\yg9ca\\Anaconda3\\lib\\site-packages\\tensorflow\\python\\framework\\dtypes.py:517: FutureWarning: Passing (type, 1) or '1type' as a synonym of type is deprecated; in a future version of numpy, it will be understood as (type, (1,)) / '(1,)type'.\n",
      "  _np_quint8 = np.dtype([(\"quint8\", np.uint8, 1)])\n",
      "C:\\Users\\yg9ca\\Anaconda3\\lib\\site-packages\\tensorflow\\python\\framework\\dtypes.py:518: FutureWarning: Passing (type, 1) or '1type' as a synonym of type is deprecated; in a future version of numpy, it will be understood as (type, (1,)) / '(1,)type'.\n",
      "  _np_qint16 = np.dtype([(\"qint16\", np.int16, 1)])\n",
      "C:\\Users\\yg9ca\\Anaconda3\\lib\\site-packages\\tensorflow\\python\\framework\\dtypes.py:519: FutureWarning: Passing (type, 1) or '1type' as a synonym of type is deprecated; in a future version of numpy, it will be understood as (type, (1,)) / '(1,)type'.\n",
      "  _np_quint16 = np.dtype([(\"quint16\", np.uint16, 1)])\n",
      "C:\\Users\\yg9ca\\Anaconda3\\lib\\site-packages\\tensorflow\\python\\framework\\dtypes.py:520: FutureWarning: Passing (type, 1) or '1type' as a synonym of type is deprecated; in a future version of numpy, it will be understood as (type, (1,)) / '(1,)type'.\n",
      "  _np_qint32 = np.dtype([(\"qint32\", np.int32, 1)])\n",
      "C:\\Users\\yg9ca\\Anaconda3\\lib\\site-packages\\tensorflow\\python\\framework\\dtypes.py:525: FutureWarning: Passing (type, 1) or '1type' as a synonym of type is deprecated; in a future version of numpy, it will be understood as (type, (1,)) / '(1,)type'.\n",
      "  np_resource = np.dtype([(\"resource\", np.ubyte, 1)])\n",
      "C:\\Users\\yg9ca\\Anaconda3\\lib\\site-packages\\tensorboard\\compat\\tensorflow_stub\\dtypes.py:541: FutureWarning: Passing (type, 1) or '1type' as a synonym of type is deprecated; in a future version of numpy, it will be understood as (type, (1,)) / '(1,)type'.\n",
      "  _np_qint8 = np.dtype([(\"qint8\", np.int8, 1)])\n",
      "C:\\Users\\yg9ca\\Anaconda3\\lib\\site-packages\\tensorboard\\compat\\tensorflow_stub\\dtypes.py:542: FutureWarning: Passing (type, 1) or '1type' as a synonym of type is deprecated; in a future version of numpy, it will be understood as (type, (1,)) / '(1,)type'.\n",
      "  _np_quint8 = np.dtype([(\"quint8\", np.uint8, 1)])\n",
      "C:\\Users\\yg9ca\\Anaconda3\\lib\\site-packages\\tensorboard\\compat\\tensorflow_stub\\dtypes.py:543: FutureWarning: Passing (type, 1) or '1type' as a synonym of type is deprecated; in a future version of numpy, it will be understood as (type, (1,)) / '(1,)type'.\n",
      "  _np_qint16 = np.dtype([(\"qint16\", np.int16, 1)])\n",
      "C:\\Users\\yg9ca\\Anaconda3\\lib\\site-packages\\tensorboard\\compat\\tensorflow_stub\\dtypes.py:544: FutureWarning: Passing (type, 1) or '1type' as a synonym of type is deprecated; in a future version of numpy, it will be understood as (type, (1,)) / '(1,)type'.\n",
      "  _np_quint16 = np.dtype([(\"quint16\", np.uint16, 1)])\n",
      "C:\\Users\\yg9ca\\Anaconda3\\lib\\site-packages\\tensorboard\\compat\\tensorflow_stub\\dtypes.py:545: FutureWarning: Passing (type, 1) or '1type' as a synonym of type is deprecated; in a future version of numpy, it will be understood as (type, (1,)) / '(1,)type'.\n",
      "  _np_qint32 = np.dtype([(\"qint32\", np.int32, 1)])\n",
      "C:\\Users\\yg9ca\\Anaconda3\\lib\\site-packages\\tensorboard\\compat\\tensorflow_stub\\dtypes.py:550: FutureWarning: Passing (type, 1) or '1type' as a synonym of type is deprecated; in a future version of numpy, it will be understood as (type, (1,)) / '(1,)type'.\n",
      "  np_resource = np.dtype([(\"resource\", np.ubyte, 1)])\n"
     ]
    }
   ],
   "source": [
    "import random\n",
    "import os\n",
    "import shutil\n",
    "import glob\n",
    "import gc\n",
    "import sys\n",
    "import h5py\n",
    "import time\n",
    "import datetime\n",
    "import pickle\n",
    "import librosa\n",
    "import warnings\n",
    "import matplotlib.pyplot as plt\n",
    "\n",
    "from graphs import draw\n",
    "import graphs\n",
    "\n",
    "import numpy as np\n",
    "from numpy import array\n",
    "import pandas as pd\n",
    "from pandas.plotting import parallel_coordinates\n",
    "from pydub import AudioSegment\n",
    "\n",
    "#imported for testing\n",
    "import wave\n",
    "import contextlib\n",
    "\n",
    "# for outputing file\n",
    "from scipy.cluster.vq import vq, kmeans, whiten\n",
    "import scipy.stats.stats as st\n",
    "\n",
    "from sklearn.cluster import KMeans\n",
    "from sklearn.datasets import make_classification\n",
    "from sklearn.datasets.samples_generator import make_blobs\n",
    "from sklearn.decomposition import PCA as sklearnPCA\n",
    "from sklearn.discriminant_analysis import LinearDiscriminantAnalysis as LDA\n",
    "from sklearn.ensemble import RandomForestClassifier, ExtraTreesClassifier\n",
    "from sklearn.impute import SimpleImputer\n",
    "from sklearn.preprocessing import normalize\n",
    "from sklearn.metrics import auc, confusion_matrix, accuracy_score, precision_score, recall_score, f1_score\n",
    "from sklearn import mixture\n",
    "from sklearn.model_selection import train_test_split\n",
    "from sklearn.neighbors import KNeighborsClassifier\n",
    "from sklearn.svm import SVC\n",
    "from sklearn.utils import class_weight\n",
    "\n",
    "import keras\n",
    "\n",
    "from keras.callbacks import ModelCheckpoint, EarlyStopping\n",
    "from keras.constraints import maxnorm\n",
    "from keras.layers import Convolution1D, Dense, MaxPooling1D, Flatten, Add, Dropout, Input, Activation\n",
    "from keras.layers import TimeDistributed, Bidirectional, LSTM, LeakyReLU\n",
    "from keras.models import Sequential\n",
    "from keras.models import load_model\n",
    "from keras import optimizers, regularizers\n",
    "from keras.utils import np_utils, to_categorical\n",
    "\n",
    "from IPython.display import clear_output\n",
    "\n",
    "# confirm TensorFlow sees the GPU\n",
    "from tensorflow.python.client import device_lib\n",
    "# assert 'GPU' in str(device_lib.list_local_devices())\n",
    "\n",
    "# confirm Keras sees the GPU\n",
    "from keras import backend\n",
    "# print(len(backend.tensorflow_backend._get_available_gpus()) > 0)\n",
    "\n",
    "sample_rate=44100\n",
    "hop_length = 441  # frame size= 2*hop\n",
    "segment_length=int(sample_rate*0.2)  #0.2\n",
    "segment_pad=int(sample_rate*0.02)     #0.02\n",
    "overlappiong=int(sample_rate*0.1)   #0.1\n",
    "\n",
    "NumofFeaturetoUse = 272 # this will re-assigned for different classifiers\n",
    "frame_number = 48\n",
    "\n",
    "sys.path.insert(1, '..//components//')\n",
    "import load_feat_directories\n",
    "\n",
    "# input new indices file here\n",
    "# indices_filename = 'D://indices_filename.npy'\n",
    "# indices=np.load(indices_filename)"
   ]
  },
  {
   "cell_type": "code",
   "execution_count": 2,
   "metadata": {},
   "outputs": [],
   "source": [
    "def avail_modules(directory, prefix):\n",
    "    module_names = []\n",
    "    for item in os.listdir(directory):\n",
    "        if prefix in item:\n",
    "            module_names.append(directory + item)\n",
    "            i = module_names.index(directory + item)\n",
    "            print(str(i) + 'th module')\n",
    "            print(directory + item)\n",
    "    return module_names"
   ]
  },
  {
   "cell_type": "code",
   "execution_count": 3,
   "metadata": {},
   "outputs": [],
   "source": [
    "def comprise_vector(path, dist, reverb, noise):\n",
    "    vec_to_return = []\n",
    "    for fname in os.listdir(path):\n",
    "        components = fname.split('_')\n",
    "        '''\n",
    "        if dist == 0 and 'deamp' in components: continue\n",
    "        if reverb == 0 and 'WetDry' in components: continue\n",
    "        if noise == 0 and 'noise' in components: continue\n",
    "        '''\n",
    "        current_vec = np.load(path + fname)\n",
    "        vec_to_return.append(current_vec)\n",
    "        \n",
    "    vec_to_return = np.array(vec_to_return)\n",
    "    return vec_to_return"
   ]
  },
  {
   "cell_type": "code",
   "execution_count": 4,
   "metadata": {},
   "outputs": [],
   "source": [
    "def comprise_label(feature_vector, label):\n",
    "    label_vec_to_ret = []\n",
    "    length = len(list(feature_vector))\n",
    "    for index in range(0, length):\n",
    "        current_label = [label]\n",
    "        label_vec_to_ret.append(current_label)\n",
    "    label_vec_to_ret = np.array(label_vec_to_ret)\n",
    "\n",
    "    return label_vec_to_ret\n",
    "\n",
    "def float_compatible(input_np):\n",
    "\n",
    "    x = np.where(input_np >= np.finfo(np.float32).max)\n",
    "    for index in range(0, len(x[0])):\n",
    "        x_position = x[0][index]\n",
    "        y_position = x[1][index]\n",
    "        input_np[x_position, y_position] = 0.0\n",
    "    input_np = np.nan_to_num(input_np)\n",
    "\n",
    "    return input_np\n",
    "\n",
    "def update_progress(progress):\n",
    "    bar_length = 100\n",
    "    if isinstance(progress, int):\n",
    "        progress = float(progress)\n",
    "    if not isinstance(progress, float):\n",
    "        progress = 0\n",
    "    if progress < 0:\n",
    "        progress = 0\n",
    "    if progress >= 1:\n",
    "        progress = 1\n",
    "\n",
    "    block = int(round(bar_length * progress))\n",
    "    clear_output(wait = True)\n",
    "    \n",
    "    text = \"Progress: [{0}] {1:.1f}%\".format( \"#\" * block + \"-\" * (bar_length - block), progress * 100)\n",
    "    print(text)"
   ]
  },
  {
   "cell_type": "markdown",
   "metadata": {},
   "source": [
    "# H/A (Binary)"
   ]
  },
  {
   "cell_type": "code",
   "execution_count": 7,
   "metadata": {},
   "outputs": [],
   "source": [
    "def ha_eval_all(emotionFolders):\n",
    "    total = 0\n",
    "    \n",
    "    zero_scores = []\n",
    "    one_scores = []\n",
    "    \n",
    "    correct = 0\n",
    "    incorrect = 0\n",
    "    \n",
    "    for emotionFolder in emotionFolders:\n",
    "        if 'Happy' in emotionFolder: val = 0\n",
    "        if 'Angry' in emotionFolder: val = 1\n",
    "\n",
    "        for emotionfile in os.listdir(emotionFolder):\n",
    "            \n",
    "            one_sample = np.load(emotionFolder + emotionfile)\n",
    "            one_sample = np.array([one_sample])\n",
    "            zero_score, one_score = model.predict(one_sample)[0]\n",
    "            zero_scores.append(zero_score)\n",
    "            one_scores.append(one_score)\n",
    "\n",
    "            if val == 0:\n",
    "                if zero_score > one_score: correct += 1\n",
    "                else: incorrect += 1\n",
    "            else:\n",
    "                if one_score > zero_score: correct += 1\n",
    "                else: incorrect += 1\n",
    "\n",
    "            total += 1\n",
    "                \n",
    "    print('correct = ' + str(correct))\n",
    "    print('incorrect = ' + str(incorrect))\n",
    "    print('error rate = ' + str(incorrect/total) )\n",
    "    print('accuracy = ' + str(correct/total) )\n",
    "    print('total files = ' + str(total))\n",
    "                       \n",
    "    mydict = {'one_scores': one_scores, 'zero_scores': zero_scores, \\\n",
    "             'error_rate': incorrect/total, 'accuracy': correct/total, 'total_files': total}\n",
    "    return mydict"
   ]
  },
  {
   "cell_type": "code",
   "execution_count": 45,
   "metadata": {},
   "outputs": [],
   "source": [
    "def ha_eval_original(emotionFolders):\n",
    "    total = 0\n",
    "    \n",
    "    zero_scores = []\n",
    "    one_scores = []\n",
    "    \n",
    "    correct = 0\n",
    "    incorrect = 0\n",
    "    \n",
    "    for emotionFolder in emotionFolders:\n",
    "        if 'Happy' in emotionFolder: val = 0\n",
    "        if 'Angry' in emotionFolder: val = 1\n",
    "\n",
    "        for emotionfile in os.listdir(emotionFolder):\n",
    "            dist = 'deamp_' in emotionfile\n",
    "            reverb = 'WetDry_' in emotionfile and 'Diffusion_' in emotionfile and 'DecayFactor_' in emotionfile\n",
    "            noise = 'noise_' in emotionfile\n",
    "        \n",
    "            r_n = not dist and reverb and noise \n",
    "            r = not dist and reverb and not noise\n",
    "            n = not dist and not reverb and noise\n",
    "            original = not dist and not reverb and not noise\n",
    "            d_r_n = dist and reverb and noise\n",
    "            d_r = dist and reverb and not noise\n",
    "            d_n = dist and not reverb and noise\n",
    "            d = dist and not reverb and not noise \n",
    "            \n",
    "            if original:\n",
    "                one_sample = np.load(emotionFolder + emotionfile)\n",
    "                one_sample = np.array([one_sample])\n",
    "                zero_score, one_score = model.predict(one_sample)[0]\n",
    "                zero_scores.append(zero_score)\n",
    "                one_scores.append(one_score)\n",
    "                \n",
    "                print(model.predict(one_sample)[0])\n",
    "\n",
    "                if val == 0:\n",
    "                    if zero_score > 0 and one_score < 0.9999: correct += 1\n",
    "                    else: incorrect += 1\n",
    "                else:\n",
    "                    if one_score > 0 and zero_score < 0.9999: correct += 1\n",
    "                    else: incorrect += 1\n",
    "\n",
    "                total += 1\n",
    "    \n",
    "    print('correct = ' + str(correct))\n",
    "    print('incorrect = ' + str(incorrect))\n",
    "    print('error rate = ' + str(incorrect/total) )\n",
    "    print('accuracy = ' + str(correct/total) )\n",
    "    print('total files = ' + str(total))\n",
    "                       \n",
    "    mydict = {'one_scores': one_scores, 'zero_scores': zero_scores, \\\n",
    "             'error_rate': incorrect/total, 'accuracy': correct/total, 'total_files': total}\n",
    "    return mydict"
   ]
  },
  {
   "cell_type": "code",
   "execution_count": 24,
   "metadata": {},
   "outputs": [],
   "source": [
    "def ha_eval_deamplified_noised(emotionFolders):\n",
    "    total = 0\n",
    "    \n",
    "    zero_scores = []\n",
    "    one_scores = []\n",
    "    \n",
    "    deamplified_dbs = []\n",
    "    \n",
    "    correct = 0\n",
    "    incorrect = 0\n",
    "    \n",
    "    for emotionFolder in emotionFolders:\n",
    "        if 'Happy' in emotionFolder: val = 0\n",
    "        if 'Angry' in emotionFolder: val = 1\n",
    "\n",
    "        for emotionfile in os.listdir(emotionFolder):\n",
    "            dist = 'deamp_' in emotionfile\n",
    "            reverb = 'WetDry_' in emotionfile and 'Diffusion_' in emotionfile and 'DecayFactor_' in emotionfile\n",
    "            noise = 'noise_' in emotionfile\n",
    "        \n",
    "            r_n = not dist and reverb and noise \n",
    "            r = not dist and reverb and not noise\n",
    "            n = not dist and not reverb and noise\n",
    "            original = not dist and not reverb and not noise\n",
    "            d_r_n = dist and reverb and noise\n",
    "            d_r = dist and reverb and not noise\n",
    "            d_n = dist and not reverb and noise\n",
    "            d = dist and not reverb and not noise # does not exist\n",
    "            \n",
    "            if d_n:\n",
    "                one_sample = np.load(emotionFolder + emotionfile)\n",
    "                one_sample = np.array([one_sample])\n",
    "                \n",
    "                components = emotionfile.split('_')\n",
    "                deamplified_amount_position = components.index('deamp') + 1\n",
    "                deamplified = float(components[deamplified_amount_position])\n",
    "                deamplified_dbs.append(deamplified)\n",
    "                \n",
    "                zero_score, one_score = model.predict(one_sample)[0]\n",
    "                \n",
    "                zero_scores.append(zero_score)\n",
    "                one_scores.append(one_score)\n",
    "                \n",
    "                if val == 0:\n",
    "                    if zero_score > one_score: correct += 1\n",
    "                    else: incorrect += 1\n",
    "                else:\n",
    "                    if one_score > zero_score: correct += 1\n",
    "                    else: incorrect += 1\n",
    "                \n",
    "                total += 1\n",
    "                \n",
    "    print('correct = ' + str(correct))\n",
    "    print('incorrect = ' + str(incorrect))\n",
    "    print('error rate = ' + str(incorrect/total) )\n",
    "    print('accuracy = ' + str(correct/total) )\n",
    "    print('total files = ' + str(total))\n",
    "                       \n",
    "    mydict = {'one_scores': one_scores, 'zero_scores': zero_scores, \\\n",
    "             'deamplified_dbs': deamplified_dbs, 'error_rate': incorrect/total, 'accuracy': correct/total, \\\n",
    "             'total_files': total}\n",
    "    return mydict"
   ]
  },
  {
   "cell_type": "code",
   "execution_count": 25,
   "metadata": {},
   "outputs": [],
   "source": [
    "def ha_eval_reverbed(emotionFolders):\n",
    "    total = 0\n",
    "    \n",
    "    zero_scores = []\n",
    "    one_scores = []\n",
    "    \n",
    "    wetdrys = []\n",
    "    diffusions = []\n",
    "    decayfactors = []\n",
    "    \n",
    "    \n",
    "    correct = 0\n",
    "    incorrect = 0\n",
    "    \n",
    "    for emotionFolder in emotionFolders:\n",
    "        if 'Happy' in emotionFolder: val = 0\n",
    "        if 'Angry' in emotionFolder: val = 1\n",
    "\n",
    "        for emotionfile in os.listdir(emotionFolder):\n",
    "            dist = 'deamp_' in emotionfile\n",
    "            reverb = 'WetDry_' in emotionfile and 'Diffusion_' in emotionfile and 'DecayFactor_' in emotionfile\n",
    "            noise = 'noise_' in emotionfile\n",
    "        \n",
    "            r_n = not dist and reverb and noise \n",
    "            r = not dist and reverb and not noise\n",
    "            n = not dist and not reverb and noise\n",
    "            original = not dist and not reverb and not noise\n",
    "            d_r_n = dist and reverb and noise\n",
    "            d_r = dist and reverb and not noise\n",
    "            d_n = dist and not reverb and noise\n",
    "            d = dist and not reverb and not noise # does not exist\n",
    "            \n",
    "            if r:\n",
    "                one_sample = np.load(emotionFolder + emotionfile)\n",
    "                one_sample = np.array([one_sample])\n",
    "                zero_score, one_score = model.predict(one_sample)[0]\n",
    "                components = emotionfile.split('_')\n",
    "                \n",
    "                wetdry_position = components.index('WetDry') + 1\n",
    "                wetdrys.append(float(components[wetdry_position]))\n",
    "                \n",
    "                decayfactor_position = components.index('DecayFactor') + 1\n",
    "                decayfactors.append(float(components[decayfactor_position]))\n",
    "                \n",
    "                diffusion_position = components.index('Diffusion') + 1\n",
    "                diffusions.append(float(components[diffusion_position].split('.')[0]))\n",
    "                \n",
    "                zero_scores.append(zero_score)\n",
    "                one_scores.append(one_score)\n",
    "                \n",
    "                if val == 0:\n",
    "                    if zero_score > one_score: correct += 1\n",
    "                    else: incorrect += 1\n",
    "                else:\n",
    "                    if one_score > zero_score: correct += 1\n",
    "                    else: incorrect += 1\n",
    "                \n",
    "                total += 1\n",
    "    print('correct = ' + str(correct))\n",
    "    print('incorrect = ' + str(incorrect))\n",
    "    print('error rate = ' + str(incorrect/total) )\n",
    "    print('accuracy = ' + str(correct/total) )\n",
    "    print('total files = ' + str(total))\n",
    "                       \n",
    "    mydict = {'one_scores': one_scores, 'zero_scores': zero_scores, \\\n",
    "             'wetdrys': wetdrys, 'diffusions': diffusions, 'decayfactors': decayfactors, \\\n",
    "             'error_rate': incorrect/total, 'accuracy': correct/total, 'total_files': total}\n",
    "    return mydict"
   ]
  },
  {
   "cell_type": "code",
   "execution_count": 26,
   "metadata": {},
   "outputs": [],
   "source": [
    "def ha_eval_deamplified_noised_reverbed(emotionFolders):\n",
    "    total = 0\n",
    "    \n",
    "    zero_scores = []\n",
    "    one_scores = []\n",
    "    \n",
    "    wetdrys = []\n",
    "    diffusions = []\n",
    "    decayfactors = []\n",
    "    deamplified_dbs = []\n",
    "    \n",
    "    correct = 0\n",
    "    incorrect = 0\n",
    "    \n",
    "    for emotionFolder in emotionFolders:\n",
    "        if 'Happy' in emotionFolder: val = 0\n",
    "        if 'Angry' in emotionFolder: val = 1\n",
    "\n",
    "        for emotionfile in os.listdir(emotionFolder):\n",
    "            dist = 'deamp_' in emotionfile\n",
    "            reverb = 'WetDry_' in emotionfile and 'Diffusion_' in emotionfile and 'DecayFactor_' in emotionfile\n",
    "            noise = 'noise_' in emotionfile\n",
    "        \n",
    "            r_n = not dist and reverb and noise \n",
    "            r = not dist and reverb and not noise\n",
    "            n = not dist and not reverb and noise\n",
    "            original = not dist and not reverb and not noise\n",
    "            d_r_n = dist and reverb and noise\n",
    "            d_r = dist and reverb and not noise\n",
    "            d_n = dist and not reverb and noise\n",
    "            d = dist and not reverb and not noise # does not exist\n",
    "            \n",
    "            if d_r_n:\n",
    "                one_sample = np.load(emotionFolder + emotionfile)\n",
    "                one_sample = np.array([one_sample])\n",
    "                zero_score, one_score = model.predict(one_sample)[0]\n",
    "                \n",
    "                components = emotionfile.split('_')\n",
    "                \n",
    "                deamplified_position = components.index('deamp') + 1\n",
    "                deamplified_dbs.append(float(components[deamplified_position]))\n",
    "                \n",
    "                wetdry_position = components.index('WetDry') + 1\n",
    "                wetdrys.append(float(components[wetdry_position]))\n",
    "                \n",
    "                decayfactor_position = components.index('DecayFactor') + 1\n",
    "                decayfactors.append(float(components[decayfactor_position]))\n",
    "                \n",
    "                diffusion_position = components.index('Diffusion') + 1\n",
    "                diffusions.append(float(components[diffusion_position].split('.')[0]))\n",
    "                \n",
    "                zero_scores.append(zero_score)\n",
    "                one_scores.append(one_score)\n",
    "                \n",
    "                if val == 0:\n",
    "                    if zero_score > one_score: correct += 1\n",
    "                    else: incorrect += 1\n",
    "                else:\n",
    "                    if one_score > zero_score: correct += 1\n",
    "                    else: incorrect += 1\n",
    "                \n",
    "                total += 1\n",
    "    print('correct = ' + str(correct))\n",
    "    print('incorrect = ' + str(incorrect))\n",
    "    print('error rate = ' + str(incorrect/total) )\n",
    "    print('accuracy = ' + str(correct/total))\n",
    "    print('total files = ' + str(total))\n",
    "                       \n",
    "    mydict = {'one_scores': one_scores, 'zero_scores': zero_scores, \\\n",
    "             'wetdrys': wetdrys, 'diffusions': diffusions, 'decayfactors': decayfactors,\n",
    "             'deamplified_dbs': deamplified_dbs, 'error_rate': incorrect/total, 'accuracy': correct/total, \\\n",
    "             'total_files': total}\n",
    "    return mydict"
   ]
  },
  {
   "cell_type": "code",
   "execution_count": 27,
   "metadata": {},
   "outputs": [],
   "source": [
    "def predict_cnn(model):\n",
    "    y_pred = []\n",
    "    y_true = []\n",
    "\n",
    "    for item in list(Label_val):\n",
    "            if item[0] > item[1]:\n",
    "                y_true.append(0)\n",
    "            elif item[0] < item[1]:\n",
    "                y_true.append(1)\n",
    "            else:\n",
    "                y_true.append(0)\n",
    "\n",
    "    for item in list(model.predict(featureSet_val)):\n",
    "            if item[0] > item[1]:\n",
    "                y_pred.append(0)\n",
    "            elif item[0] < item[1]:\n",
    "                y_pred.append(1)\n",
    "            else:\n",
    "                y_pred.append(0)\n",
    "\n",
    "    print('Accuracy: ' + str(accuracy_score(y_true, y_pred)))\n",
    "    print('Precision: ' + str(precision_score(y_true, y_pred)))\n",
    "    print('Recall: ' + str(recall_score(y_true, y_pred)))\n",
    "    print('f1 score: ' + str(f1_score(y_true, y_pred)))\n",
    "\n",
    "    tn, fp, fn, tp = confusion_matrix(y_true, y_pred).ravel()\n",
    "\n",
    "    print('true positive ' + str(tp))\n",
    "    print('false positive ' + str(fp))\n",
    "    print('false negative ' + str(fn))\n",
    "    print('true negative ' + str(tn))"
   ]
  },
  {
   "cell_type": "code",
   "execution_count": 46,
   "metadata": {},
   "outputs": [
    {
     "name": "stdout",
     "output_type": "stream",
     "text": [
      "0th module\n",
      "..//..//modules//Checkpoint_home_H_A_neurons_home_2048_filters_1024_dropout_0.2_epoch_1000_dense_6.hdf5\n",
      "1th module\n",
      "..//..//modules//Checkpoint_home_H_A_neurons_home_2048_filters_1024_dropout_0.2_epoch_1000_dense_8.hdf5\n"
     ]
    }
   ],
   "source": [
    "directory = '..//..//modules//'\n",
    "module_prefix = 'H_A_'\n",
    "modules = avail_modules(directory, module_prefix)"
   ]
  },
  {
   "cell_type": "code",
   "execution_count": 47,
   "metadata": {},
   "outputs": [],
   "source": [
    "title = modules[0]\n",
    "model = keras.models.load_model(title)"
   ]
  },
  {
   "cell_type": "markdown",
   "metadata": {},
   "source": [
    "## Specify the directories that contain the files of emotion"
   ]
  },
  {
   "cell_type": "code",
   "execution_count": 48,
   "metadata": {},
   "outputs": [],
   "source": [
    "emodb_Happy_npy = 'D://Datasets//EMO-DB//wav//npy//Happy//'\n",
    "emodb_Angry_npy = 'D://Datasets//EMO-DB//wav//npy//Angry//'\n",
    "emodb_Neutral_npy = 'D://Datasets//EMO-DB//wav//npy//Neutral//'\n",
    "emodb_Sad_npy = 'D://Datasets//EMO-DB//wav//npy//Sad//'\n",
    "emodb_Other_npy = 'D://Datasets//EMO-DB//wav//npy//Other//'\n",
    "emotionFolders = [emodb_Happy_npy, emodb_Angry_npy, emodb_Neutral_npy, emodb_Sad_npy, emodb_Other_npy]"
   ]
  },
  {
   "cell_type": "markdown",
   "metadata": {},
   "source": [
    "## Only evaluate unmodified wav files"
   ]
  },
  {
   "cell_type": "markdown",
   "metadata": {},
   "source": [
    "### evaluate the set of Happy validation"
   ]
  },
  {
   "cell_type": "code",
   "execution_count": 49,
   "metadata": {
    "scrolled": true
   },
   "outputs": [
    {
     "name": "stdout",
     "output_type": "stream",
     "text": [
      "[3.0044963e-05 9.9996996e-01]\n",
      "[0.9786453  0.02135465]\n",
      "[0.09375498 0.906245  ]\n",
      "[0.90089196 0.099108  ]\n",
      "[0.00624444 0.9937556 ]\n",
      "[0.9666793  0.03332067]\n",
      "[9.9999499e-01 5.0163085e-06]\n",
      "[0.14140175 0.85859823]\n",
      "[9.9997520e-01 2.4803387e-05]\n",
      "[9.9969244e-01 3.0762752e-04]\n",
      "[9.9998879e-01 1.1232388e-05]\n",
      "[9.9998915e-01 1.0831289e-05]\n",
      "[1.0000000e+00 3.1888232e-09]\n",
      "[9.9994600e-01 5.4052824e-05]\n",
      "[2.5435106e-06 9.9999750e-01]\n",
      "[9.999933e-01 6.667883e-06]\n",
      "[9.9967635e-01 3.2364437e-04]\n",
      "[0.01032003 0.98968   ]\n",
      "[0.9959965  0.00400347]\n",
      "[0.1864541 0.8135459]\n",
      "[9.999902e-01 9.824958e-06]\n",
      "[1.000000e+00 5.049593e-09]\n",
      "[9.9947494e-01 5.2512519e-04]\n",
      "[9.9994981e-01 5.0158214e-05]\n",
      "[9.9999988e-01 1.4916765e-07]\n",
      "[9.9999690e-01 3.0617762e-06]\n",
      "[9.9999976e-01 2.4791768e-07]\n",
      "[0.00121683 0.9987832 ]\n",
      "[9.9999952e-01 4.3476803e-07]\n",
      "[0.04521242 0.95478755]\n",
      "[1.0000000e+00 3.7563364e-08]\n",
      "[0.99531186 0.00468817]\n",
      "[9.999045e-01 9.545304e-05]\n",
      "[9.1580051e-04 9.9908423e-01]\n",
      "[0.13085707 0.86914295]\n",
      "[0.8802085  0.11979146]\n",
      "[2.2286257e-09 1.0000000e+00]\n",
      "[4.8269354e-05 9.9995172e-01]\n",
      "[4.7266993e-05 9.9995267e-01]\n",
      "[0.2965652  0.70343477]\n",
      "[9.9999797e-01 2.0699836e-06]\n",
      "[0.47277966 0.5272203 ]\n",
      "[0.97928166 0.02071833]\n",
      "[0.10014807 0.899852  ]\n",
      "[9.9999940e-01 6.4395635e-07]\n",
      "[9.9999154e-01 8.4316007e-06]\n",
      "[9.9999523e-01 4.7916155e-06]\n",
      "[9.9927765e-01 7.2235020e-04]\n",
      "[0.88062966 0.11937029]\n",
      "[9.9998260e-01 1.7361619e-05]\n",
      "[9.999999e-01 6.308185e-08]\n",
      "[1.000000e+00 4.389975e-09]\n",
      "[6.7352387e-04 9.9932647e-01]\n",
      "[1.18350414e-04 9.99881625e-01]\n",
      "[0.9978452  0.00215478]\n",
      "[0.00900925 0.99099076]\n",
      "[9.9999833e-01 1.7242714e-06]\n",
      "[9.9997222e-01 2.7817629e-05]\n",
      "[0.9964405  0.00355954]\n",
      "[1.1541978e-06 9.9999881e-01]\n",
      "[0.00947223 0.99052775]\n",
      "[0.30356804 0.696432  ]\n",
      "[1.0000000e+00 2.9431625e-08]\n",
      "[0.00101501 0.998985  ]\n",
      "[0.25783578 0.7421642 ]\n",
      "[9.9999964e-01 3.5289136e-07]\n",
      "[0.98979723 0.01020269]\n",
      "[9.9992573e-01 7.4225150e-05]\n",
      "[0.22663645 0.77336353]\n",
      "[0.9886824  0.01131767]\n",
      "[0.26275557 0.7372444 ]\n",
      "correct = 65\n",
      "incorrect = 6\n",
      "error rate = 0.08450704225352113\n",
      "accuracy = 0.9154929577464789\n",
      "total files = 71\n"
     ]
    }
   ],
   "source": [
    "dictionary_original_h = ha_eval_original([emotionFolders[0]])\n",
    "one_scores_original_h = dictionary_original_h.get('one_scores')\n",
    "zero_scores_original_h = dictionary_original_h.get('zero_scores')"
   ]
  },
  {
   "cell_type": "markdown",
   "metadata": {},
   "source": [
    "### evaluate the set of Angry validation"
   ]
  },
  {
   "cell_type": "code",
   "execution_count": 50,
   "metadata": {},
   "outputs": [
    {
     "name": "stdout",
     "output_type": "stream",
     "text": [
      "[8.382479e-09 1.000000e+00]\n",
      "[9.99898553e-01 1.01436875e-04]\n",
      "[9.9999809e-01 1.8815933e-06]\n",
      "[2.1121891e-04 9.9978882e-01]\n",
      "[0.9933343  0.00666567]\n",
      "[0.00133413 0.9986659 ]\n",
      "[0.9381821  0.06181794]\n",
      "[9.9999940e-01 5.9559864e-07]\n",
      "[0.9585232  0.04147672]\n",
      "[0.6433247  0.35667524]\n",
      "[0.9323029  0.06769709]\n",
      "[0.0018408 0.9981592]\n",
      "[9.9998820e-01 1.1847658e-05]\n",
      "[0.9599137  0.04008628]\n",
      "[9.9993503e-01 6.5023582e-05]\n",
      "[1.1718164e-05 9.9998832e-01]\n",
      "[0.98374337 0.01625662]\n",
      "[0.05982304 0.940177  ]\n",
      "[9.999951e-01 4.916063e-06]\n",
      "[0.00159176 0.99840826]\n",
      "[0.00207069 0.99792933]\n",
      "[0.99494296 0.00505702]\n",
      "[0.98543465 0.0145654 ]\n",
      "[8.5221004e-04 9.9914777e-01]\n",
      "[0.05675487 0.9432451 ]\n",
      "[1.8476585e-06 9.9999821e-01]\n",
      "[9.9932325e-01 6.7671615e-04]\n",
      "[9.9915576e-01 8.4428914e-04]\n",
      "[9.9990094e-01 9.9008925e-05]\n",
      "[0.04771964 0.95228034]\n",
      "[0.96215457 0.0378454 ]\n",
      "[6.170207e-08 9.999999e-01]\n",
      "[1.000000e+00 1.446292e-08]\n",
      "[9.9986565e-01 1.3427653e-04]\n",
      "[9.999981e-01 1.926486e-06]\n",
      "[9.9995506e-01 4.4972658e-05]\n",
      "[0.8705518  0.12944819]\n",
      "[0.6933403  0.30665973]\n",
      "[9.9999738e-01 2.6719974e-06]\n",
      "[1.2005565e-07 9.9999988e-01]\n",
      "[1.3703583e-09 1.0000000e+00]\n",
      "[9.99885798e-01 1.14212526e-04]\n",
      "[6.557238e-04 9.993443e-01]\n",
      "[9.9999368e-01 6.2952377e-06]\n",
      "[4.4564668e-11 1.0000000e+00]\n",
      "[9.9977797e-01 2.2203855e-04]\n",
      "[0.00560096 0.994399  ]\n",
      "[0.02210375 0.9778962 ]\n",
      "[0.9874537  0.01254624]\n",
      "[4.4662187e-11 1.0000000e+00]\n",
      "[1.4339294e-07 9.9999988e-01]\n",
      "[0.63720834 0.36279166]\n",
      "[0.61102176 0.38897827]\n",
      "[0.5681656  0.43183437]\n",
      "[9.999919e-01 8.125399e-06]\n",
      "[1.00858415e-05 9.99989867e-01]\n",
      "[0.24729468 0.75270534]\n",
      "[0.00359421 0.99640584]\n",
      "[0.08621372 0.91378623]\n",
      "[4.467971e-05 9.999553e-01]\n",
      "[1.3748794e-05 9.9998629e-01]\n",
      "[0.9380837  0.06191627]\n",
      "[0.01545685 0.98454314]\n",
      "[0.92305493 0.07694509]\n",
      "[9.999224e-01 7.763940e-05]\n",
      "[9.9993193e-01 6.8018220e-05]\n",
      "[0.5133899  0.48661014]\n",
      "[2.401426e-06 9.999976e-01]\n",
      "[0.00239594 0.9976041 ]\n",
      "[0.9984634  0.00153666]\n",
      "[1.9311033e-17 1.0000000e+00]\n",
      "[4.1698455e-12 1.0000000e+00]\n",
      "[0.00249215 0.9975078 ]\n",
      "[0.00513959 0.99486035]\n",
      "[0.4925457  0.50745434]\n",
      "[2.7563909e-05 9.9997246e-01]\n",
      "[6.122828e-05 9.999387e-01]\n",
      "[2.6990623e-08 1.0000000e+00]\n",
      "[9.9995959e-01 4.0425293e-05]\n",
      "[0.00659184 0.9934082 ]\n",
      "[9.9955577e-01 4.4422256e-04]\n",
      "[4.8165389e-06 9.9999523e-01]\n",
      "[9.9969459e-01 3.0549132e-04]\n",
      "[0.7114866  0.28851342]\n",
      "[9.9992454e-01 7.5472635e-05]\n",
      "[0.00759124 0.99240875]\n",
      "[9.9979097e-01 2.0903371e-04]\n",
      "[0.98316413 0.01683584]\n",
      "[0.9961747  0.00382523]\n",
      "[9.995932e-01 4.067714e-04]\n",
      "[0.00611411 0.99388593]\n",
      "[0.6426961  0.35730392]\n",
      "[0.03339661 0.96660346]\n",
      "[9.9964166e-01 3.5837037e-04]\n",
      "[0.12317885 0.8768212 ]\n",
      "[0.00111267 0.99888736]\n",
      "[9.9935764e-01 6.4231222e-04]\n",
      "[4.3069568e-07 9.9999952e-01]\n",
      "[9.9935204e-01 6.4796337e-04]\n",
      "[0.9977222  0.00227783]\n",
      "[0.78332406 0.21667589]\n",
      "[0.9918018  0.00819826]\n",
      "[0.6746877 0.3253123]\n",
      "[2.3082076e-04 9.9976915e-01]\n",
      "[1.0657277e-04 9.9989343e-01]\n",
      "[8.492856e-05 9.999151e-01]\n",
      "[9.999602e-01 3.986715e-05]\n",
      "[0.05633082 0.94366926]\n",
      "[1.1972578e-07 9.9999988e-01]\n",
      "[9.999813e-01 1.873600e-05]\n",
      "[0.03900638 0.9609936 ]\n",
      "[0.00281475 0.9971853 ]\n",
      "[0.9641271  0.03587282]\n",
      "[4.937291e-07 9.999995e-01]\n",
      "[9.9979275e-01 2.0720669e-04]\n",
      "[0.94681054 0.05318944]\n",
      "[9.9931204e-01 6.8797148e-04]\n",
      "[9.9947101e-01 5.2904687e-04]\n",
      "[0.038524 0.961476]\n",
      "[0.86382365 0.1361763 ]\n",
      "[9.9976200e-01 2.3802667e-04]\n",
      "[9.9994051e-01 5.9505546e-05]\n",
      "[0.26758403 0.732416  ]\n",
      "[0.27396846 0.7260315 ]\n",
      "[3.0703973e-07 9.9999964e-01]\n",
      "[9.9999845e-01 1.5125105e-06]\n",
      "[0.99567825 0.00432175]\n",
      "correct = 107\n",
      "incorrect = 20\n",
      "error rate = 0.15748031496062992\n",
      "accuracy = 0.84251968503937\n",
      "total files = 127\n"
     ]
    }
   ],
   "source": [
    "dictionary_original_a = ha_eval_original([emotionFolders[1]])\n",
    "one_scores_original_a = dictionary_original_a.get('one_scores')\n",
    "zero_scores_original_a = dictionary_original_a.get('zero_scores')"
   ]
  },
  {
   "cell_type": "markdown",
   "metadata": {},
   "source": [
    "### draw the plot (evaluation on only unmodified, original wav files)"
   ]
  },
  {
   "cell_type": "code",
   "execution_count": 51,
   "metadata": {},
   "outputs": [
    {
     "data": {
      "text/plain": [
       "(<Figure size 662.4x360 with 1 Axes>,\n",
       " <matplotlib.axes._subplots.AxesSubplot at 0x201eba880b8>)"
      ]
     },
     "execution_count": 51,
     "metadata": {},
     "output_type": "execute_result"
    },
    {
     "data": {
      "image/png": "[encoded data removed]",
      "text/plain": [
       "<Figure size 662.4x360 with 1 Axes>"
      ]
     },
     "metadata": {
      "needs_background": "light"
     },
     "output_type": "display_data"
    }
   ],
   "source": [
    "category_names = ['Error Rate', 'Accuracy']\n",
    "graph_title = 'Evaluation on only unmodified, original wav files'\n",
    "results = {\n",
    "    'Happy': [dictionary_original_h.get('error_rate'), dictionary_original_h.get('accuracy')],\n",
    "    'Angry': [dictionary_original_a.get('error_rate'), dictionary_original_a.get('accuracy')]\n",
    "}\n",
    "\n",
    "draw(results, category_names, graph_title)"
   ]
  },
  {
   "cell_type": "markdown",
   "metadata": {},
   "source": [
    "## Only evaluate reverberated wav files"
   ]
  },
  {
   "cell_type": "markdown",
   "metadata": {},
   "source": [
    "### evaluate the set of Happy validation"
   ]
  },
  {
   "cell_type": "code",
   "execution_count": null,
   "metadata": {},
   "outputs": [],
   "source": [
    "dictionary_reverbed_h = ha_eval_reverbed([emotionFolders[0]])\n",
    "\n",
    "one_scores_reverbed_h = dictionary_reverbed_h.get('one_scores')\n",
    "zero_scores_reverbed_h = dictionary_reverbed_h.get('zero_scores')\n",
    "\n",
    "wetdrys_reverbed_h = dictionary_reverbed_h.get('wetdrys')\n",
    "diffusions_reverbed_h = dictionary_reverbed_h.get('diffusions')\n",
    "decayfactors_reverbed_h = dictionary_reverbed_h.get('decayfactors')"
   ]
  },
  {
   "cell_type": "markdown",
   "metadata": {},
   "source": [
    "### evaluate the set of Angry validation"
   ]
  },
  {
   "cell_type": "code",
   "execution_count": null,
   "metadata": {},
   "outputs": [],
   "source": [
    "dictionary_reverbed_a = ha_eval_reverbed([emotionFolders[1]])\n",
    "\n",
    "one_scores_reverbed_a = dictionary_reverbed_a.get('one_scores')\n",
    "zero_scores_reverbed_a = dictionary_reverbed_a.get('zero_scores')\n",
    "\n",
    "wetdrys_reverbed_a = dictionary_reverbed_a.get('wetdrys')\n",
    "diffusions_reverbed_a = dictionary_reverbed_a.get('diffusions')\n",
    "decayfactors_reverbed_a = dictionary_reverbed_a.get('decayfactors')"
   ]
  },
  {
   "cell_type": "markdown",
   "metadata": {},
   "source": [
    "### draw the plot (evaluation on only the reverberated wav files)"
   ]
  },
  {
   "cell_type": "code",
   "execution_count": null,
   "metadata": {},
   "outputs": [],
   "source": [
    "category_names = ['Error Rate', 'Accuracy']\n",
    "graph_title = 'Evaluation on only the reverberated wav files'\n",
    "results = {\n",
    "    'Happy': [dictionary_reverbed_h.get('error_rate'), dictionary_reverbed_h.get('accuracy')],\n",
    "    'Angry': [dictionary_reverbed_a.get('error_rate'), dictionary_reverbed_a.get('accuracy')],\n",
    "}\n",
    "\n",
    "draw(results, category_names, graph_title)"
   ]
  },
  {
   "cell_type": "code",
   "execution_count": null,
   "metadata": {},
   "outputs": [],
   "source": [
    "h_WetDry = [wetdrys_reverbed_h, zero_scores_reverbed_h]\n",
    "a_WetDry = [wetdrys_reverbed_a, one_scores_reverbed_a]\n",
    "\n",
    "title = 'How wet/dry ratio affects the performance of the classifier in the presence of background noise'\n",
    "xlabel = 'Wet/dry ratio'\n",
    "ylabel = 'Mean of the scores on the ground truth class of an audio clip'\n",
    "\n",
    "graphs.histogram(h_WetDry, a_WetDry, [[],[]], [[],[]], title, xlabel, ylabel)\n",
    "\n",
    "h_Diffusion = [diffusions_reverbed_h, zero_scores_reverbed_h]\n",
    "a_Diffusion = [diffusions_reverbed_a, one_scores_reverbed_a]\n",
    "\n",
    "title = 'How diffusion affects the performance of the classifier in the presence of background noise'\n",
    "xlabel = 'Diffusion value'\n",
    "ylabel = 'Mean of the scores on the ground truth class of an audio clip'\n",
    "\n",
    "graphs.histogram(h_Diffusion, a_Diffusion, [[],[]], [[],[]], title, xlabel, ylabel)\n",
    "\n",
    "h_DecayFactor = [decayfactors_reverbed_h, zero_scores_reverbed_h]\n",
    "a_DecayFactor = [decayfactors_reverbed_a, one_scores_reverbed_a]\n",
    "\n",
    "title = 'How the decay factor affects the performance of the classifier in the presence of background noise'\n",
    "xlabel = 'Decay factor value'\n",
    "ylabel = 'Mean of the scores on the ground truth class of an audio clip'\n",
    "\n",
    "graphs.histogram(h_DecayFactor, a_DecayFactor, [[],[]], [[],[]], title, xlabel, ylabel)"
   ]
  },
  {
   "cell_type": "markdown",
   "metadata": {},
   "source": [
    "## Only evaluate deamplified and noised wav files"
   ]
  },
  {
   "cell_type": "markdown",
   "metadata": {},
   "source": [
    "### evaluate the set of Happy validation"
   ]
  },
  {
   "cell_type": "code",
   "execution_count": null,
   "metadata": {},
   "outputs": [],
   "source": [
    "dictionary_deamplified_noised_h = ha_eval_deamplified_noised([emotionFolders[0]])\n",
    "\n",
    "one_scores_deamplified_noised_h = dictionary_deamplified_noised_h.get('one_scores')\n",
    "zero_scores_deamplified_noised_h = dictionary_deamplified_noised_h.get('zero_scores')\n",
    "deamplified_dbs_deamplified_noised_h = dictionary_deamplified_noised_h.get('deamplified_dbs')\n",
    "wetdrys_deamplified_noised_h = dictionary_deamplified_noised_h.get('wetdrys')\n",
    "diffusions_deamplified_noised_h = dictionary_deamplified_noised_h.get('diffusions')\n",
    "decayfactors_deamplified_noised_h = dictionary_deamplified_noised_h.get('decayfactors')"
   ]
  },
  {
   "cell_type": "markdown",
   "metadata": {},
   "source": [
    "### evaluate the set of Angry validation"
   ]
  },
  {
   "cell_type": "code",
   "execution_count": null,
   "metadata": {},
   "outputs": [],
   "source": [
    "dictionary_deamplified_noised_a = ha_eval_deamplified_noised([emotionFolders[1]])\n",
    "\n",
    "one_scores_deamplified_noised_a = dictionary_deamplified_noised_a.get('one_scores')\n",
    "zero_scores_deamplified_noised_a = dictionary_deamplified_noised_a.get('zero_scores')\n",
    "deamplified_dbs_deamplified_noised_a = dictionary_deamplified_noised_a.get('deamplified_dbs')\n",
    "wetdrys_deamplified_noised_a = dictionary_deamplified_noised_a.get('wetdrys')\n",
    "diffusions_deamplified_noised_a = dictionary_deamplified_noised_a.get('diffusions')\n",
    "decayfactors_deamplified_noised_a = dictionary_deamplified_noised_a.get('decayfactors')"
   ]
  },
  {
   "cell_type": "markdown",
   "metadata": {},
   "source": [
    "### draw the plot (evaluation on only the wav files that are deamplified and mixed with noise)"
   ]
  },
  {
   "cell_type": "code",
   "execution_count": null,
   "metadata": {},
   "outputs": [],
   "source": [
    "category_names = ['Error Rate', 'Accuracy']\n",
    "graph_title = 'Error rate and accuracy on only the reverberated wav files'\n",
    "results = {\n",
    "    'Happy': [dictionary_deamplified_noised_h.get('error_rate'), dictionary_deamplified_noised_h.get('accuracy')],\n",
    "    'Angry': [dictionary_deamplified_noised_a.get('error_rate'), dictionary_deamplified_noised_a.get('accuracy')],\n",
    "}\n",
    "\n",
    "draw(results, category_names, graph_title)"
   ]
  },
  {
   "cell_type": "code",
   "execution_count": null,
   "metadata": {},
   "outputs": [],
   "source": [
    "h = [deamplified_dbs_deamplified_noised_h, zero_scores_deamplified_noised_h]\n",
    "a = [deamplified_dbs_deamplified_noised_a, one_scores_deamplified_noised_a]\n",
    "\n",
    "title = 'How deamplification affects the performance of the classifier in the presence of background noise'\n",
    "xlabel = 'Deamplified amount measured in decibels'\n",
    "ylabel = 'Score on the ground truth class of an audio clip'\n",
    "#graphs.draw_scatter(h, a, n, s, title, xlabel, ylabel)\n"
   ]
  },
  {
   "cell_type": "code",
   "execution_count": null,
   "metadata": {},
   "outputs": [],
   "source": [
    "graphs.draw_scatter(h, [[],[]], [[],[]], [[],[]], title, xlabel, ylabel)\n",
    "graphs.draw_scatter([[],[]], a, [[],[]], [[],[]], title, xlabel, ylabel)"
   ]
  },
  {
   "cell_type": "markdown",
   "metadata": {},
   "source": [
    "## Only evaluate deamplified and noised and reverberated wav files"
   ]
  },
  {
   "cell_type": "markdown",
   "metadata": {},
   "source": [
    "### evaluate the set of Happy validation"
   ]
  },
  {
   "cell_type": "code",
   "execution_count": null,
   "metadata": {},
   "outputs": [],
   "source": [
    "dictionary_deamplified_noised_reverbed_h = ha_eval_deamplified_noised_reverbed([emotionFolders[0]])\n",
    "\n",
    "one_scores_deamplified_noised_reverbed_h = dictionary_deamplified_noised_reverbed_h.get('one_scores')\n",
    "zero_scores_deamplified_noised_reverbed_h = dictionary_deamplified_noised_reverbed_h.get('zero_scores')\n",
    "deamplified_dbs_deamplified_noised_reverbed_h = dictionary_deamplified_noised_reverbed_h.get('deamplified_dbs')\n",
    "wetdrys_deamplified_noised_reverbed_h = dictionary_deamplified_noised_reverbed_h.get('wetdrys')\n",
    "diffusions_deamplified_noised_reverbed_h = dictionary_deamplified_noised_reverbed_h.get('diffusions')\n",
    "decayfactors_deamplified_noised_reverbed_h = dictionary_deamplified_noised_reverbed_h.get('decayfactors')"
   ]
  },
  {
   "cell_type": "markdown",
   "metadata": {},
   "source": [
    "### evaluate the set of Angry validation"
   ]
  },
  {
   "cell_type": "code",
   "execution_count": null,
   "metadata": {},
   "outputs": [],
   "source": [
    "dictionary_deamplified_noised_reverbed_a = ha_eval_deamplified_noised_reverbed([emotionFolders[1]])\n",
    "\n",
    "one_scores_deamplified_noised_reverbed_a = dictionary_deamplified_noised_reverbed_a.get('one_scores')\n",
    "zero_scores_deamplified_noised_reverbed_a = dictionary_deamplified_noised_reverbed_a.get('zero_scores')\n",
    "deamplified_dbs_deamplified_noised_reverbed_a = dictionary_deamplified_noised_reverbed_a.get('deamplified_dbs')\n",
    "wetdrys_deamplified_noised_reverbed_a = dictionary_deamplified_noised_reverbed_a.get('wetdrys')\n",
    "diffusions_deamplified_noised_reverbed_a = dictionary_deamplified_noised_reverbed_a.get('diffusions')\n",
    "decayfactors_deamplified_noised_reverbed_a = dictionary_deamplified_noised_reverbed_a.get('decayfactors')"
   ]
  },
  {
   "cell_type": "markdown",
   "metadata": {},
   "source": [
    "### draw the plot (evaluation on only the wav files that are deamplified, mixed with noise, and reverberated)"
   ]
  },
  {
   "cell_type": "code",
   "execution_count": null,
   "metadata": {},
   "outputs": [],
   "source": [
    "category_names = ['Error Rate', 'Accuracy']\n",
    "graph_title = 'Evaluation on only the wav files that are deamplified, mixed with noise, and reverberated'\n",
    "results = {\n",
    "    'Happy': [dictionary_deamplified_noised_reverbed_h.get('error_rate'), \\\n",
    "              dictionary_deamplified_noised_reverbed_h.get('accuracy')], \\\n",
    "    'Angry': [dictionary_deamplified_noised_reverbed_a.get('error_rate'), \\\n",
    "              dictionary_deamplified_noised_reverbed_a.get('accuracy')]\n",
    "}\n",
    "\n",
    "draw(results, category_names, graph_title)"
   ]
  },
  {
   "cell_type": "code",
   "execution_count": null,
   "metadata": {},
   "outputs": [],
   "source": [
    "h = [deamplified_dbs_deamplified_noised_reverbed_h, zero_scores_deamplified_noised_reverbed_h]\n",
    "a = [deamplified_dbs_deamplified_noised_reverbed_a, one_scores_deamplified_noised_reverbed_a]\n",
    "\n",
    "title = 'How deamplification affects the performance of the classifier in the presence of background noise'\n",
    "xlabel = 'Deamplified amount measured in decibels'\n",
    "ylabel = 'Score on the ground truth class of an audio clip'\n",
    "#graphs.draw_scatter(h, a, n, s, title, xlabel, ylabel)\n",
    "graphs.draw_scatter(h, [[],[]], [[],[]], [[],[]], title, xlabel, ylabel)\n",
    "graphs.draw_scatter([[],[]], a, [[],[]], [[],[]], title, xlabel, ylabel)"
   ]
  },
  {
   "cell_type": "code",
   "execution_count": null,
   "metadata": {},
   "outputs": [],
   "source": [
    "h_WetDry = [wetdrys_deamplified_noised_reverbed_h, zero_scores_deamplified_noised_reverbed_h]\n",
    "a_WetDry = [wetdrys_deamplified_noised_reverbed_a, one_scores_deamplified_noised_reverbed_a]\n",
    "\n",
    "title = 'How wet/dry ratio affects the performance of the classifier in the presence of background noise'\n",
    "xlabel = 'Wet/dry ratio'\n",
    "ylabel = 'Mean of the scores on the ground truth class of an audio clip'\n",
    "graphs.histogram(h_WetDry, a_WetDry, [[],[]], [[],[]], title, xlabel, ylabel)\n",
    "\n",
    "h_Diffusion = [diffusions_deamplified_noised_reverbed_h, zero_scores_deamplified_noised_reverbed_h]\n",
    "a_Diffusion = [diffusions_deamplified_noised_reverbed_a, one_scores_deamplified_noised_reverbed_a]\n",
    "\n",
    "title = 'How diffusion affects the performance of the classifier in the presence of background noise'\n",
    "xlabel = 'Diffusion value'\n",
    "ylabel = 'Mean of the scores on the ground truth class of an audio clip'\n",
    "\n",
    "graphs.histogram(h_Diffusion, a_Diffusion, [[],[]], [[],[]], title, xlabel, ylabel)\n",
    "\n",
    "h_DecayFactor = [decayfactors_deamplified_noised_reverbed_h, zero_scores_deamplified_noised_reverbed_h]\n",
    "a_DecayFactor = [decayfactors_deamplified_noised_reverbed_a, one_scores_deamplified_noised_reverbed_a]\n",
    "\n",
    "title = 'How the decay factor affects the performance of the classifier in the presence of background noise'\n",
    "xlabel = 'Decay factor value'\n",
    "ylabel = 'Mean of the scores on the ground truth class of an audio clip'\n",
    "\n",
    "graphs.histogram(h_DecayFactor, a_DecayFactor, [[],[]], [[],[]], title, xlabel, ylabel)"
   ]
  },
  {
   "cell_type": "markdown",
   "metadata": {},
   "source": [
    "## Evaluate all wav files"
   ]
  },
  {
   "cell_type": "markdown",
   "metadata": {},
   "source": [
    "### evaluate the set of Happy validation"
   ]
  },
  {
   "cell_type": "code",
   "execution_count": null,
   "metadata": {},
   "outputs": [],
   "source": [
    "dictionary_all_h = ha_eval_all([emotionFolders[0]])\n",
    "\n",
    "one_scores_all_h = dictionary_all_h.get('one_scores')\n",
    "zero_scores_all_h = dictionary_all_h.get('zero_scores')\n",
    "deamplified_dbs_all_h = dictionary_all_h.get('deamplified_dbs')\n",
    "wetdrys_all_h = dictionary_all_h.get('wetdrys')\n",
    "diffusions_all_h = dictionary_all_h.get('diffusions')\n",
    "decayfactors_all_h = dictionary_all_h.get('decayfactors')"
   ]
  },
  {
   "cell_type": "markdown",
   "metadata": {},
   "source": [
    "### evaluate the set of Angry validation"
   ]
  },
  {
   "cell_type": "code",
   "execution_count": null,
   "metadata": {},
   "outputs": [],
   "source": [
    "dictionary_all_a = ha_eval_all([emotionFolders[1]])\n",
    "\n",
    "one_scores_all_a = dictionary_all_a.get('one_scores')\n",
    "zero_scores_all_a = dictionary_all_a.get('zero_scores')\n",
    "deamplified_dbs_all_a = dictionary_all_a.get('deamplified_dbs')\n",
    "wetdrys_all_a = dictionary_all_a.get('wetdrys')\n",
    "diffusions_all_a = dictionary_all_a.get('diffusions')\n",
    "decayfactors_all_a = dictionary_all_a.get('decayfactors')"
   ]
  },
  {
   "cell_type": "markdown",
   "metadata": {},
   "source": [
    "### draw the plot (evaluation on all the wav files)"
   ]
  },
  {
   "cell_type": "code",
   "execution_count": null,
   "metadata": {},
   "outputs": [],
   "source": [
    "category_names = ['Error Rate', 'Accuracy']\n",
    "graph_title = 'Evaluation on all the wav files'\n",
    "results = {\n",
    "    'Happy': [dictionary_all_h.get('error_rate'), dictionary_all_h.get('accuracy')],\n",
    "    'Angry': [dictionary_all_a.get('error_rate'), dictionary_all_a.get('accuracy')]\n",
    "}\n",
    "\n",
    "draw(results, category_names, graph_title)"
   ]
  }
 ],
 "metadata": {
  "kernelspec": {
   "display_name": "Python 3",
   "language": "python",
   "name": "python3"
  },
  "language_info": {
   "codemirror_mode": {
    "name": "ipython",
    "version": 3
   },
   "file_extension": ".py",
   "mimetype": "text/x-python",
   "name": "python",
   "nbconvert_exporter": "python",
   "pygments_lexer": "ipython3",
   "version": "3.6.9"
  }
 },
 "nbformat": 4,
 "nbformat_minor": 2
}
