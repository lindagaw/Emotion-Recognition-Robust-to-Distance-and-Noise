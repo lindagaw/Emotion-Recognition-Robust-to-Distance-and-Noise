{
 "cells": [
  {
   "cell_type": "code",
   "execution_count": 50,
   "metadata": {},
   "outputs": [],
   "source": [
    "import random\n",
    "import os\n",
    "import shutil\n",
    "import glob\n",
    "import gc\n",
    "import sys\n",
    "import h5py\n",
    "import time\n",
    "import datetime\n",
    "import pickle\n",
    "import librosa\n",
    "import warnings\n",
    "import matplotlib.pyplot as plt\n",
    "\n",
    "from graphs import draw\n",
    "import graphs\n",
    "\n",
    "import numpy as np\n",
    "from numpy import array\n",
    "import pandas as pd\n",
    "from pandas.plotting import parallel_coordinates\n",
    "from pydub import AudioSegment\n",
    "\n",
    "#imported for testing\n",
    "import wave\n",
    "import contextlib\n",
    "\n",
    "# for outputing file\n",
    "from scipy.cluster.vq import vq, kmeans, whiten\n",
    "import scipy.stats.stats as st\n",
    "\n",
    "from sklearn.cluster import KMeans\n",
    "from sklearn.datasets import make_classification\n",
    "from sklearn.datasets.samples_generator import make_blobs\n",
    "from sklearn.decomposition import PCA as sklearnPCA\n",
    "from sklearn.discriminant_analysis import LinearDiscriminantAnalysis as LDA\n",
    "from sklearn.ensemble import RandomForestClassifier, ExtraTreesClassifier\n",
    "from sklearn.impute import SimpleImputer\n",
    "from sklearn.preprocessing import normalize\n",
    "from sklearn.metrics import auc, confusion_matrix, accuracy_score, precision_score, recall_score, f1_score\n",
    "from sklearn import mixture\n",
    "from sklearn.model_selection import train_test_split\n",
    "from sklearn.neighbors import KNeighborsClassifier\n",
    "from sklearn.svm import SVC\n",
    "from sklearn.utils import class_weight\n",
    "\n",
    "import keras\n",
    "\n",
    "from keras.callbacks import ModelCheckpoint, EarlyStopping\n",
    "from keras.constraints import maxnorm\n",
    "from keras.layers import Convolution1D, Dense, MaxPooling1D, Flatten, Add, Dropout, Input, Activation\n",
    "from keras.layers import TimeDistributed, Bidirectional, LSTM, LeakyReLU\n",
    "from keras.models import Sequential\n",
    "from keras.models import load_model\n",
    "from keras import optimizers, regularizers\n",
    "from keras.utils import np_utils, to_categorical\n",
    "\n",
    "from IPython.display import clear_output\n",
    "\n",
    "# confirm TensorFlow sees the GPU\n",
    "from tensorflow.python.client import device_lib\n",
    "# assert 'GPU' in str(device_lib.list_local_devices())\n",
    "\n",
    "# confirm Keras sees the GPU\n",
    "from keras import backend\n",
    "# print(len(backend.tensorflow_backend._get_available_gpus()) > 0)\n",
    "\n",
    "sample_rate=44100\n",
    "hop_length = 441  # frame size= 2*hop\n",
    "segment_length=int(sample_rate*0.2)  #0.2\n",
    "segment_pad=int(sample_rate*0.02)     #0.02\n",
    "overlappiong=int(sample_rate*0.1)   #0.1\n",
    "\n",
    "NumofFeaturetoUse = 272 # this will re-assigned for different classifiers\n",
    "frame_number = 48\n",
    "\n",
    "sys.path.insert(1, '..//components//')\n",
    "import load_feat_directories\n",
    "\n",
    "# input new indices file here\n",
    "# indices_filename = 'D://indices_filename.npy'\n",
    "# indices=np.load(indices_filename)"
   ]
  },
  {
   "cell_type": "code",
   "execution_count": 2,
   "metadata": {},
   "outputs": [],
   "source": [
    "def avail_modules(directory, prefix):\n",
    "    module_names = []\n",
    "    for item in os.listdir(directory):\n",
    "        if prefix in item:\n",
    "            module_names.append(directory + item)\n",
    "            i = module_names.index(directory + item)\n",
    "            print(str(i) + 'th module')\n",
    "            print(directory + item)\n",
    "    return module_names"
   ]
  },
  {
   "cell_type": "code",
   "execution_count": 3,
   "metadata": {},
   "outputs": [],
   "source": [
    "def comprise_vector(path, dist, reverb, noise):\n",
    "    vec_to_return = []\n",
    "    for fname in os.listdir(path):\n",
    "        components = fname.split('_')\n",
    "        '''\n",
    "        if dist == 0 and 'deamp' in components: continue\n",
    "        if reverb == 0 and 'WetDry' in components: continue\n",
    "        if noise == 0 and 'noise' in components: continue\n",
    "        '''\n",
    "        current_vec = np.load(path + fname)\n",
    "        vec_to_return.append(current_vec)\n",
    "        \n",
    "    vec_to_return = np.array(vec_to_return)\n",
    "    return vec_to_return"
   ]
  },
  {
   "cell_type": "code",
   "execution_count": 4,
   "metadata": {},
   "outputs": [],
   "source": [
    "def comprise_label(feature_vector, label):\n",
    "    label_vec_to_ret = []\n",
    "    length = len(list(feature_vector))\n",
    "    for index in range(0, length):\n",
    "        current_label = [label]\n",
    "        label_vec_to_ret.append(current_label)\n",
    "    label_vec_to_ret = np.array(label_vec_to_ret)\n",
    "\n",
    "    return label_vec_to_ret\n",
    "\n",
    "def float_compatible(input_np):\n",
    "\n",
    "    x = np.where(input_np >= np.finfo(np.float32).max)\n",
    "    for index in range(0, len(x[0])):\n",
    "        x_position = x[0][index]\n",
    "        y_position = x[1][index]\n",
    "        input_np[x_position, y_position] = 0.0\n",
    "    input_np = np.nan_to_num(input_np)\n",
    "\n",
    "    return input_np\n",
    "\n",
    "def update_progress(progress):\n",
    "    bar_length = 100\n",
    "    if isinstance(progress, int):\n",
    "        progress = float(progress)\n",
    "    if not isinstance(progress, float):\n",
    "        progress = 0\n",
    "    if progress < 0:\n",
    "        progress = 0\n",
    "    if progress >= 1:\n",
    "        progress = 1\n",
    "\n",
    "    block = int(round(bar_length * progress))\n",
    "    clear_output(wait = True)\n",
    "    \n",
    "    text = \"Progress: [{0}] {1:.1f}%\".format( \"#\" * block + \"-\" * (bar_length - block), progress * 100)\n",
    "    print(text)"
   ]
  },
  {
   "cell_type": "code",
   "execution_count": 5,
   "metadata": {},
   "outputs": [],
   "source": [
    "# allnoised_npy[0, 1, 2, 3, 4] ==> H, A, N, S, O\n",
    "# homenoised_npy[0, 1, 2, 3, 4] ==> H, A, N, S, O\n",
    "all_noised_npy = load_feat_directories.allnoised_npy\n",
    "all_noised_npy_test = load_feat_directories.allnoised_npy_test\n",
    "home_noised_npy = load_feat_directories.homenoised_npy\n",
    "home_noised_npy_test = load_feat_directories.homenoised_npy_test\n",
    "\n",
    "for index in range(0, 5):\n",
    "    if not os.path.exists(all_noised_npy_test[index]):\n",
    "        print(all_noised_npy_test[index] + ' does not exist. Breaking the loop... ')\n",
    "    if not os.path.exists(home_noised_npy[index]):\n",
    "        print(home_noised_npy_test[index] + 'does not exist. Breaking the loop... ')"
   ]
  },
  {
   "cell_type": "code",
   "execution_count": 6,
   "metadata": {},
   "outputs": [],
   "source": [
    "emotions = [0, 1, 2, 3]\n",
    "home_or_all = 'home'\n",
    "dist = 0\n",
    "reverb = 0\n",
    "noise = 0\n",
    "\n",
    "for index in emotions:\n",
    "    if home_or_all == 'home':\n",
    "        path = home_noised_npy_test[index]\n",
    "    else:\n",
    "        path = all_noised_npy_test[index]\n",
    "        \n",
    "    if index == 0:\n",
    "        val_h_feat = comprise_vector(path, dist, reverb, noise)\n",
    "        val_h_label = comprise_label(val_h_feat, index)\n",
    "    elif index == 1:\n",
    "        val_a_feat = comprise_vector(path, dist, reverb, noise)\n",
    "        val_a_label = comprise_label(val_a_feat, index)\n",
    "    elif index == 2:\n",
    "        val_n_feat = comprise_vector(path, dist, reverb, noise)\n",
    "        val_n_label = comprise_label(val_n_feat, index)\n",
    "    elif index == 3:\n",
    "        val_s_feat = comprise_vector(path, dist, reverb, noise)\n",
    "        val_s_label = comprise_label(val_s_feat, index)\n",
    "    else:\n",
    "        val_o_feat = comprise_vector(path, dist, reverb, noise)\n",
    "        val_o_label = comprise_label(val_o_feat, index)     \n"
   ]
  },
  {
   "cell_type": "markdown",
   "metadata": {},
   "source": [
    "# Top (Binary)"
   ]
  },
  {
   "cell_type": "code",
   "execution_count": 7,
   "metadata": {},
   "outputs": [],
   "source": [
    "def top_eval_all(emotionFolders):\n",
    "    total = 0\n",
    "    \n",
    "    zero_scores = []\n",
    "    one_scores = []\n",
    "    \n",
    "    correct = 0\n",
    "    incorrect = 0\n",
    "    \n",
    "    for emotionFolder in emotionFolders:\n",
    "        if 'Happy' in emotionFolder: val = 0\n",
    "        if 'Angry' in emotionFolder: val = 0\n",
    "        if 'Neutral' in emotionFolder: val = 1\n",
    "        if 'Sad' in emotionFolder: val = 1\n",
    "\n",
    "        for emotionfile in os.listdir(emotionFolder):\n",
    "            \n",
    "            one_sample = np.load(emotionFolder + emotionfile)\n",
    "            one_sample = np.array([one_sample])\n",
    "            zero_score, one_score = model.predict(one_sample)[0]\n",
    "            zero_scores.append(zero_score)\n",
    "            one_scores.append(one_score)\n",
    "\n",
    "            if val == 0:\n",
    "                if zero_score > one_score: correct += 1\n",
    "                else: incorrect += 1\n",
    "            else:\n",
    "                if one_score > zero_score: correct += 1\n",
    "                else: incorrect += 1\n",
    "\n",
    "            total += 1\n",
    "                \n",
    "    print('correct = ' + str(correct))\n",
    "    print('incorrect = ' + str(incorrect))\n",
    "    print('error rate = ' + str(incorrect/total) )\n",
    "    print('accuracy = ' + str(correct/total) )\n",
    "    print('total files = ' + str(total))\n",
    "                       \n",
    "    mydict = {'one_scores': one_scores, 'zero_scores': zero_scores, \\\n",
    "             'error_rate': incorrect/total, 'accuracy': correct/total, 'total_files': total}\n",
    "    return mydict"
   ]
  },
  {
   "cell_type": "code",
   "execution_count": 8,
   "metadata": {},
   "outputs": [],
   "source": [
    "def top_eval_original(emotionFolders):\n",
    "    total = 0\n",
    "    \n",
    "    zero_scores = []\n",
    "    one_scores = []\n",
    "    \n",
    "    correct = 0\n",
    "    incorrect = 0\n",
    "    \n",
    "    for emotionFolder in emotionFolders:\n",
    "        if 'Happy' in emotionFolder: val = 0\n",
    "        if 'Angry' in emotionFolder: val = 0\n",
    "        if 'Neutral' in emotionFolder: val = 1\n",
    "        if 'Sad' in emotionFolder: val = 1\n",
    "\n",
    "        for emotionfile in os.listdir(emotionFolder):\n",
    "            dist = 'deamp_' in emotionfile\n",
    "            reverb = 'WetDry_' in emotionfile and 'Diffusion_' in emotionfile and 'DecayFactor_' in emotionfile\n",
    "            noise = 'noise_' in emotionfile\n",
    "        \n",
    "            r_n = not dist and reverb and noise \n",
    "            r = not dist and reverb and not noise\n",
    "            n = not dist and not reverb and noise\n",
    "            original = not dist and not reverb and not noise\n",
    "            d_r_n = dist and reverb and noise\n",
    "            d_r = dist and reverb and not noise\n",
    "            d_n = dist and not reverb and noise\n",
    "            d = dist and not reverb and not noise \n",
    "            \n",
    "            if original:\n",
    "                one_sample = np.load(emotionFolder + emotionfile)\n",
    "                one_sample = np.array([one_sample])\n",
    "                zero_score, one_score = model.predict(one_sample)[0]\n",
    "                zero_scores.append(zero_score)\n",
    "                one_scores.append(one_score)\n",
    "                \n",
    "                if val == 0:\n",
    "                    if zero_score > one_score: correct += 1\n",
    "                    else: incorrect += 1\n",
    "                else:\n",
    "                    if one_score > zero_score: correct += 1\n",
    "                    else: incorrect += 1\n",
    "                \n",
    "                total += 1\n",
    "    \n",
    "    print('correct = ' + str(correct))\n",
    "    print('incorrect = ' + str(incorrect))\n",
    "    print('error rate = ' + str(incorrect/total) )\n",
    "    print('accuracy = ' + str(correct/total) )\n",
    "    print('total files = ' + str(total))\n",
    "                       \n",
    "    mydict = {'one_scores': one_scores, 'zero_scores': zero_scores, \\\n",
    "             'error_rate': incorrect/total, 'accuracy': correct/total, 'total_files': total}\n",
    "    return mydict"
   ]
  },
  {
   "cell_type": "code",
   "execution_count": 9,
   "metadata": {},
   "outputs": [],
   "source": [
    "def top_eval_deamplified_noised(emotionFolders):\n",
    "    total = 0\n",
    "    \n",
    "    zero_scores = []\n",
    "    one_scores = []\n",
    "    \n",
    "    deamplified_dbs = []\n",
    "    \n",
    "    correct = 0\n",
    "    incorrect = 0\n",
    "    \n",
    "    for emotionFolder in emotionFolders:\n",
    "        if 'Happy' in emotionFolder: val = 0\n",
    "        if 'Angry' in emotionFolder: val = 0\n",
    "        if 'Neutral' in emotionFolder: val = 1\n",
    "        if 'Sad' in emotionFolder: val = 1\n",
    "\n",
    "        for emotionfile in os.listdir(emotionFolder):\n",
    "            dist = 'deamp_' in emotionfile\n",
    "            reverb = 'WetDry_' in emotionfile and 'Diffusion_' in emotionfile and 'DecayFactor_' in emotionfile\n",
    "            noise = 'noise_' in emotionfile\n",
    "        \n",
    "            r_n = not dist and reverb and noise \n",
    "            r = not dist and reverb and not noise\n",
    "            n = not dist and not reverb and noise\n",
    "            original = not dist and not reverb and not noise\n",
    "            d_r_n = dist and reverb and noise\n",
    "            d_r = dist and reverb and not noise\n",
    "            d_n = dist and not reverb and noise\n",
    "            d = dist and not reverb and not noise # does not exist\n",
    "            \n",
    "            if d_n:\n",
    "                one_sample = np.load(emotionFolder + emotionfile)\n",
    "                one_sample = np.array([one_sample])\n",
    "                \n",
    "                components = emotionfile.split('_')\n",
    "                deamplified_amount_position = components.index('deamp') + 1\n",
    "                deamplified = float(components[deamplified_amount_position])\n",
    "                deamplified_dbs.append(deamplified)\n",
    "                \n",
    "                zero_score, one_score = model.predict(one_sample)[0]\n",
    "                \n",
    "                zero_scores.append(zero_score)\n",
    "                one_scores.append(one_score)\n",
    "                \n",
    "                if val == 0:\n",
    "                    if zero_score > one_score: correct += 1\n",
    "                    else: incorrect += 1\n",
    "                else:\n",
    "                    if one_score > zero_score: correct += 1\n",
    "                    else: incorrect += 1\n",
    "                \n",
    "                total += 1\n",
    "                \n",
    "    print('correct = ' + str(correct))\n",
    "    print('incorrect = ' + str(incorrect))\n",
    "    print('error rate = ' + str(incorrect/total) )\n",
    "    print('accuracy = ' + str(correct/total) )\n",
    "    print('total files = ' + str(total))\n",
    "                       \n",
    "    mydict = {'one_scores': one_scores, 'zero_scores': zero_scores, \\\n",
    "             'deamplified_dbs': deamplified_dbs, 'error_rate': incorrect/total, 'accuracy': correct/total, \\\n",
    "             'total_files': total}\n",
    "    return mydict"
   ]
  },
  {
   "cell_type": "code",
   "execution_count": 10,
   "metadata": {},
   "outputs": [],
   "source": [
    "def top_eval_reverbed(emotionFolders):\n",
    "    total = 0\n",
    "    \n",
    "    zero_scores = []\n",
    "    one_scores = []\n",
    "    \n",
    "    wetdrys = []\n",
    "    diffusions = []\n",
    "    decayfactors = []\n",
    "    \n",
    "    \n",
    "    correct = 0\n",
    "    incorrect = 0\n",
    "    \n",
    "    for emotionFolder in emotionFolders:\n",
    "        if 'Happy' in emotionFolder: val = 0\n",
    "        if 'Angry' in emotionFolder: val = 0\n",
    "        if 'Neutral' in emotionFolder: val = 1\n",
    "        if 'Sad' in emotionFolder: val = 1\n",
    "\n",
    "        for emotionfile in os.listdir(emotionFolder):\n",
    "            dist = 'deamp_' in emotionfile\n",
    "            reverb = 'WetDry_' in emotionfile and 'Diffusion_' in emotionfile and 'DecayFactor_' in emotionfile\n",
    "            noise = 'noise_' in emotionfile\n",
    "        \n",
    "            r_n = not dist and reverb and noise \n",
    "            r = not dist and reverb and not noise\n",
    "            n = not dist and not reverb and noise\n",
    "            original = not dist and not reverb and not noise\n",
    "            d_r_n = dist and reverb and noise\n",
    "            d_r = dist and reverb and not noise\n",
    "            d_n = dist and not reverb and noise\n",
    "            d = dist and not reverb and not noise # does not exist\n",
    "            \n",
    "            if r:\n",
    "                one_sample = np.load(emotionFolder + emotionfile)\n",
    "                one_sample = np.array([one_sample])\n",
    "                zero_score, one_score = model.predict(one_sample)[0]\n",
    "                \n",
    "                components = emotionfile.split('_')\n",
    "                \n",
    "                wetdry_position = components.index('WetDry') + 1\n",
    "                wetdrys.append(float(components[wetdry_position]))\n",
    "                \n",
    "                decayfactor_position = components.index('DecayFactor') + 1\n",
    "                decayfactors.append(float(components[decayfactor_position]))\n",
    "                \n",
    "                diffusion_position = components.index('Diffusion') + 1\n",
    "                diffusions.append(float(components[diffusion_position].split('.')[0]))\n",
    "                \n",
    "                zero_scores.append(zero_score)\n",
    "                one_scores.append(one_score)\n",
    "                \n",
    "                if val == 0:\n",
    "                    if zero_score > one_score: correct += 1\n",
    "                    else: incorrect += 1\n",
    "                else:\n",
    "                    if one_score > zero_score: correct += 1\n",
    "                    else: incorrect += 1\n",
    "                \n",
    "                total += 1\n",
    "    print('correct = ' + str(correct))\n",
    "    print('incorrect = ' + str(incorrect))\n",
    "    print('error rate = ' + str(incorrect/total) )\n",
    "    print('accuracy = ' + str(correct/total) )\n",
    "    print('total files = ' + str(total))\n",
    "                       \n",
    "    mydict = {'one_scores': one_scores, 'zero_scores': zero_scores, \\\n",
    "             'wetdrys': wetdrys, 'diffusions': diffusions, 'decayfactors': decayfactors, \\\n",
    "             'error_rate': incorrect/total, 'accuracy': correct/total, 'total_files': total}\n",
    "    return mydict"
   ]
  },
  {
   "cell_type": "code",
   "execution_count": 11,
   "metadata": {},
   "outputs": [],
   "source": [
    "def top_eval_deamplified_noised_reverbed(emotionFolders):\n",
    "    total = 0\n",
    "    \n",
    "    zero_scores = []\n",
    "    one_scores = []\n",
    "    \n",
    "    wetdrys = []\n",
    "    diffusions = []\n",
    "    decayfactors = []\n",
    "    deamplified_dbs = []\n",
    "    \n",
    "    correct = 0\n",
    "    incorrect = 0\n",
    "    \n",
    "    for emotionFolder in emotionFolders:\n",
    "        if 'Happy' in emotionFolder: val = 0\n",
    "        if 'Angry' in emotionFolder: val = 0\n",
    "        if 'Neutral' in emotionFolder: val = 1\n",
    "        if 'Sad' in emotionFolder: val = 1\n",
    "\n",
    "        for emotionfile in os.listdir(emotionFolder):\n",
    "            dist = 'deamp_' in emotionfile\n",
    "            reverb = 'WetDry_' in emotionfile and 'Diffusion_' in emotionfile and 'DecayFactor_' in emotionfile\n",
    "            noise = 'noise_' in emotionfile\n",
    "        \n",
    "            r_n = not dist and reverb and noise \n",
    "            r = not dist and reverb and not noise\n",
    "            n = not dist and not reverb and noise\n",
    "            original = not dist and not reverb and not noise\n",
    "            d_r_n = dist and reverb and noise\n",
    "            d_r = dist and reverb and not noise\n",
    "            d_n = dist and not reverb and noise\n",
    "            d = dist and not reverb and not noise # does not exist\n",
    "            \n",
    "            if d_r_n:\n",
    "                one_sample = np.load(emotionFolder + emotionfile)\n",
    "                one_sample = np.array([one_sample])\n",
    "                zero_score, one_score = model.predict(one_sample)[0]\n",
    "                \n",
    "                components = emotionfile.split('_')\n",
    "                \n",
    "                deamplified_position = components.index('deamp') + 1\n",
    "                deamplified_dbs.append(float(components[deamplified_position]))\n",
    "                \n",
    "                wetdry_position = components.index('WetDry') + 1\n",
    "                wetdrys.append(float(components[wetdry_position]))\n",
    "                \n",
    "                decayfactor_position = components.index('DecayFactor') + 1\n",
    "                decayfactors.append(float(components[decayfactor_position]))\n",
    "                \n",
    "                diffusion_position = components.index('Diffusion') + 1\n",
    "                diffusions.append(float(components[diffusion_position].split('.')[0]))\n",
    "                \n",
    "                zero_scores.append(zero_score)\n",
    "                one_scores.append(one_score)\n",
    "                \n",
    "                if val == 0:\n",
    "                    if zero_score > one_score: correct += 1\n",
    "                    else: incorrect += 1\n",
    "                else:\n",
    "                    if one_score > zero_score: correct += 1\n",
    "                    else: incorrect += 1\n",
    "                \n",
    "                total += 1\n",
    "    print('correct = ' + str(correct))\n",
    "    print('incorrect = ' + str(incorrect))\n",
    "    print('error rate = ' + str(incorrect/total) )\n",
    "    print('accuracy = ' + str(correct/total) )\n",
    "    print('total files = ' + str(total))\n",
    "                       \n",
    "    mydict = {'one_scores': one_scores, 'zero_scores': zero_scores, \\\n",
    "             'wetdrys': wetdrys, 'diffusions': diffusions, 'decayfactors': decayfactors,\n",
    "             'deamplified_dbs': deamplified_dbs, 'error_rate': incorrect/total, 'accuracy': correct/total, \\\n",
    "             'total_files': total}\n",
    "    return mydict"
   ]
  },
  {
   "cell_type": "code",
   "execution_count": 12,
   "metadata": {},
   "outputs": [],
   "source": [
    "def predict_cnn(model):\n",
    "    y_pred = []\n",
    "    y_true = []\n",
    "\n",
    "    for item in list(Label_val):\n",
    "            if item[0] > item[1]:\n",
    "                y_true.append(0)\n",
    "            elif item[0] < item[1]:\n",
    "                y_true.append(1)\n",
    "            else:\n",
    "                y_true.append(0)\n",
    "\n",
    "    for item in list(model.predict(featureSet_val)):\n",
    "            if item[0] > item[1]:\n",
    "                y_pred.append(0)\n",
    "            elif item[0] < item[1]:\n",
    "                y_pred.append(1)\n",
    "            else:\n",
    "                y_pred.append(0)\n",
    "\n",
    "    print('Accuracy: ' + str(accuracy_score(y_true, y_pred)))\n",
    "    print('Precision: ' + str(precision_score(y_true, y_pred)))\n",
    "    print('Recall: ' + str(recall_score(y_true, y_pred)))\n",
    "    print('f1 score: ' + str(f1_score(y_true, y_pred)))\n",
    "\n",
    "    tn, fp, fn, tp = confusion_matrix(y_true, y_pred).ravel()\n",
    "\n",
    "    print('true positive ' + str(tp))\n",
    "    print('false positive ' + str(fp))\n",
    "    print('false negative ' + str(fn))\n",
    "    print('true negative ' + str(tn))"
   ]
  },
  {
   "cell_type": "code",
   "execution_count": 13,
   "metadata": {},
   "outputs": [
    {
     "name": "stdout",
     "output_type": "stream",
     "text": [
      "evaluation data: (7551, 48, 272)\n",
      "evaluation label: (7551, 2)\n"
     ]
    }
   ],
   "source": [
    "# Load testing npy files\n",
    "featureSet_val = float_compatible(np.vstack((val_h_feat, val_a_feat, val_n_feat, val_s_feat)))\n",
    "Label_val = np.vstack((val_h_label, val_a_label, val_n_label, val_s_label))\n",
    "Label_val[Label_val == 0] = 0\n",
    "Label_val[Label_val == 1] = 0\n",
    "Label_val[Label_val == 2] = 1\n",
    "Label_val[Label_val == 3] = 1\n",
    "Label_val = to_categorical(Label_val)\n",
    "print('evaluation data: ' + str(featureSet_val.shape))\n",
    "print('evaluation label: ' + str(Label_val.shape))"
   ]
  },
  {
   "cell_type": "code",
   "execution_count": 14,
   "metadata": {},
   "outputs": [
    {
     "name": "stdout",
     "output_type": "stream",
     "text": [
      "0th module\n",
      "//Volumes//ASH//modules//Checkpoint_home_Top_neurons_home_2048_filters_1024_dropout_0.2_epoch_1000_dense_6.hdf5\n"
     ]
    }
   ],
   "source": [
    "directory = '//Volumes//ASH//modules//'\n",
    "module_prefix = 'Top_'\n",
    "modules = avail_modules(directory, module_prefix)"
   ]
  },
  {
   "cell_type": "code",
   "execution_count": 15,
   "metadata": {},
   "outputs": [
    {
     "name": "stdout",
     "output_type": "stream",
     "text": [
      "WARNING:tensorflow:From /anaconda/lib/python3.6/site-packages/tensorflow/python/framework/op_def_library.py:263: colocate_with (from tensorflow.python.framework.ops) is deprecated and will be removed in a future version.\n",
      "Instructions for updating:\n",
      "Colocations handled automatically by placer.\n",
      "WARNING:tensorflow:From /anaconda/lib/python3.6/site-packages/keras/backend/tensorflow_backend.py:3445: calling dropout (from tensorflow.python.ops.nn_ops) with keep_prob is deprecated and will be removed in a future version.\n",
      "Instructions for updating:\n",
      "Please use `rate` instead of `keep_prob`. Rate should be set to `rate = 1 - keep_prob`.\n",
      "WARNING:tensorflow:From /anaconda/lib/python3.6/site-packages/tensorflow/python/ops/math_ops.py:3066: to_int32 (from tensorflow.python.ops.math_ops) is deprecated and will be removed in a future version.\n",
      "Instructions for updating:\n",
      "Use tf.cast instead.\n"
     ]
    }
   ],
   "source": [
    "title = modules[0]\n",
    "model = keras.models.load_model(title)"
   ]
  },
  {
   "cell_type": "markdown",
   "metadata": {},
   "source": [
    "## Specify the directories that contain the files of emotion"
   ]
  },
  {
   "cell_type": "code",
   "execution_count": 16,
   "metadata": {},
   "outputs": [],
   "source": [
    "emotionFolders = [home_noised_npy_test[0], home_noised_npy_test[1], \\\n",
    "                  home_noised_npy_test[2], home_noised_npy_test[3]]"
   ]
  },
  {
   "cell_type": "markdown",
   "metadata": {},
   "source": [
    "## Only evaluate unmodified wav files"
   ]
  },
  {
   "cell_type": "markdown",
   "metadata": {},
   "source": [
    "### evaluate the set of Happy validation"
   ]
  },
  {
   "cell_type": "code",
   "execution_count": 17,
   "metadata": {
    "scrolled": true
   },
   "outputs": [
    {
     "name": "stdout",
     "output_type": "stream",
     "text": [
      "correct = 339\n",
      "incorrect = 1\n",
      "error rate = 0.0029411764705882353\n",
      "accuracy = 0.9970588235294118\n",
      "total files = 340\n"
     ]
    }
   ],
   "source": [
    "dictionary_original_h = top_eval_original([emotionFolders[0]])\n",
    "one_scores_original_h = dictionary_original_h.get('one_scores')\n",
    "zero_scores_original_h = dictionary_original_h.get('zero_scores')"
   ]
  },
  {
   "cell_type": "markdown",
   "metadata": {},
   "source": [
    "### evaluate the set of Angry validation"
   ]
  },
  {
   "cell_type": "code",
   "execution_count": 18,
   "metadata": {},
   "outputs": [
    {
     "name": "stdout",
     "output_type": "stream",
     "text": [
      "correct = 325\n",
      "incorrect = 1\n",
      "error rate = 0.003067484662576687\n",
      "accuracy = 0.9969325153374233\n",
      "total files = 326\n"
     ]
    }
   ],
   "source": [
    "dictionary_original_a = top_eval_original([emotionFolders[1]])\n",
    "one_scores_original_a = dictionary_original_a.get('one_scores')\n",
    "zero_scores_original_a = dictionary_original_a.get('zero_scores')"
   ]
  },
  {
   "cell_type": "markdown",
   "metadata": {},
   "source": [
    "### evaluate the set of Neutral validation"
   ]
  },
  {
   "cell_type": "code",
   "execution_count": 19,
   "metadata": {},
   "outputs": [
    {
     "name": "stdout",
     "output_type": "stream",
     "text": [
      "correct = 299\n",
      "incorrect = 0\n",
      "error rate = 0.0\n",
      "accuracy = 1.0\n",
      "total files = 299\n"
     ]
    }
   ],
   "source": [
    "dictionary_original_n = top_eval_original([emotionFolders[2]])\n",
    "one_scores_original_n = dictionary_original_n.get('one_scores')\n",
    "zero_scores_original_n = dictionary_original_n.get('zero_scores')"
   ]
  },
  {
   "cell_type": "markdown",
   "metadata": {},
   "source": [
    "### evaluate the set of Sad validation"
   ]
  },
  {
   "cell_type": "code",
   "execution_count": 20,
   "metadata": {},
   "outputs": [
    {
     "name": "stdout",
     "output_type": "stream",
     "text": [
      "correct = 335\n",
      "incorrect = 0\n",
      "error rate = 0.0\n",
      "accuracy = 1.0\n",
      "total files = 335\n"
     ]
    }
   ],
   "source": [
    "dictionary_original_s = top_eval_original([emotionFolders[3]])\n",
    "one_scores_original_s = dictionary_original_s.get('one_scores')\n",
    "zero_scores_original_s = dictionary_original_s.get('zero_scores')"
   ]
  },
  {
   "cell_type": "markdown",
   "metadata": {},
   "source": [
    "### draw the plot (evaluation on only unmodified, original wav files)"
   ]
  },
  {
   "cell_type": "code",
   "execution_count": 21,
   "metadata": {},
   "outputs": [
    {
     "data": {
      "text/plain": [
       "(<Figure size 662.4x360 with 1 Axes>,\n",
       " <matplotlib.axes._subplots.AxesSubplot at 0x1c2fee9588>)"
      ]
     },
     "execution_count": 21,
     "metadata": {},
     "output_type": "execute_result"
    },
    {
     "data": {
      "image/png": "[encoded data removed]",
      "text/plain": [
       "<Figure size 662.4x360 with 1 Axes>"
      ]
     },
     "metadata": {
      "needs_background": "light"
     },
     "output_type": "display_data"
    }
   ],
   "source": [
    "category_names = ['Error Rate', 'Accuracy']\n",
    "graph_title = 'Evaluation on only unmodified, original wav files'\n",
    "results = {\n",
    "    'Happy': [dictionary_original_h.get('error_rate'), dictionary_original_h.get('accuracy')],\n",
    "    'Angry': [dictionary_original_a.get('error_rate'), dictionary_original_a.get('accuracy')],\n",
    "    'Neutral': [dictionary_original_n.get('error_rate'), dictionary_original_n.get('accuracy')],\n",
    "    'Sad': [dictionary_original_s.get('error_rate'), dictionary_original_s.get('accuracy')]\n",
    "}\n",
    "\n",
    "draw(results, category_names, graph_title)"
   ]
  },
  {
   "cell_type": "markdown",
   "metadata": {},
   "source": [
    "## Only evaluate reverberated wav files"
   ]
  },
  {
   "cell_type": "markdown",
   "metadata": {},
   "source": [
    "### evaluate the set of Happy validation"
   ]
  },
  {
   "cell_type": "code",
   "execution_count": 22,
   "metadata": {},
   "outputs": [
    {
     "name": "stdout",
     "output_type": "stream",
     "text": [
      "correct = 343\n",
      "incorrect = 2\n",
      "error rate = 0.005797101449275362\n",
      "accuracy = 0.9942028985507246\n",
      "total files = 345\n"
     ]
    }
   ],
   "source": [
    "dictionary_reverbed_h = top_eval_reverbed([emotionFolders[0]])\n",
    "\n",
    "one_scores_reverbed_h = dictionary_reverbed_h.get('one_scores')\n",
    "zero_scores_reverbed_h = dictionary_reverbed_h.get('zero_scores')\n",
    "\n",
    "wetdrys_reverbed_h = dictionary_reverbed_h.get('wetdrys')\n",
    "diffusions_reverbed_h = dictionary_reverbed_h.get('diffusions')\n",
    "decayfactors_reverbed_h = dictionary_reverbed_h.get('decayfactors')"
   ]
  },
  {
   "cell_type": "markdown",
   "metadata": {},
   "source": [
    "### evaluate the set of Angry validation"
   ]
  },
  {
   "cell_type": "code",
   "execution_count": 23,
   "metadata": {},
   "outputs": [
    {
     "name": "stdout",
     "output_type": "stream",
     "text": [
      "correct = 315\n",
      "incorrect = 2\n",
      "error rate = 0.006309148264984227\n",
      "accuracy = 0.9936908517350158\n",
      "total files = 317\n"
     ]
    }
   ],
   "source": [
    "dictionary_reverbed_a = top_eval_reverbed([emotionFolders[1]])\n",
    "\n",
    "one_scores_reverbed_a = dictionary_reverbed_a.get('one_scores')\n",
    "zero_scores_reverbed_a = dictionary_reverbed_a.get('zero_scores')\n",
    "\n",
    "wetdrys_reverbed_a = dictionary_reverbed_a.get('wetdrys')\n",
    "diffusions_reverbed_a = dictionary_reverbed_a.get('diffusions')\n",
    "decayfactors_reverbed_a = dictionary_reverbed_a.get('decayfactors')"
   ]
  },
  {
   "cell_type": "markdown",
   "metadata": {},
   "source": [
    "### evaluate the set of Neutral validation"
   ]
  },
  {
   "cell_type": "code",
   "execution_count": 24,
   "metadata": {},
   "outputs": [
    {
     "name": "stdout",
     "output_type": "stream",
     "text": [
      "correct = 280\n",
      "incorrect = 1\n",
      "error rate = 0.0035587188612099642\n",
      "accuracy = 0.99644128113879\n",
      "total files = 281\n"
     ]
    }
   ],
   "source": [
    "dictionary_reverbed_n = top_eval_reverbed([emotionFolders[2]])\n",
    "\n",
    "one_scores_reverbed_n = dictionary_reverbed_n.get('one_scores')\n",
    "zero_scores_reverbed_h = dictionary_reverbed_n.get('zero_scores')\n",
    "\n",
    "wetdrys_reverbed_h = dictionary_reverbed_n.get('wetdrys')\n",
    "diffusions_reverbed_h = dictionary_reverbed_n.get('diffusions')\n",
    "decayfactors_reverbed_h = dictionary_reverbed_n.get('decayfactors')"
   ]
  },
  {
   "cell_type": "markdown",
   "metadata": {},
   "source": [
    "### evaluate the set of Sad validation"
   ]
  },
  {
   "cell_type": "code",
   "execution_count": 25,
   "metadata": {},
   "outputs": [
    {
     "name": "stdout",
     "output_type": "stream",
     "text": [
      "correct = 280\n",
      "incorrect = 1\n",
      "error rate = 0.0035587188612099642\n",
      "accuracy = 0.99644128113879\n",
      "total files = 281\n"
     ]
    }
   ],
   "source": [
    "dictionary_reverbed_s = top_eval_reverbed([emotionFolders[2]])\n",
    "\n",
    "one_scores_reverbed_s = dictionary_reverbed_s.get('one_scores')\n",
    "zero_scores_reverbed_s = dictionary_reverbed_s.get('zero_scores')\n",
    "\n",
    "wetdrys_reverbed_s = dictionary_reverbed_s.get('wetdrys')\n",
    "diffusions_reverbed_s = dictionary_reverbed_s.get('diffusions')\n",
    "decayfactors_reverbed_s = dictionary_reverbed_s.get('decayfactors')"
   ]
  },
  {
   "cell_type": "markdown",
   "metadata": {},
   "source": [
    "### draw the plot (evaluation on only the reverberated wav files)"
   ]
  },
  {
   "cell_type": "code",
   "execution_count": 26,
   "metadata": {},
   "outputs": [
    {
     "data": {
      "text/plain": [
       "(<Figure size 662.4x360 with 1 Axes>,\n",
       " <matplotlib.axes._subplots.AxesSubplot at 0x1c2ff5e0b8>)"
      ]
     },
     "execution_count": 26,
     "metadata": {},
     "output_type": "execute_result"
    },
    {
     "data": {
      "image/png": "[encoded data removed]",
      "text/plain": [
       "<Figure size 662.4x360 with 1 Axes>"
      ]
     },
     "metadata": {
      "needs_background": "light"
     },
     "output_type": "display_data"
    }
   ],
   "source": [
    "category_names = ['Error Rate', 'Accuracy']\n",
    "graph_title = 'Evaluation on only the reverberated wav files'\n",
    "results = {\n",
    "    'Happy': [dictionary_reverbed_h.get('error_rate'), dictionary_reverbed_h.get('accuracy')],\n",
    "    'Angry': [dictionary_reverbed_a.get('error_rate'), dictionary_reverbed_a.get('accuracy')],\n",
    "    'Neutral': [dictionary_reverbed_n.get('error_rate'), dictionary_reverbed_n.get('accuracy')],\n",
    "    'Sad': [dictionary_reverbed_s.get('error_rate'), dictionary_reverbed_s.get('accuracy')]\n",
    "}\n",
    "\n",
    "draw(results, category_names, graph_title)"
   ]
  },
  {
   "cell_type": "markdown",
   "metadata": {},
   "source": [
    "## Only evaluate deamplified and noised wav files"
   ]
  },
  {
   "cell_type": "markdown",
   "metadata": {},
   "source": [
    "### evaluate the set of Happy validation"
   ]
  },
  {
   "cell_type": "code",
   "execution_count": 27,
   "metadata": {},
   "outputs": [
    {
     "name": "stdout",
     "output_type": "stream",
     "text": [
      "correct = 571\n",
      "incorrect = 24\n",
      "error rate = 0.040336134453781515\n",
      "accuracy = 0.9596638655462185\n",
      "total files = 595\n"
     ]
    }
   ],
   "source": [
    "dictionary_deamplified_noised_h = top_eval_deamplified_noised([emotionFolders[0]])\n",
    "\n",
    "one_scores_deamplified_noised_h = dictionary_deamplified_noised_h.get('one_scores')\n",
    "zero_scores_deamplified_noised_h = dictionary_deamplified_noised_h.get('zero_scores')\n",
    "deamplified_dbs_deamplified_noised_h = dictionary_deamplified_noised_h.get('deamplified_dbs')\n",
    "wetdrys_deamplified_noised_h = dictionary_deamplified_noised_h.get('wetdrys')\n",
    "diffusions_deamplified_noised_h = dictionary_deamplified_noised_h.get('diffusions')\n",
    "decayfactors_deamplified_noised_h = dictionary_deamplified_noised_h.get('decayfactors')"
   ]
  },
  {
   "cell_type": "markdown",
   "metadata": {},
   "source": [
    "### evaluate the set of Angry validation"
   ]
  },
  {
   "cell_type": "code",
   "execution_count": 28,
   "metadata": {},
   "outputs": [
    {
     "name": "stdout",
     "output_type": "stream",
     "text": [
      "correct = 624\n",
      "incorrect = 10\n",
      "error rate = 0.015772870662460567\n",
      "accuracy = 0.9842271293375394\n",
      "total files = 634\n"
     ]
    }
   ],
   "source": [
    "dictionary_deamplified_noised_a = top_eval_deamplified_noised([emotionFolders[1]])\n",
    "\n",
    "one_scores_deamplified_noised_a = dictionary_deamplified_noised_a.get('one_scores')\n",
    "zero_scores_deamplified_noised_a = dictionary_deamplified_noised_a.get('zero_scores')\n",
    "deamplified_dbs_deamplified_noised_a = dictionary_deamplified_noised_a.get('deamplified_dbs')\n",
    "wetdrys_deamplified_noised_a = dictionary_deamplified_noised_a.get('wetdrys')\n",
    "diffusions_deamplified_noised_a = dictionary_deamplified_noised_a.get('diffusions')\n",
    "decayfactors_deamplified_noised_a = dictionary_deamplified_noised_a.get('decayfactors')"
   ]
  },
  {
   "cell_type": "markdown",
   "metadata": {},
   "source": [
    "### evaluate the set of Neutral validation"
   ]
  },
  {
   "cell_type": "code",
   "execution_count": 29,
   "metadata": {},
   "outputs": [
    {
     "name": "stdout",
     "output_type": "stream",
     "text": [
      "correct = 572\n",
      "incorrect = 9\n",
      "error rate = 0.01549053356282272\n",
      "accuracy = 0.9845094664371773\n",
      "total files = 581\n"
     ]
    }
   ],
   "source": [
    "dictionary_deamplified_noised_n = top_eval_deamplified_noised([emotionFolders[2]])\n",
    "\n",
    "one_scores_deamplified_noised_n = dictionary_deamplified_noised_n.get('one_scores')\n",
    "zero_scores_deamplified_noised_n = dictionary_deamplified_noised_n.get('zero_scores')\n",
    "deamplified_dbs_deamplified_noised_n = dictionary_deamplified_noised_n.get('deamplified_dbs')\n",
    "wetdrys_deamplified_noised_n = dictionary_deamplified_noised_n.get('wetdrys')\n",
    "diffusions_deamplified_noised_n = dictionary_deamplified_noised_n.get('diffusions')\n",
    "decayfactors_deamplified_noised_n = dictionary_deamplified_noised_n.get('decayfactors')"
   ]
  },
  {
   "cell_type": "markdown",
   "metadata": {},
   "source": [
    "### evaluate the set of Sad validation"
   ]
  },
  {
   "cell_type": "code",
   "execution_count": 30,
   "metadata": {},
   "outputs": [
    {
     "name": "stdout",
     "output_type": "stream",
     "text": [
      "correct = 623\n",
      "incorrect = 9\n",
      "error rate = 0.014240506329113924\n",
      "accuracy = 0.9857594936708861\n",
      "total files = 632\n"
     ]
    }
   ],
   "source": [
    "dictionary_deamplified_noised_s = top_eval_deamplified_noised([emotionFolders[3]])\n",
    "\n",
    "one_scores_deamplified_noised_s = dictionary_deamplified_noised_s.get('one_scores')\n",
    "zero_scores_deamplified_noised_s = dictionary_deamplified_noised_s.get('zero_scores')\n",
    "deamplified_dbs_deamplified_noised_s = dictionary_deamplified_noised_s.get('deamplified_dbs')\n",
    "wetdrys_deamplified_noised_s = dictionary_deamplified_noised_s.get('wetdrys')\n",
    "diffusions_deamplified_noised_s = dictionary_deamplified_noised_s.get('diffusions')\n",
    "decayfactors_deamplified_noised_s = dictionary_deamplified_noised_s.get('decayfactors')"
   ]
  },
  {
   "cell_type": "markdown",
   "metadata": {},
   "source": [
    "### draw the plot (evaluation on only the wav files that are deamplified and mixed with noise)"
   ]
  },
  {
   "cell_type": "code",
   "execution_count": 51,
   "metadata": {},
   "outputs": [
    {
     "ename": "AttributeError",
     "evalue": "module 'graphs' has no attribute 'draw_scatter'",
     "output_type": "error",
     "traceback": [
      "\u001b[0;31m---------------------------------------------------------------------------\u001b[0m",
      "\u001b[0;31mAttributeError\u001b[0m                            Traceback (most recent call last)",
      "\u001b[0;32m<ipython-input-51-320738e14893>\u001b[0m in \u001b[0;36m<module>\u001b[0;34m\u001b[0m\n\u001b[1;32m      8\u001b[0m }\n\u001b[1;32m      9\u001b[0m \u001b[0;34m\u001b[0m\u001b[0m\n\u001b[0;32m---> 10\u001b[0;31m graphs.draw_scatter([zero_scores_deamplified_noised_h, deamplified_dbs_deamplified_noised_h], \\\n\u001b[0m\u001b[1;32m     11\u001b[0m        \u001b[0;34m[\u001b[0m\u001b[0mzero_scores_deamplified_noised_a\u001b[0m\u001b[0;34m,\u001b[0m \u001b[0mdeamplified_dbs_deamplified_noised_a\u001b[0m\u001b[0;34m]\u001b[0m\u001b[0;34m,\u001b[0m\u001b[0;31m \u001b[0m\u001b[0;31m\\\u001b[0m\u001b[0;34m\u001b[0m\u001b[0;34m\u001b[0m\u001b[0m\n\u001b[1;32m     12\u001b[0m        \u001b[0;34m[\u001b[0m\u001b[0mone_scores_deamplified_noised_n\u001b[0m\u001b[0;34m,\u001b[0m \u001b[0mdeamplified_dbs_deamplified_noised_n\u001b[0m\u001b[0;34m]\u001b[0m\u001b[0;34m,\u001b[0m\u001b[0;31m \u001b[0m\u001b[0;31m\\\u001b[0m\u001b[0;34m\u001b[0m\u001b[0;34m\u001b[0m\u001b[0m\n",
      "\u001b[0;31mAttributeError\u001b[0m: module 'graphs' has no attribute 'draw_scatter'"
     ]
    }
   ],
   "source": [
    "category_names = ['Error Rate', 'Accuracy']\n",
    "graph_title = 'Error rate and accuracy on only the reverberated wav files'\n",
    "results = {\n",
    "    'Happy': [dictionary_deamplified_noised_h.get('error_rate'), dictionary_deamplified_noised_h.get('accuracy')],\n",
    "    'Angry': [dictionary_deamplified_noised_a.get('error_rate'), dictionary_deamplified_noised_a.get('accuracy')],\n",
    "    'Neutral': [dictionary_deamplified_noised_n.get('error_rate'), dictionary_deamplified_noised_n.get('accuracy')],\n",
    "    'Sad': [dictionary_deamplified_noised_s.get('error_rate'), dictionary_deamplified_noised_s.get('accuracy')]\n",
    "}\n",
    "\n",
    "graphs.draw_scatter([zero_scores_deamplified_noised_h, deamplified_dbs_deamplified_noised_h], \\\n",
    "       [zero_scores_deamplified_noised_a, deamplified_dbs_deamplified_noised_a], \\\n",
    "       [one_scores_deamplified_noised_n, deamplified_dbs_deamplified_noised_n], \\\n",
    "       [one_scores_deamplified_noised_s, deamplified_dbs_deamplified_noised_h], \\\n",
    "       'The influence of noise and deamplification')\n",
    "draw(results, category_names, graph_title)"
   ]
  },
  {
   "cell_type": "markdown",
   "metadata": {},
   "source": [
    "## Only evaluate deamplified and noised and reverberated wav files"
   ]
  },
  {
   "cell_type": "markdown",
   "metadata": {},
   "source": [
    "### evaluate the set of Happy validation"
   ]
  },
  {
   "cell_type": "code",
   "execution_count": 32,
   "metadata": {},
   "outputs": [
    {
     "name": "stdout",
     "output_type": "stream",
     "text": [
      "correct = 634\n",
      "incorrect = 52\n",
      "error rate = 0.07580174927113703\n",
      "accuracy = 0.924198250728863\n",
      "total files = 686\n"
     ]
    }
   ],
   "source": [
    "dictionary_deamplified_noised_reverbed_h = top_eval_deamplified_noised_reverbed([emotionFolders[0]])\n",
    "\n",
    "one_scores_deamplified_noised_reverbed_h = dictionary_deamplified_noised_reverbed_h.get('one_scores')\n",
    "zero_scores_deamplified_noised_reverbed_h = dictionary_deamplified_noised_reverbed_h.get('zero_scores')\n",
    "deamplified_dbs_deamplified_noised_reverbed_h = dictionary_deamplified_noised_reverbed_h.get('deamplified_dbs')\n",
    "wetdrys_deamplified_noised_reverbed_h = dictionary_deamplified_noised_reverbed_h.get('wetdrys')\n",
    "diffusions_deamplified_noised_reverbed_h = dictionary_deamplified_noised_reverbed_h.get('diffusions')\n",
    "decayfactors_deamplified_noised_reverbed_h = dictionary_deamplified_noised_reverbed_h.get('decayfactors')"
   ]
  },
  {
   "cell_type": "markdown",
   "metadata": {},
   "source": [
    "### evaluate the set of Angry validation"
   ]
  },
  {
   "cell_type": "code",
   "execution_count": 33,
   "metadata": {},
   "outputs": [
    {
     "name": "stdout",
     "output_type": "stream",
     "text": [
      "correct = 642\n",
      "incorrect = 23\n",
      "error rate = 0.03458646616541353\n",
      "accuracy = 0.9654135338345865\n",
      "total files = 665\n"
     ]
    }
   ],
   "source": [
    "dictionary_deamplified_noised_reverbed_a = top_eval_deamplified_noised_reverbed([emotionFolders[1]])\n",
    "\n",
    "one_scores_deamplified_noised_reverbed_a = dictionary_deamplified_noised_reverbed_a.get('one_scores')\n",
    "zero_scores_deamplified_noised_reverbed_a = dictionary_deamplified_noised_reverbed_a.get('zero_scores')\n",
    "deamplified_dbs_deamplified_noised_reverbed_a = dictionary_deamplified_noised_reverbed_a.get('deamplified_dbs')\n",
    "wetdrys_deamplified_noised_reverbed_a = dictionary_deamplified_noised_reverbed_a.get('wetdrys')\n",
    "diffusions_deamplified_noised_reverbed_a = dictionary_deamplified_noised_reverbed_a.get('diffusions')\n",
    "decayfactors_deamplified_noised_reverbed_a = dictionary_deamplified_noised_reverbed_a.get('decayfactors')"
   ]
  },
  {
   "cell_type": "markdown",
   "metadata": {},
   "source": [
    "### evaluate the set of Neutral validation"
   ]
  },
  {
   "cell_type": "code",
   "execution_count": 34,
   "metadata": {},
   "outputs": [
    {
     "name": "stdout",
     "output_type": "stream",
     "text": [
      "correct = 519\n",
      "incorrect = 16\n",
      "error rate = 0.029906542056074768\n",
      "accuracy = 0.9700934579439252\n",
      "total files = 535\n"
     ]
    }
   ],
   "source": [
    "dictionary_deamplified_noised_reverbed_n = top_eval_deamplified_noised_reverbed([emotionFolders[2]])\n",
    "\n",
    "one_scores_deamplified_noised_reverbed_n = dictionary_deamplified_noised_reverbed_n.get('one_scores')\n",
    "zero_scores_deamplified_noised_reverbed_n = dictionary_deamplified_noised_reverbed_n.get('zero_scores')\n",
    "deamplified_dbs_deamplified_noised_reverbed_n = dictionary_deamplified_noised_reverbed_n.get('deamplified_dbs')\n",
    "wetdrys_deamplified_noised_reverbed_n = dictionary_deamplified_noised_reverbed_n.get('wetdrys')\n",
    "diffusions_deamplified_noised_reverbed_n = dictionary_deamplified_noised_reverbed_n.get('diffusions')\n",
    "decayfactors_deamplified_noised_reverbed_n = dictionary_deamplified_noised_reverbed_n.get('decayfactors')"
   ]
  },
  {
   "cell_type": "markdown",
   "metadata": {},
   "source": [
    "### evaluate the set of Sad validation"
   ]
  },
  {
   "cell_type": "code",
   "execution_count": 35,
   "metadata": {},
   "outputs": [
    {
     "name": "stdout",
     "output_type": "stream",
     "text": [
      "correct = 631\n",
      "incorrect = 23\n",
      "error rate = 0.035168195718654434\n",
      "accuracy = 0.9648318042813455\n",
      "total files = 654\n"
     ]
    }
   ],
   "source": [
    "dictionary_deamplified_noised_reverbed_s = top_eval_deamplified_noised_reverbed([emotionFolders[3]])\n",
    "\n",
    "one_scores_deamplified_noised_reverbed_s = dictionary_deamplified_noised_reverbed_s.get('one_scores')\n",
    "zero_scores_deamplified_noised_reverbed_s = dictionary_deamplified_noised_reverbed_s.get('zero_scores')\n",
    "deamplified_dbs_deamplified_noised_reverbed_s = dictionary_deamplified_noised_reverbed_s.get('deamplified_dbs')\n",
    "wetdrys_deamplified_noised_reverbed_s = dictionary_deamplified_noised_reverbed_s.get('wetdrys')\n",
    "diffusions_deamplified_noised_reverbed_s = dictionary_deamplified_noised_reverbed_s.get('diffusions')\n",
    "decayfactors_deamplified_noised_reverbed_s = dictionary_deamplified_noised_reverbed_s.get('decayfactors')"
   ]
  },
  {
   "cell_type": "markdown",
   "metadata": {},
   "source": [
    "### draw the plot (evaluation on only the wav files that are deamplified, mixed with noise, and reverberated)"
   ]
  },
  {
   "cell_type": "code",
   "execution_count": 36,
   "metadata": {},
   "outputs": [
    {
     "data": {
      "text/plain": [
       "(<Figure size 662.4x360 with 1 Axes>,\n",
       " <matplotlib.axes._subplots.AxesSubplot at 0x1c327ffe48>)"
      ]
     },
     "execution_count": 36,
     "metadata": {},
     "output_type": "execute_result"
    },
    {
     "data": {
      "image/png": "[encoded data removed]",
      "text/plain": [
       "<Figure size 662.4x360 with 1 Axes>"
      ]
     },
     "metadata": {
      "needs_background": "light"
     },
     "output_type": "display_data"
    }
   ],
   "source": [
    "category_names = ['Error Rate', 'Accuracy']\n",
    "graph_title = 'Evaluation on only the wav files that are deamplified, mixed with noise, and reverberated'\n",
    "results = {\n",
    "    'Happy': [dictionary_deamplified_noised_reverbed_h.get('error_rate'), \\\n",
    "              dictionary_deamplified_noised_reverbed_h.get('accuracy')], \\\n",
    "    'Angry': [dictionary_deamplified_noised_reverbed_a.get('error_rate'), \\\n",
    "              dictionary_deamplified_noised_reverbed_a.get('accuracy')], \\\n",
    "    'Neutral': [dictionary_deamplified_noised_reverbed_n.get('error_rate'), \\\n",
    "                dictionary_deamplified_noised_reverbed_n.get('accuracy')], \\\n",
    "    'Sad': [dictionary_deamplified_noised_reverbed_s.get('error_rate'), \\\n",
    "            dictionary_deamplified_noised_reverbed_s.get('accuracy')]\n",
    "}\n",
    "\n",
    "draw(results, category_names, graph_title)"
   ]
  },
  {
   "cell_type": "markdown",
   "metadata": {},
   "source": [
    "## Evaluate all wav files"
   ]
  },
  {
   "cell_type": "markdown",
   "metadata": {},
   "source": [
    "### evaluate the set of Happy validation"
   ]
  },
  {
   "cell_type": "code",
   "execution_count": 37,
   "metadata": {},
   "outputs": [
    {
     "name": "stdout",
     "output_type": "stream",
     "text": [
      "correct = 1887\n",
      "incorrect = 79\n",
      "error rate = 0.04018311291963377\n",
      "accuracy = 0.9598168870803663\n",
      "total files = 1966\n"
     ]
    }
   ],
   "source": [
    "dictionary_all_h = top_eval_all([emotionFolders[0]])\n",
    "\n",
    "one_scores_all_h = dictionary_all_h.get('one_scores')\n",
    "zero_scores_all_h = dictionary_all_h.get('zero_scores')\n",
    "deamplified_dbs_all_h = dictionary_all_h.get('deamplified_dbs')\n",
    "wetdrys_all_h = dictionary_all_h.get('wetdrys')\n",
    "diffusions_all_h = dictionary_all_h.get('diffusions')\n",
    "decayfactors_all_h = dictionary_all_h.get('decayfactors')"
   ]
  },
  {
   "cell_type": "markdown",
   "metadata": {},
   "source": [
    "### evaluate the set of Angry validation"
   ]
  },
  {
   "cell_type": "code",
   "execution_count": 38,
   "metadata": {},
   "outputs": [
    {
     "name": "stdout",
     "output_type": "stream",
     "text": [
      "correct = 1906\n",
      "incorrect = 36\n",
      "error rate = 0.018537590113285273\n",
      "accuracy = 0.9814624098867147\n",
      "total files = 1942\n"
     ]
    }
   ],
   "source": [
    "dictionary_all_a = top_eval_all([emotionFolders[1]])\n",
    "\n",
    "one_scores_all_a = dictionary_all_a.get('one_scores')\n",
    "zero_scores_all_a = dictionary_all_a.get('zero_scores')\n",
    "deamplified_dbs_all_a = dictionary_all_a.get('deamplified_dbs')\n",
    "wetdrys_all_a = dictionary_all_a.get('wetdrys')\n",
    "diffusions_all_a = dictionary_all_a.get('diffusions')\n",
    "decayfactors_all_a = dictionary_all_a.get('decayfactors')"
   ]
  },
  {
   "cell_type": "markdown",
   "metadata": {},
   "source": [
    "### evaluate the set of Neutral validation"
   ]
  },
  {
   "cell_type": "code",
   "execution_count": 39,
   "metadata": {},
   "outputs": [
    {
     "name": "stdout",
     "output_type": "stream",
     "text": [
      "correct = 1670\n",
      "incorrect = 26\n",
      "error rate = 0.015330188679245283\n",
      "accuracy = 0.9846698113207547\n",
      "total files = 1696\n"
     ]
    }
   ],
   "source": [
    "dictionary_all_n = top_eval_all([emotionFolders[2]])\n",
    "\n",
    "one_scores_all_n = dictionary_all_n.get('one_scores')\n",
    "zero_scores_all_n = dictionary_all_n.get('zero_scores')\n",
    "deamplified_dbs_all_n = dictionary_all_n.get('deamplified_dbs')\n",
    "wetdrys_all_n = dictionary_all_n.get('wetdrys')\n",
    "diffusions_all_n = dictionary_all_n.get('diffusions')\n",
    "decayfactors_all_n = dictionary_all_n.get('decayfactors')"
   ]
  },
  {
   "cell_type": "markdown",
   "metadata": {},
   "source": [
    "### evaluate the set of Sad validation"
   ]
  },
  {
   "cell_type": "code",
   "execution_count": 40,
   "metadata": {},
   "outputs": [
    {
     "name": "stdout",
     "output_type": "stream",
     "text": [
      "correct = 1911\n",
      "incorrect = 36\n",
      "error rate = 0.01848998459167951\n",
      "accuracy = 0.9815100154083205\n",
      "total files = 1947\n"
     ]
    }
   ],
   "source": [
    "dictionary_all_s = top_eval_all([emotionFolders[3]])\n",
    "\n",
    "one_scores_all_s = dictionary_all_s.get('one_scores')\n",
    "zero_scores_all_s = dictionary_all_s.get('zero_scores')\n",
    "deamplified_dbs_all_s = dictionary_all_s.get('deamplified_dbs')\n",
    "wetdrys_all_s = dictionary_all_s.get('wetdrys')\n",
    "diffusions_all_s = dictionary_all_s.get('diffusions')\n",
    "decayfactors_all_s = dictionary_all_s.get('decayfactors')"
   ]
  },
  {
   "cell_type": "markdown",
   "metadata": {},
   "source": [
    "### draw the plot (evaluation on all the wav files)"
   ]
  },
  {
   "cell_type": "code",
   "execution_count": 41,
   "metadata": {},
   "outputs": [
    {
     "data": {
      "text/plain": [
       "(<Figure size 662.4x360 with 1 Axes>,\n",
       " <matplotlib.axes._subplots.AxesSubplot at 0x1c3286eda0>)"
      ]
     },
     "execution_count": 41,
     "metadata": {},
     "output_type": "execute_result"
    },
    {
     "data": {
      "image/png": "[encoded data removed]",
      "text/plain": [
       "<Figure size 662.4x360 with 1 Axes>"
      ]
     },
     "metadata": {
      "needs_background": "light"
     },
     "output_type": "display_data"
    }
   ],
   "source": [
    "category_names = ['Error Rate', 'Accuracy']\n",
    "graph_title = 'Evaluation on all the wav files'\n",
    "results = {\n",
    "    'Happy': [dictionary_all_h.get('error_rate'), dictionary_all_h.get('accuracy')],\n",
    "    'Angry': [dictionary_all_a.get('error_rate'), dictionary_all_a.get('accuracy')],\n",
    "    'Neutral': [dictionary_all_n.get('error_rate'), dictionary_all_n.get('accuracy')],\n",
    "    'Sad': [dictionary_all_s.get('error_rate'), dictionary_all_s.get('accuracy')]\n",
    "}\n",
    "\n",
    "draw(results, category_names, graph_title)"
   ]
  },
  {
   "cell_type": "code",
   "execution_count": null,
   "metadata": {},
   "outputs": [],
   "source": []
  }
 ],
 "metadata": {
  "kernelspec": {
   "display_name": "Python 3",
   "language": "python",
   "name": "python3"
  },
  "language_info": {
   "codemirror_mode": {
    "name": "ipython",
    "version": 3
   },
   "file_extension": ".py",
   "mimetype": "text/x-python",
   "name": "python",
   "nbconvert_exporter": "python",
   "pygments_lexer": "ipython3",
   "version": "3.6.8"
  }
 },
 "nbformat": 4,
 "nbformat_minor": 2
}
