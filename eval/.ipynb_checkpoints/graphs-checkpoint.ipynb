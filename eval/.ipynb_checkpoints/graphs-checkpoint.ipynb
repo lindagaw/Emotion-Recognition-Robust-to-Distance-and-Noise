{
 "cells": [
  {
   "cell_type": "code",
   "execution_count": 3,
   "metadata": {},
   "outputs": [],
   "source": [
    "import numpy as np\n",
    "import matplotlib.pyplot as plt\n",
    "import pandas as pd\n",
    "import seaborn as sns\n",
    "import random\n",
    "import matplotlib"
   ]
  },
  {
   "cell_type": "code",
   "execution_count": 14,
   "metadata": {},
   "outputs": [],
   "source": [
    "def one_emotion_four_reverb_factors(emotion_x, acc):\n",
    "    x_measurement = [2, 4, 6, 8]\n",
    "   \n",
    "    emotion_x, acc = sort_pair_ascending_xs(list(emotion_x), list(acc))\n",
    "    two_acc = []\n",
    "    four_acc = []\n",
    "    six_acc = []\n",
    "    eight_acc = []\n",
    "    \n",
    "    for index in range(0, len(emotion_x)):\n",
    "        if emotion_x[index] == 2:\n",
    "            two_acc.append(acc[index])\n",
    "        elif emotion_x[index] == 4:\n",
    "            four_acc.append(acc[index])\n",
    "        elif emotion_x[index] == 6:\n",
    "            six_acc.append(acc[index])\n",
    "        elif emotion_x[index] == 8:\n",
    "            eight_acc.append(acc[index])\n",
    "    \n",
    "    return two_acc, four_acc, six_acc, eight_acc"
   ]
  },
  {
   "cell_type": "code",
   "execution_count": 4,
   "metadata": {},
   "outputs": [],
   "source": [
    "def sort_pair_ascending_xs(xs, ys):\n",
    "    li = []\n",
    "    for x, y in zip(xs, ys):\n",
    "        li.append((x, y))\n",
    "    \n",
    "    li = sorted(li, key=lambda x: x[0])\n",
    "    \n",
    "    ret_xs = []\n",
    "    ret_ys = []\n",
    "    for x, y in li:\n",
    "        ret_xs.append(x)\n",
    "        ret_ys.append(y)\n",
    "        \n",
    "    return ret_xs, ret_ys"
   ]
  },
  {
   "cell_type": "code",
   "execution_count": 5,
   "metadata": {},
   "outputs": [],
   "source": [
    "def draw_scatter_reverb_factors(h, a, n, s, title, xlabel, ylabel):\n",
    "    happy_x, happy_y = sort_pair_ascending_xs(h[0], h[1])\n",
    "    angry_x, angry_y = sort_pair_ascending_xs(a[0], a[1])\n",
    "    neutral_x, neutral_y = sort_pair_ascending_xs(n[0], n[1])\n",
    "    sad_x, sad_y = sort_pair_ascending_xs(s[0], s[1])\n",
    "    \n",
    "    for element in range(0, len(happy_x)): elements += 0.01\n",
    "    for element in range(0, len(angry_x)): elements += 0.01\n",
    "    for element in range(0, len(neutral_x)): elements += 0.01\n",
    "    for element in range(0, len(sad_x)): elements += 0.01\n",
    "\n",
    "    fig, ax = plt.subplots()\n",
    "    scale = 30\n",
    "    \n",
    "    ax.set_title(title, y=-0.4)\n",
    "    ax.set_xlabel(xlabel)\n",
    "    ax.set_ylabel(ylabel)\n",
    "    \n",
    "    ax.scatter(happy_x, happy_y, c='green', s=scale, label='Happy', alpha=0.6, edgecolors='none')\n",
    "    ax.scatter(angry_x, angry_y, c='red', s=scale, label='Angry', alpha=0.6, edgecolors='none')\n",
    "    ax.scatter(neutral_x, neutral_y, c='yellow', s=scale, label='Neutral', alpha=0.6, edgecolors='none')\n",
    "    ax.scatter(sad_x, sad_y, c='blue', s=scale, label='Sad', alpha=0.6, edgecolors='none')\n",
    "    ax.legend()\n",
    "    ax.grid(True)\n",
    "\n",
    "    plt.show()"
   ]
  },
  {
   "cell_type": "code",
   "execution_count": 6,
   "metadata": {},
   "outputs": [],
   "source": [
    "def draw_scatter(h, a, n, s, title, xlabel, ylabel):\n",
    "    happy_x, happy_y = sort_pair_ascending_xs(h[0], h[1])\n",
    "    angry_x, angry_y = sort_pair_ascending_xs(a[0], a[1])\n",
    "    neutral_x, neutral_y = sort_pair_ascending_xs(n[0], n[1])\n",
    "    sad_x, sad_y = sort_pair_ascending_xs(s[0], s[1])\n",
    "\n",
    "    fig, ax = plt.subplots()\n",
    "    scale = 30\n",
    "    \n",
    "    ax.set_title(title, y=-0.4)\n",
    "    ax.set_xlabel(xlabel)\n",
    "    ax.set_ylabel(ylabel)\n",
    "    \n",
    "    ax.scatter(happy_x, happy_y, c='green', s=scale, label='Happy', alpha=0.6, edgecolors='none')\n",
    "    ax.scatter(angry_x, angry_y, c='red', s=scale, label='Angry', alpha=0.6, edgecolors='none')\n",
    "    ax.scatter(neutral_x, neutral_y, c='yellow', s=scale, label='Neutral', alpha=0.6, edgecolors='none')\n",
    "    ax.scatter(sad_x, sad_y, c='blue', s=scale, label='Sad', alpha=0.6, edgecolors='none')\n",
    "    ax.legend()\n",
    "    ax.grid(True)\n",
    "\n",
    "    plt.show()"
   ]
  },
  {
   "cell_type": "code",
   "execution_count": 53,
   "metadata": {},
   "outputs": [],
   "source": [
    "def histogram(h, a, n, s, title):\n",
    "    \n",
    "    x_measurement = [2, 4, 6, 8]\n",
    "    \n",
    "    \n",
    "    labels = ['2', '4', '6', '8']\n",
    "    h_means = [20, 34, 30, 35]\n",
    "    a_means = [25, 32, 34, 20]\n",
    "    n_means = [25, 32, 34, 20]\n",
    "    s_means = [25, 32, 34, 20]\n",
    "    \n",
    "\n",
    "    h_x, h_acc = sort_pair_ascending_xs(h[0], h[1])\n",
    "    two_acc_h, four_acc_h, six_acc_h, eight_acc_h = one_emotion_four_reverb_factors(h_x, h_acc)\n",
    "    \n",
    "    two_acc_h_mean = np.mean(two_acc_h)\n",
    "    four_acc_h_mean = np.mean(four_acc_h)\n",
    "    six_acc_h_mean = np.mean(six_acc_h)\n",
    "    eight_acc_h_mean = np.mean(eight_acc_h)\n",
    "    \n",
    "    x = np.arange(len(x_measurement))  # the label locations\n",
    "    \n",
    "    width = 0.2  # the width of the bars\n",
    "    fig, ax = plt.subplots()\n",
    "    \n",
    "    #rect1 = ax.bar(x - 2 * width, two_acc_n, width, label='Accuracy on Happy', color='#8dff33')\n",
    "    #rect2 = ax.bar(x - width, four_acc_n, width, label='Accuracy on Angry', color='#ff5733')\n",
    "    rect3 = ax.bar(x, n_means, width, label='Accuracy on Neutral', color='#ffd133')\n",
    "    #rect4 = ax.bar(x + width, eight_acc_n, width, label='Accuracy on Sad', color='#3374ff')\n",
    "    \n",
    "    # Add some text for labels, title and custom x-axis tick labels, etc.\n",
    "    ax.set_ylabel('Scores')\n",
    "    ax.set_title('Scores by group and gender')\n",
    "    ax.set_xticks(x)\n",
    "    ax.set_xticklabels(labels)\n",
    "    ax.legend()\n"
   ]
  },
  {
   "cell_type": "code",
   "execution_count": 54,
   "metadata": {},
   "outputs": [
    {
     "data": {
      "image/png": "[encoded data removed]",
      "text/plain": [
       "<Figure size 432x288 with 1 Axes>"
      ]
     },
     "metadata": {
      "needs_background": "light"
     },
     "output_type": "display_data"
    }
   ],
   "source": [
    "happy_x = np.load('wetdrys_deamplified_noised_reverbed_h.npy')\n",
    "happy_y = np.load('zero_scores_deamplified_noised_reverbed_h.npy')\n",
    "h = [happy_x, happy_y]\n",
    "\n",
    "a = [[],[]]\n",
    "\n",
    "n = [[],[]]\n",
    "\n",
    "s = [[],[]]\n",
    "\n",
    "title = 'how wet/dry ratio affects the performance of the classifier in the presence of background noise'\n",
    "xlabel = 'deamplified amount measured in decibels'\n",
    "ylabel = 'score on the ground truth class of an audio clip'\n",
    "histogram(h, a, n, s, title)"
   ]
  },
  {
   "cell_type": "code",
   "execution_count": 2,
   "metadata": {},
   "outputs": [],
   "source": [
    "category_names = ['error rate', 'accuracy']\n",
    "results = {'Happy': [0.0030, 0.9970], 'Angry': [0.0031, 0.9969], 'Neutral': [0.0, 1.0], 'Sad': [0.0, 1.0]\n",
    "           }\n",
    "graph_title = 'my_graph_title'"
   ]
  },
  {
   "cell_type": "code",
   "execution_count": 7,
   "metadata": {},
   "outputs": [],
   "source": [
    "def draw(results, category_names, graph_title):\n",
    "    labels = list(results.keys())\n",
    "    data = np.array(list(results.values()))\n",
    "    data_cum = data.cumsum(axis=1)\n",
    "    category_colors = plt.get_cmap('RdYlGn')(\n",
    "        np.linspace(0.15, 0.85, data.shape[1]))\n",
    "\n",
    "    fig, ax = plt.subplots(figsize=(9.2, 5))\n",
    "    ax.set_title(graph_title, y=-0.1)\n",
    "    ax.invert_yaxis()\n",
    "    ax.xaxis.set_visible(False)\n",
    "    ax.set_xlim(0, np.sum(data, axis=1).max())\n",
    "\n",
    "    for i, (colname, color) in enumerate(zip(category_names, category_colors)):\n",
    "        widths = data[:, i]\n",
    "        starts = data_cum[:, i] - widths\n",
    "        ax.barh(labels, widths, left=starts, height=0.5,\n",
    "                label=colname, color=color)\n",
    "        xcenters = starts + widths / 2\n",
    "\n",
    "        r, g, b, _ = color\n",
    "        text_color = 'black' if r * g * b < 0.5 else 'darkgrey'\n",
    "        for y, (x, c) in enumerate(zip(xcenters, widths)):\n",
    "            if c < 0.01:\n",
    "                continue\n",
    "            ax.text(x, y, str(float(c))[:5], ha='center',\n",
    "                    va='center', color=text_color)\n",
    "    ax.legend(ncol=len(category_names), bbox_to_anchor=(0, 1),\n",
    "              loc='lower left', fontsize='small')\n",
    "\n",
    "    return fig, ax"
   ]
  },
  {
   "cell_type": "code",
   "execution_count": 8,
   "metadata": {},
   "outputs": [
    {
     "data": {
      "text/plain": [
       "(<Figure size 662.4x360 with 1 Axes>,\n",
       " <matplotlib.axes._subplots.AxesSubplot at 0x1a137eddd8>)"
      ]
     },
     "execution_count": 8,
     "metadata": {},
     "output_type": "execute_result"
    },
    {
     "data": {
      "image/png": "[encoded data removed]",
      "text/plain": [
       "<Figure size 662.4x360 with 1 Axes>"
      ]
     },
     "metadata": {
      "needs_background": "light"
     },
     "output_type": "display_data"
    }
   ],
   "source": [
    "draw(results, category_names, graph_title)"
   ]
  },
  {
   "cell_type": "code",
   "execution_count": 9,
   "metadata": {},
   "outputs": [],
   "source": [
    "def autolabel(rects):\n",
    "    \"\"\"Attach a text label above each bar in *rects*, displaying its height.\"\"\"\n",
    "    for rect in rects:\n",
    "        height = rect.get_height()\n",
    "        ax.annotate('{}'.format(height),\n",
    "                    xy=(rect.get_x() + rect.get_width() / 2, height),\n",
    "                    xytext=(0, 3),  # 3 points vertical offset\n",
    "                    textcoords=\"offset points\",\n",
    "                    ha='center', va='bottom')"
   ]
  },
  {
   "cell_type": "code",
   "execution_count": 10,
   "metadata": {},
   "outputs": [],
   "source": [
    "def one_emotion_four_reverb_factors(emotion_x, acc):\n",
    "    x_measurement = [2, 4, 6, 8]\n",
    "   \n",
    "    emotion_x, acc = sort_pair_ascending_xs(list(emotion_x), list(acc))\n",
    "    two_acc = []\n",
    "    twos = []\n",
    "    four_acc = []\n",
    "    fours = []\n",
    "    six_acc = []\n",
    "    sixs = []\n",
    "    eight_acc = []\n",
    "    eights = []\n",
    "    \n",
    "    for index in range(0, len(emotion_x)):\n",
    "        if emotion_x[index] == 2:\n",
    "            twos.append(2)\n",
    "            two_acc.append(acc[index])\n",
    "        elif emotion_x[index] == 4:\n",
    "            fours.append(4)\n",
    "            four_acc.append(acc[index])\n",
    "        elif emotion_x[index] == 6:\n",
    "            sixs.append(6)\n",
    "            six_acc.append(acc[index])\n",
    "        elif emotion_x[index] == 8:\n",
    "            eights.append(8)\n",
    "            eight_acc.append(acc[index])\n",
    "    \n",
    "    return twos, two_acc, fours, four_acc, sixs, six_acc, eights, eight_acc\n",
    "    "
   ]
  },
  {
   "cell_type": "code",
   "execution_count": 14,
   "metadata": {},
   "outputs": [],
   "source": [
    "def histogram(h, a, n, s, x_description, title):\n",
    "    \n",
    "    x_measurement = [2, 4, 6, 8]\n",
    "    \n",
    "    #h_x, h_acc = sort_pair_ascending_xs(h[0], h[1])\n",
    "    #a_x, a_acc = sort_pair_ascending_xs(a[0], a[1])\n",
    "    n_x, n_acc = sort_pair_ascending_xs(n[0], n[1])\n",
    "    #s_x, s_acc = sort_pair_ascending_xs(s[0], s[1])\n",
    "    \n",
    "    print(n_acc)\n",
    "    \n",
    "    x = np.arange(len(x_measurement))  # the label locations\n",
    "    \n",
    "    width = 0.2  # the width of the bars\n",
    "    fig, ax = plt.subplots()\n",
    "    \n",
    "    #rect1 = ax.bar(x - 2 * width, h_acc, width, label='Accuracy on Happy', color='#8dff33')\n",
    "    #rect2 = ax.bar(x - width, a_acc, width, label='Accuracy on Angry', color='#ff5733')\n",
    "    rect3 = ax.bar(x, n_acc, width, label='Accuracy on Neutral', color='#ffd133')\n",
    "    #rect4 = ax.bar(x + width, s_acc, width, label='Accuracy on Sad', color='#3374ff')\n",
    "    \n",
    "    # Add some text for labels, title and custom x-axis tick labels, etc.\n",
    "    ax.set_title(title, y=-0.4)\n",
    "    ax.set_ylabel('Accuracy')\n",
    "    ax.set_title('Scores by group and gender')\n",
    "    ax.set_xticks(x)\n",
    "    ax.set_xticklabels(x_description)\n",
    "    ax.legend()"
   ]
  },
  {
   "cell_type": "code",
   "execution_count": 15,
   "metadata": {},
   "outputs": [
    {
     "name": "stdout",
     "output_type": "stream",
     "text": [
      "[20, 22, 23, 31]\n"
     ]
    },
    {
     "data": {
      "image/png": "[encoded data removed]",
      "text/plain": [
       "<Figure size 432x288 with 1 Axes>"
      ]
     },
     "metadata": {
      "needs_background": "light"
     },
     "output_type": "display_data"
    }
   ],
   "source": [
    "h_acc = h_error = random.sample(range(0, 40), 4)\n",
    "a_acc = a_error = random.sample(range(0, 40), 4)\n",
    "n_acc = n_error = random.sample(range(0, 40), 4)\n",
    "s_acc = s_error = random.sample(range(0, 40), 4)\n",
    "\n",
    "x_measurement = [2, 4, 6, 8]\n",
    "x_description = 'description x'\n",
    "title = 'description title'\n",
    "\n",
    "histogram([h_acc, h_error], [a_acc, a_error], [n_acc, n_error], [s_acc, s_error], x_description, title)"
   ]
  },
  {
   "cell_type": "code",
   "execution_count": null,
   "metadata": {},
   "outputs": [],
   "source": [
    "h_acc = h_error = random.sample(range(0, 40), 5)\n",
    "a_acc = a_error = random.sample(range(0, 40), 5)\n",
    "n_acc = n_error = random.sample(range(0, 40), 5)\n",
    "s_acc = s_error = random.sample(range(0, 40), 5)\n",
    "\n",
    "x_measurement = [1, 2, 3, 4, 5]\n",
    "x_description = 'description x'\n",
    "title = 'description title'\n",
    "\n",
    "histogram(h_acc, a_acc, n_acc, s_acc, x_measurement, x_description, title)"
   ]
  },
  {
   "cell_type": "code",
   "execution_count": null,
   "metadata": {},
   "outputs": [],
   "source": []
  }
 ],
 "metadata": {
  "kernelspec": {
   "display_name": "Python 3",
   "language": "python",
   "name": "python3"
  },
  "language_info": {
   "codemirror_mode": {
    "name": "ipython",
    "version": 3
   },
   "file_extension": ".py",
   "mimetype": "text/x-python",
   "name": "python",
   "nbconvert_exporter": "python",
   "pygments_lexer": "ipython3",
   "version": "3.6.8"
  }
 },
 "nbformat": 4,
 "nbformat_minor": 2
}
